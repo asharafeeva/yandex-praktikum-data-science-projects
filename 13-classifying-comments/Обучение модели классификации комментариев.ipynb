{
 "cells": [
  {
   "cell_type": "markdown",
   "id": "6eb941ad",
   "metadata": {},
   "source": [
    "<a id='Содержание'></a>"
   ]
  },
  {
   "cell_type": "markdown",
   "id": "02650d47",
   "metadata": {},
   "source": [
    "<h1>Содержание<span class=\"tocSkip\"></span></h1> "
   ]
  },
  {
   "cell_type": "markdown",
   "id": "24ad7e5f",
   "metadata": {},
   "source": [
    "<div class=\"toc\"><ul class=\"toc-item\"><li><span><a  href=\"#Введение\" data-toc-modified-id=\"Введение-0\"><span class=\"toc-item-num\">0&nbsp;&nbsp;</span>Введение</a></span></li><li><span><a href=\"#Подготовка\" data-toc-modified-id=\"Подготовка-1\"><span class=\"toc-item-num\">1&nbsp;&nbsp;</span>Подготовка</a></span></li><li><span><a href=\"#Обучение\" data-toc-modified-id=\"Обучение-2\"><span class=\"toc-item-num\">2&nbsp;&nbsp;</span>Обучение</a></span></li><li><span><a href=\"#Выводы\" data-toc-modified-id=\"Выводы-3\"><span class=\"toc-item-num\">3&nbsp;&nbsp;</span>Выводы</a></span></li>"
   ]
  },
  {
   "cell_type": "markdown",
   "id": "4de78457",
   "metadata": {},
   "source": [
    "## Введение"
   ]
  },
  {
   "cell_type": "markdown",
   "id": "0287baca",
   "metadata": {},
   "source": [
    "Цель: Обучить модель классифицировать комментарии на позитивные и негативные со значением метрики качества *F1* не меньше 0.75.\n",
    "\n",
    "Исходные данные: набор данных с разметкой о токсичности правок.\n",
    "\n",
    "**Ход работы**\n",
    "\n",
    "1. Загрузить и подготовить данные.\n",
    "2. Обучить разные модели. \n",
    "3. Сделать выводы."
   ]
  },
  {
   "cell_type": "markdown",
   "id": "3a8d1638",
   "metadata": {},
   "source": [
    "## 1 Подготовка"
   ]
  },
  {
   "cell_type": "markdown",
   "id": "2c5e19f5",
   "metadata": {},
   "source": [
    "<a id='Подготовка'></a>"
   ]
  },
  {
   "cell_type": "markdown",
   "id": "12a094d0",
   "metadata": {},
   "source": [
    "<div class=\"toc\"><ul class=\"toc-item\"><li><span><a href=\"#Содержание\" data-toc-modified-id=\"Содержание\"><span class=\"toc-item-num\"&nbsp;&nbsp;</span>Содержание</a></span></li>\n",
    "</span></li></ul></div>"
   ]
  },
  {
   "cell_type": "markdown",
   "id": "dbdb94d6",
   "metadata": {},
   "source": [
    "Для начала импортируем необходимые библиотеки. Задачу будем решать с использованием нейронной сети BERT. Для этого выполним загрузку библиотек torch и transformers.\n",
    "\n",
    "PyTorch (англ. «факел для Python») применяется в задачах обработки естественного текста и компьютерного зрения.\n",
    "\n",
    "В Transformers находятся модели типа BERT."
   ]
  },
  {
   "cell_type": "code",
   "execution_count": 1,
   "id": "2c14cc3b",
   "metadata": {},
   "outputs": [],
   "source": [
    "import numpy as np\n",
    "import pandas as pd\n",
    "\n",
    "import torch\n",
    "import transformers as ppb\n",
    "\n",
    "from tqdm import notebook\n",
    "\n",
    "from sklearn.linear_model import LogisticRegression\n",
    "from sklearn.model_selection import (\n",
    "    cross_val_score,\n",
    "    GridSearchCV, \n",
    "    RandomizedSearchCV,\n",
    "    train_test_split\n",
    ")    \n",
    "\n",
    "from numpy.random import RandomState\n",
    "\n",
    "from sklearn.metrics import f1_score\n",
    "\n",
    "state = RandomState(12345)\n",
    "from sklearn.ensemble import RandomForestClassifier\n",
    "from catboost import CatBoostClassifier\n",
    "\n",
    "import re\n",
    "\n",
    "from lightgbm import LGBMClassifier"
   ]
  },
  {
   "cell_type": "markdown",
   "id": "e5d1d37f",
   "metadata": {},
   "source": [
    "Выполним чтение данных"
   ]
  },
  {
   "cell_type": "code",
   "execution_count": 2,
   "id": "f181f3db",
   "metadata": {},
   "outputs": [],
   "source": [
    "df = pd.read_csv(r'C:\\Users\\aygul\\OneDrive\\Документы\\Практикум\\Проект для «Викишоп»\\toxic_comments.csv')"
   ]
  },
  {
   "cell_type": "code",
   "execution_count": 3,
   "id": "ccd015d2",
   "metadata": {},
   "outputs": [
    {
     "data": {
      "text/html": [
       "<div>\n",
       "<style scoped>\n",
       "    .dataframe tbody tr th:only-of-type {\n",
       "        vertical-align: middle;\n",
       "    }\n",
       "\n",
       "    .dataframe tbody tr th {\n",
       "        vertical-align: top;\n",
       "    }\n",
       "\n",
       "    .dataframe thead th {\n",
       "        text-align: right;\n",
       "    }\n",
       "</style>\n",
       "<table border=\"1\" class=\"dataframe\">\n",
       "  <thead>\n",
       "    <tr style=\"text-align: right;\">\n",
       "      <th></th>\n",
       "      <th>Unnamed: 0</th>\n",
       "      <th>text</th>\n",
       "      <th>toxic</th>\n",
       "    </tr>\n",
       "  </thead>\n",
       "  <tbody>\n",
       "    <tr>\n",
       "      <th>0</th>\n",
       "      <td>0</td>\n",
       "      <td>Explanation\\nWhy the edits made under my usern...</td>\n",
       "      <td>0</td>\n",
       "    </tr>\n",
       "    <tr>\n",
       "      <th>1</th>\n",
       "      <td>1</td>\n",
       "      <td>D'aww! He matches this background colour I'm s...</td>\n",
       "      <td>0</td>\n",
       "    </tr>\n",
       "    <tr>\n",
       "      <th>2</th>\n",
       "      <td>2</td>\n",
       "      <td>Hey man, I'm really not trying to edit war. It...</td>\n",
       "      <td>0</td>\n",
       "    </tr>\n",
       "    <tr>\n",
       "      <th>3</th>\n",
       "      <td>3</td>\n",
       "      <td>\"\\nMore\\nI can't make any real suggestions on ...</td>\n",
       "      <td>0</td>\n",
       "    </tr>\n",
       "    <tr>\n",
       "      <th>4</th>\n",
       "      <td>4</td>\n",
       "      <td>You, sir, are my hero. Any chance you remember...</td>\n",
       "      <td>0</td>\n",
       "    </tr>\n",
       "    <tr>\n",
       "      <th>...</th>\n",
       "      <td>...</td>\n",
       "      <td>...</td>\n",
       "      <td>...</td>\n",
       "    </tr>\n",
       "    <tr>\n",
       "      <th>159287</th>\n",
       "      <td>159446</td>\n",
       "      <td>\":::::And for the second time of asking, when ...</td>\n",
       "      <td>0</td>\n",
       "    </tr>\n",
       "    <tr>\n",
       "      <th>159288</th>\n",
       "      <td>159447</td>\n",
       "      <td>You should be ashamed of yourself \\n\\nThat is ...</td>\n",
       "      <td>0</td>\n",
       "    </tr>\n",
       "    <tr>\n",
       "      <th>159289</th>\n",
       "      <td>159448</td>\n",
       "      <td>Spitzer \\n\\nUmm, theres no actual article for ...</td>\n",
       "      <td>0</td>\n",
       "    </tr>\n",
       "    <tr>\n",
       "      <th>159290</th>\n",
       "      <td>159449</td>\n",
       "      <td>And it looks like it was actually you who put ...</td>\n",
       "      <td>0</td>\n",
       "    </tr>\n",
       "    <tr>\n",
       "      <th>159291</th>\n",
       "      <td>159450</td>\n",
       "      <td>\"\\nAnd ... I really don't think you understand...</td>\n",
       "      <td>0</td>\n",
       "    </tr>\n",
       "  </tbody>\n",
       "</table>\n",
       "<p>159292 rows × 3 columns</p>\n",
       "</div>"
      ],
      "text/plain": [
       "        Unnamed: 0                                               text  toxic\n",
       "0                0  Explanation\\nWhy the edits made under my usern...      0\n",
       "1                1  D'aww! He matches this background colour I'm s...      0\n",
       "2                2  Hey man, I'm really not trying to edit war. It...      0\n",
       "3                3  \"\\nMore\\nI can't make any real suggestions on ...      0\n",
       "4                4  You, sir, are my hero. Any chance you remember...      0\n",
       "...            ...                                                ...    ...\n",
       "159287      159446  \":::::And for the second time of asking, when ...      0\n",
       "159288      159447  You should be ashamed of yourself \\n\\nThat is ...      0\n",
       "159289      159448  Spitzer \\n\\nUmm, theres no actual article for ...      0\n",
       "159290      159449  And it looks like it was actually you who put ...      0\n",
       "159291      159450  \"\\nAnd ... I really don't think you understand...      0\n",
       "\n",
       "[159292 rows x 3 columns]"
      ]
     },
     "execution_count": 3,
     "metadata": {},
     "output_type": "execute_result"
    }
   ],
   "source": [
    "df"
   ]
  },
  {
   "cell_type": "markdown",
   "id": "aaa537c7",
   "metadata": {},
   "source": [
    "Столбец Unnamed не несет информативной составляющей, поэтому его можно удалить."
   ]
  },
  {
   "cell_type": "code",
   "execution_count": 4,
   "id": "f3c41c5a",
   "metadata": {},
   "outputs": [],
   "source": [
    "df = df.drop('Unnamed: 0', axis=1)"
   ]
  },
  {
   "cell_type": "markdown",
   "id": "c304c465",
   "metadata": {},
   "source": [
    "Выведем информацию о датасете"
   ]
  },
  {
   "cell_type": "code",
   "execution_count": 5,
   "id": "51cbeed0",
   "metadata": {
    "scrolled": true
   },
   "outputs": [
    {
     "name": "stdout",
     "output_type": "stream",
     "text": [
      "<class 'pandas.core.frame.DataFrame'>\n",
      "RangeIndex: 159292 entries, 0 to 159291\n",
      "Data columns (total 2 columns):\n",
      " #   Column  Non-Null Count   Dtype \n",
      "---  ------  --------------   ----- \n",
      " 0   text    159292 non-null  object\n",
      " 1   toxic   159292 non-null  int64 \n",
      "dtypes: int64(1), object(1)\n",
      "memory usage: 2.4+ MB\n"
     ]
    }
   ],
   "source": [
    "df.info()"
   ]
  },
  {
   "cell_type": "markdown",
   "id": "c41e2b29",
   "metadata": {},
   "source": [
    "Добавим формулу для очистки корпуса от текстов содержащих слова, состоящие не только из букв.\n",
    "Сделаем обработку от дубликатов, а также проанализируем состав классов, содержащихся в датасете."
   ]
  },
  {
   "cell_type": "code",
   "execution_count": 6,
   "id": "ee911988",
   "metadata": {},
   "outputs": [],
   "source": [
    "def clear_text(text):\n",
    "    clear_text = re.sub(r'[^a-zA-Z ]', ' ', text).split()\n",
    "    clear_text = ' '.join(clear_text)\n",
    "    return(clear_text)"
   ]
  },
  {
   "cell_type": "code",
   "execution_count": 7,
   "id": "9864a37a",
   "metadata": {},
   "outputs": [],
   "source": [
    "df['text'] = df['text'].apply(clear_text)"
   ]
  },
  {
   "cell_type": "code",
   "execution_count": 8,
   "id": "ca4f6e89",
   "metadata": {},
   "outputs": [
    {
     "data": {
      "text/plain": [
       "1148"
      ]
     },
     "execution_count": 8,
     "metadata": {},
     "output_type": "execute_result"
    }
   ],
   "source": [
    "df.duplicated().sum()"
   ]
  },
  {
   "cell_type": "code",
   "execution_count": 9,
   "id": "296cfd40",
   "metadata": {},
   "outputs": [],
   "source": [
    "df.drop_duplicates(inplace=True)"
   ]
  },
  {
   "cell_type": "code",
   "execution_count": 10,
   "id": "1882d535",
   "metadata": {},
   "outputs": [
    {
     "data": {
      "text/plain": [
       "(158144, 2)"
      ]
     },
     "execution_count": 10,
     "metadata": {},
     "output_type": "execute_result"
    }
   ],
   "source": [
    "df.shape"
   ]
  },
  {
   "cell_type": "code",
   "execution_count": 11,
   "id": "819bac9d",
   "metadata": {},
   "outputs": [
    {
     "name": "stdout",
     "output_type": "stream",
     "text": [
      "0    0.898245\n",
      "1    0.101755\n",
      "Name: toxic, dtype: float64\n"
     ]
    },
    {
     "data": {
      "image/png": "[encoded data removed]",
      "text/plain": [
       "<Figure size 432x288 with 1 Axes>"
      ]
     },
     "metadata": {
      "needs_background": "light"
     },
     "output_type": "display_data"
    }
   ],
   "source": [
    "class_frequency = df['toxic'].value_counts(normalize=True)\n",
    "print(class_frequency)\n",
    "class_frequency.plot(kind='bar');"
   ]
  },
  {
   "cell_type": "markdown",
   "id": "68f8cc87",
   "metadata": {},
   "source": [
    "Вывод: Видим, что в исходном датафрейме есть дисбаланс классов, который необходимо устранить перед обучением модели, либо в процессе обучения. В нашей работе устранять дисбаланс будет через атрибут взвешивания классов."
   ]
  },
  {
   "cell_type": "markdown",
   "id": "04ccf564",
   "metadata": {},
   "source": [
    "Выделим из датасета выборку, содержащую случайные 800 строк и далее будем работать с ней, чтобы избежать проблем нехватки памяти или чрезмерно долгого обучения и создания эмбеддингов."
   ]
  },
  {
   "cell_type": "code",
   "execution_count": 12,
   "id": "514e1869",
   "metadata": {},
   "outputs": [],
   "source": [
    "df = df.sample(800).reset_index(drop=True)"
   ]
  },
  {
   "cell_type": "code",
   "execution_count": 13,
   "id": "d422dd33",
   "metadata": {},
   "outputs": [
    {
     "data": {
      "text/html": [
       "<div>\n",
       "<style scoped>\n",
       "    .dataframe tbody tr th:only-of-type {\n",
       "        vertical-align: middle;\n",
       "    }\n",
       "\n",
       "    .dataframe tbody tr th {\n",
       "        vertical-align: top;\n",
       "    }\n",
       "\n",
       "    .dataframe thead th {\n",
       "        text-align: right;\n",
       "    }\n",
       "</style>\n",
       "<table border=\"1\" class=\"dataframe\">\n",
       "  <thead>\n",
       "    <tr style=\"text-align: right;\">\n",
       "      <th></th>\n",
       "      <th>text</th>\n",
       "      <th>toxic</th>\n",
       "    </tr>\n",
       "  </thead>\n",
       "  <tbody>\n",
       "    <tr>\n",
       "      <th>0</th>\n",
       "      <td>The official term are in Block Service Member ...</td>\n",
       "      <td>0</td>\n",
       "    </tr>\n",
       "    <tr>\n",
       "      <th>1</th>\n",
       "      <td>Well like I said the sub heading was to resolv...</td>\n",
       "      <td>0</td>\n",
       "    </tr>\n",
       "    <tr>\n",
       "      <th>2</th>\n",
       "      <td>No This is the worst possible solution and mak...</td>\n",
       "      <td>0</td>\n",
       "    </tr>\n",
       "    <tr>\n",
       "      <th>3</th>\n",
       "      <td>Oh yeah I never said to remove the mention of ...</td>\n",
       "      <td>0</td>\n",
       "    </tr>\n",
       "    <tr>\n",
       "      <th>4</th>\n",
       "      <td>OK YOURE A FAG THEN</td>\n",
       "      <td>1</td>\n",
       "    </tr>\n",
       "    <tr>\n",
       "      <th>...</th>\n",
       "      <td>...</td>\n",
       "      <td>...</td>\n",
       "    </tr>\n",
       "    <tr>\n",
       "      <th>795</th>\n",
       "      <td>Trolling We have provided citations for everyt...</td>\n",
       "      <td>0</td>\n",
       "    </tr>\n",
       "    <tr>\n",
       "      <th>796</th>\n",
       "      <td>IrishGuy I don t know if this is the right pla...</td>\n",
       "      <td>0</td>\n",
       "    </tr>\n",
       "    <tr>\n",
       "      <th>797</th>\n",
       "      <td>We don t need a FAQ because we have climate ch...</td>\n",
       "      <td>0</td>\n",
       "    </tr>\n",
       "    <tr>\n",
       "      <th>798</th>\n",
       "      <td>Fuck off quit lying to people Chumps</td>\n",
       "      <td>1</td>\n",
       "    </tr>\n",
       "    <tr>\n",
       "      <th>799</th>\n",
       "      <td>I am trying to get raspor to agree that he is ...</td>\n",
       "      <td>0</td>\n",
       "    </tr>\n",
       "  </tbody>\n",
       "</table>\n",
       "<p>800 rows × 2 columns</p>\n",
       "</div>"
      ],
      "text/plain": [
       "                                                  text  toxic\n",
       "0    The official term are in Block Service Member ...      0\n",
       "1    Well like I said the sub heading was to resolv...      0\n",
       "2    No This is the worst possible solution and mak...      0\n",
       "3    Oh yeah I never said to remove the mention of ...      0\n",
       "4                                  OK YOURE A FAG THEN      1\n",
       "..                                                 ...    ...\n",
       "795  Trolling We have provided citations for everyt...      0\n",
       "796  IrishGuy I don t know if this is the right pla...      0\n",
       "797  We don t need a FAQ because we have climate ch...      0\n",
       "798               Fuck off quit lying to people Chumps      1\n",
       "799  I am trying to get raspor to agree that he is ...      0\n",
       "\n",
       "[800 rows x 2 columns]"
      ]
     },
     "execution_count": 13,
     "metadata": {},
     "output_type": "execute_result"
    }
   ],
   "source": [
    "df"
   ]
  },
  {
   "cell_type": "markdown",
   "id": "a113aadf",
   "metadata": {},
   "source": [
    "Токен применительно к NLP - это фразы, слова, символы, на которые разбивается текст в ML. \n",
    "\n",
    "Для улучшения качества прогнозирования тональности текста, используем модель BERT, которая была предобучена на негативных комментариях.\n",
    "\n",
    "Используем веса unitary/toxic-bert, которые были скачаны с сервера Hugging Face."
   ]
  },
  {
   "cell_type": "code",
   "execution_count": 14,
   "id": "86334ae7",
   "metadata": {},
   "outputs": [
    {
     "name": "stderr",
     "output_type": "stream",
     "text": [
      "Some weights of the model checkpoint at unitary/toxic-bert were not used when initializing BertModel: ['classifier.weight', 'classifier.bias']\n",
      "- This IS expected if you are initializing BertModel from the checkpoint of a model trained on another task or with another architecture (e.g. initializing a BertForSequenceClassification model from a BertForPreTraining model).\n",
      "- This IS NOT expected if you are initializing BertModel from the checkpoint of a model that you expect to be exactly identical (initializing a BertForSequenceClassification model from a BertForSequenceClassification model).\n"
     ]
    }
   ],
   "source": [
    "model_class, tokenizer_class, config_class, pretrained_weights = (ppb.BertModel, ppb.BertTokenizer, \\\n",
    "                                                                  ppb.BertConfig,'unitary/toxic-bert')\n",
    "\n",
    "# Загрузка предобученной модели/токенизатора \n",
    "## создаем токенизатор, который переведет текст в векторное представление - список токенов tokenized. \n",
    "## Это первая часть создания эмбеддингов. Эмбеддинги дадут более точное представление о соотношении разных слов и их свойствах\n",
    "tokenizer = tokenizer_class.from_pretrained(pretrained_weights)\n",
    "config = config_class.from_pretrained(pretrained_weights)\n",
    "model = model_class.from_pretrained(pretrained_weights, config=config)"
   ]
  },
  {
   "cell_type": "code",
   "execution_count": 15,
   "id": "ed8d450e",
   "metadata": {},
   "outputs": [],
   "source": [
    "#преобразуем текст в номера токенов методом encode\n",
    "# add_special_tokens = True. Т.е.,к любому преобразуемому тексту добавляется токен начала (101) и токен конца текста (102).\n",
    "# указали truncation=True, max_length=512, т.к. у BERT есть ограничение по длине максимального преобразуемого вектора\n",
    "\n",
    "tokenized = df['text'].apply(\n",
    "    lambda x: tokenizer.encode(x, add_special_tokens=True, truncation=True, max_length=512))\n",
    "\n",
    "# находим максимальную длину вектора\n",
    "max_len = 0\n",
    "for i in tokenized.values:\n",
    "    if len(i) > max_len:\n",
    "        max_len = len(i)\n",
    "\n",
    "# применяем метод padding, чтобы после токенизации все векторы были равной длины (max_len), нули информации не несут\n",
    "padded = np.array([i + [0]*(max_len - len(i)) for i in tokenized.values])\n",
    "\n",
    "# заменяем все числа, не равные нулю на 1, создаем \"внимание\"\n",
    "attention_mask = np.where(padded != 0, 1, 0)"
   ]
  },
  {
   "cell_type": "code",
   "execution_count": 16,
   "id": "46e28a3a",
   "metadata": {},
   "outputs": [],
   "source": [
    "device = torch.device('cuda' if torch.cuda.is_available() else 'cpu')\n",
    "\n",
    "model.to(device);\n"
   ]
  },
  {
   "cell_type": "markdown",
   "id": "ed347833",
   "metadata": {},
   "source": [
    "- Эмбеддинги модель BERT создаёт батчами. Чтобы хватило оперативной памяти, сделаем размер батча небольшим.\n",
    "- Преобразуем данные в формат тензоров - многомерных векторов в библиотеке torch. Тип данных LongTensor (англ. «длинный тензор») хранит числа в «длинном формате», то есть выделяет на каждое число 64 бита.\n",
    "- notebook.tqdm используем для отображения процесса\n",
    "- with torch.no_grad() - для ускорения процесса"
   ]
  },
  {
   "cell_type": "code",
   "execution_count": 17,
   "id": "68b3e478",
   "metadata": {},
   "outputs": [
    {
     "data": {
      "application/vnd.jupyter.widget-view+json": {
       "model_id": "84c14f77ca194da9b7e29f71b362e676",
       "version_major": 2,
       "version_minor": 0
      },
      "text/plain": [
       "  0%|          | 0/100 [00:00<?, ?it/s]"
      ]
     },
     "metadata": {},
     "output_type": "display_data"
    }
   ],
   "source": [
    "## это второй этап создания эмбеддингов для нашего текста\n",
    "batch_size = 8\n",
    "embeddings = []\n",
    "for i in notebook.tqdm(range(padded.shape[0] // batch_size)):\n",
    "        #преобразуем вектор с номерами токенов с формат тензоров\n",
    "        batch = torch.LongTensor(padded[batch_size*i:batch_size*(i+1)])  \n",
    "        #преобразуем вектор маски в формат тензоров\n",
    "        attention_mask_batch = torch.LongTensor(attention_mask[batch_size*i:batch_size*(i+1)])\n",
    "        \n",
    "        with torch.no_grad():\n",
    "            batch_embeddings = model(batch, attention_mask=attention_mask_batch.to(device)) \n",
    "            #модель создает эмбеддинги, работая уже с тензорами\n",
    "        \n",
    "        embeddings.append(batch_embeddings[0][:,0,:].cpu().numpy())"
   ]
  },
  {
   "cell_type": "markdown",
   "id": "18175a58",
   "metadata": {},
   "source": [
    "## 2 Обучение"
   ]
  },
  {
   "cell_type": "markdown",
   "id": "077f3a6c",
   "metadata": {},
   "source": [
    "<div class=\"toc\"><ul class=\"toc-item\"><li><span><a href=\"#Содержание\" data-toc-modified-id=\"Содержание\"><span class=\"toc-item-num\"&nbsp;&nbsp;</span>Содержание</a></span></li>\n",
    "</span></li></ul></div>"
   ]
  },
  {
   "cell_type": "markdown",
   "id": "a75e7213",
   "metadata": {},
   "source": [
    "<a id='Обучение'></a>"
   ]
  },
  {
   "cell_type": "markdown",
   "id": "478985ae",
   "metadata": {},
   "source": [
    "Формируем обучающие и целевые признаки для модели. Обучающие признаки - матрица из эмбеддингов."
   ]
  },
  {
   "cell_type": "code",
   "execution_count": 18,
   "id": "a9251907",
   "metadata": {},
   "outputs": [],
   "source": [
    "features = np.concatenate(embeddings)"
   ]
  },
  {
   "cell_type": "code",
   "execution_count": 19,
   "id": "288cadae",
   "metadata": {},
   "outputs": [],
   "source": [
    "target = df['toxic']"
   ]
  },
  {
   "cell_type": "markdown",
   "id": "8765435e",
   "metadata": {},
   "source": [
    "Делим признаки на обучающую и тестовые выборки в соотношении 75/25%"
   ]
  },
  {
   "cell_type": "code",
   "execution_count": 20,
   "id": "89a392e1",
   "metadata": {},
   "outputs": [],
   "source": [
    "features_train, features_test, target_train, target_test = \\\n",
    "train_test_split(features,target, test_size=0.25, random_state=state)"
   ]
  },
  {
   "cell_type": "markdown",
   "id": "02ff083f",
   "metadata": {},
   "source": [
    "Далее переходим к обучению моделей классификации"
   ]
  },
  {
   "cell_type": "markdown",
   "id": "876bc318",
   "metadata": {},
   "source": [
    "Не забываем про необходимость выставления параметра взвешивания классов в обучении моделей, для корректировки дисбаланса."
   ]
  },
  {
   "cell_type": "markdown",
   "id": "7b8b449d",
   "metadata": {},
   "source": [
    "### 2.1 Модель LogisticRegression"
   ]
  },
  {
   "cell_type": "code",
   "execution_count": 21,
   "id": "89ed21f4",
   "metadata": {},
   "outputs": [],
   "source": [
    "model_lr = LogisticRegression(random_state = state, solver='lbfgs', max_iter=1000, class_weight = 'balanced')"
   ]
  },
  {
   "cell_type": "code",
   "execution_count": 22,
   "id": "0c03ad49",
   "metadata": {},
   "outputs": [],
   "source": [
    "param_grid_lr = { 'C' : np.linspace(0.0001, 200, 20)}"
   ]
  },
  {
   "cell_type": "code",
   "execution_count": 23,
   "id": "a0cbc704",
   "metadata": {},
   "outputs": [],
   "source": [
    "gs_lr = GridSearchCV(\n",
    "        estimator = model_lr,\n",
    "        param_grid = param_grid_lr,\n",
    "        scoring = 'f1',\n",
    "        cv=5,\n",
    "        n_jobs = -1,\n",
    "        verbose = 3,\n",
    "        error_score='raise')"
   ]
  },
  {
   "cell_type": "code",
   "execution_count": 24,
   "id": "87081bca",
   "metadata": {},
   "outputs": [
    {
     "name": "stdout",
     "output_type": "stream",
     "text": [
      "Fitting 5 folds for each of 20 candidates, totalling 100 fits\n"
     ]
    },
    {
     "data": {
      "text/plain": [
       "GridSearchCV(cv=5, error_score='raise',\n",
       "             estimator=LogisticRegression(class_weight='balanced',\n",
       "                                          max_iter=1000,\n",
       "                                          random_state=RandomState(MT19937) at 0x1C3D38FDA40),\n",
       "             n_jobs=-1,\n",
       "             param_grid={'C': array([1.00000000e-04, 1.05264105e+01, 2.10527211e+01, 3.15790316e+01,\n",
       "       4.21053421e+01, 5.26316526e+01, 6.31579632e+01, 7.36842737e+01,\n",
       "       8.42105842e+01, 9.47368947e+01, 1.05263205e+02, 1.15789516e+02,\n",
       "       1.26315826e+02, 1.36842137e+02, 1.47368447e+02, 1.57894758e+02,\n",
       "       1.68421068e+02, 1.78947379e+02, 1.89473689e+02, 2.00000000e+02])},\n",
       "             scoring='f1', verbose=3)"
      ]
     },
     "execution_count": 24,
     "metadata": {},
     "output_type": "execute_result"
    }
   ],
   "source": [
    "gs_lr.fit(features_train,target_train)"
   ]
  },
  {
   "cell_type": "code",
   "execution_count": 25,
   "id": "90f3beae",
   "metadata": {},
   "outputs": [
    {
     "name": "stdout",
     "output_type": "stream",
     "text": [
      "best_score: 0.8878704091607317\n",
      "best_params: {'C': 0.0001}\n"
     ]
    }
   ],
   "source": [
    "gs_lr_best_score = gs_lr.best_score_\n",
    "gs_lr_best_params = gs_lr.best_params_\n",
    "print(f'best_score: {gs_lr_best_score}')\n",
    "print(f'best_params: {gs_lr_best_params}')"
   ]
  },
  {
   "cell_type": "markdown",
   "id": "a87b1b53",
   "metadata": {},
   "source": [
    "### 2.2 Модель RandomForestClassifier"
   ]
  },
  {
   "cell_type": "code",
   "execution_count": 26,
   "id": "07c64aed",
   "metadata": {},
   "outputs": [],
   "source": [
    "param_grid_rf = {\n",
    "    'n_estimators': [150,300,500],\n",
    "    'max_depth': range(2, 20, 2),\n",
    "    'min_samples_split': [2, 4, 7],\n",
    "    'min_samples_leaf': [1, 2, 3, 4, 5]\n",
    "}"
   ]
  },
  {
   "cell_type": "code",
   "execution_count": 27,
   "id": "21334679",
   "metadata": {},
   "outputs": [],
   "source": [
    "model_rf = RandomForestClassifier(class_weight = 'balanced')"
   ]
  },
  {
   "cell_type": "code",
   "execution_count": 28,
   "id": "78ecb365",
   "metadata": {},
   "outputs": [],
   "source": [
    "rs_rf = RandomizedSearchCV(\n",
    "        estimator = model_rf,\n",
    "        param_distributions = param_grid_rf,\n",
    "        scoring = 'f1',\n",
    "        cv=5,\n",
    "        n_jobs = -1,\n",
    "        random_state=state)"
   ]
  },
  {
   "cell_type": "code",
   "execution_count": 29,
   "id": "b82248c7",
   "metadata": {},
   "outputs": [
    {
     "data": {
      "text/plain": [
       "RandomizedSearchCV(cv=5,\n",
       "                   estimator=RandomForestClassifier(class_weight='balanced'),\n",
       "                   n_jobs=-1,\n",
       "                   param_distributions={'max_depth': range(2, 20, 2),\n",
       "                                        'min_samples_leaf': [1, 2, 3, 4, 5],\n",
       "                                        'min_samples_split': [2, 4, 7],\n",
       "                                        'n_estimators': [150, 300, 500]},\n",
       "                   random_state=RandomState(MT19937) at 0x1C3D38FDA40,\n",
       "                   scoring='f1')"
      ]
     },
     "execution_count": 29,
     "metadata": {},
     "output_type": "execute_result"
    }
   ],
   "source": [
    "rs_rf.fit(features_train,target_train)"
   ]
  },
  {
   "cell_type": "code",
   "execution_count": 30,
   "id": "40a07856",
   "metadata": {},
   "outputs": [
    {
     "name": "stdout",
     "output_type": "stream",
     "text": [
      "best_score: 0.8785443209541881\n",
      "best_params: {'n_estimators': 300, 'min_samples_split': 4, 'min_samples_leaf': 4, 'max_depth': 2}\n"
     ]
    }
   ],
   "source": [
    "rs_rf_best_score = rs_rf.best_score_\n",
    "rs_rf_best_params = rs_rf.best_params_\n",
    "print(f'best_score: {rs_rf_best_score}')\n",
    "print(f'best_params: {rs_rf_best_params}')"
   ]
  },
  {
   "cell_type": "markdown",
   "id": "04de25c3",
   "metadata": {},
   "source": [
    "### 2.4 Модель LGBMClassifier"
   ]
  },
  {
   "cell_type": "code",
   "execution_count": 31,
   "id": "1887faa7",
   "metadata": {},
   "outputs": [],
   "source": [
    "lgbm = LGBMClassifier(class_weight = 'balanced')"
   ]
  },
  {
   "cell_type": "code",
   "execution_count": 32,
   "id": "5b82bd43",
   "metadata": {},
   "outputs": [],
   "source": [
    "param_grid_lgbm = {\n",
    "    'max_depth': [5, 6],\n",
    "    'learning_rate': [.2, .3],\n",
    "}"
   ]
  },
  {
   "cell_type": "code",
   "execution_count": 33,
   "id": "54f4e91c",
   "metadata": {},
   "outputs": [],
   "source": [
    "gs_lgbm = GridSearchCV(\n",
    "        estimator = lgbm,\n",
    "        param_grid = param_grid_lgbm,\n",
    "        scoring = 'f1',\n",
    "        cv=5,\n",
    "        verbose = 3,\n",
    "        n_jobs = -1)"
   ]
  },
  {
   "cell_type": "code",
   "execution_count": 34,
   "id": "810296f5",
   "metadata": {},
   "outputs": [
    {
     "name": "stdout",
     "output_type": "stream",
     "text": [
      "Fitting 5 folds for each of 4 candidates, totalling 20 fits\n"
     ]
    },
    {
     "data": {
      "text/plain": [
       "GridSearchCV(cv=5, estimator=LGBMClassifier(class_weight='balanced'), n_jobs=-1,\n",
       "             param_grid={'learning_rate': [0.2, 0.3], 'max_depth': [5, 6]},\n",
       "             scoring='f1', verbose=3)"
      ]
     },
     "execution_count": 34,
     "metadata": {},
     "output_type": "execute_result"
    }
   ],
   "source": [
    "gs_lgbm.fit(features_train,target_train)"
   ]
  },
  {
   "cell_type": "code",
   "execution_count": 35,
   "id": "8100ee4d",
   "metadata": {},
   "outputs": [
    {
     "name": "stdout",
     "output_type": "stream",
     "text": [
      "best_score: 0.8307478728168384\n",
      "best_params: {'learning_rate': 0.3, 'max_depth': 6}\n"
     ]
    }
   ],
   "source": [
    "gs_lgbm_best_score = gs_lgbm.best_score_\n",
    "gs_lgbm_best_params = gs_lgbm.best_params_\n",
    "print(f'best_score: {gs_lgbm_best_score}')\n",
    "print(f'best_params: {gs_lgbm_best_params}')"
   ]
  },
  {
   "cell_type": "markdown",
   "id": "94c32ca2",
   "metadata": {},
   "source": [
    "На этапе обучения моделей нами были рассмотрены 3 типа классификаторов - логистическая регрессия, модель случайного леса, LGBMClassifier. Мы перебрали гиперпараметры моделей через GridSearchCV и RandomizedSearchCV. Далее сравним полученные результаты и проведем тестирование лучшей модели."
   ]
  },
  {
   "cell_type": "markdown",
   "id": "e7a80dd9",
   "metadata": {},
   "source": [
    "### 2.4 Тестирование"
   ]
  },
  {
   "cell_type": "code",
   "execution_count": 36,
   "id": "9dba870e",
   "metadata": {},
   "outputs": [
    {
     "data": {
      "text/html": [
       "<div>\n",
       "<style scoped>\n",
       "    .dataframe tbody tr th:only-of-type {\n",
       "        vertical-align: middle;\n",
       "    }\n",
       "\n",
       "    .dataframe tbody tr th {\n",
       "        vertical-align: top;\n",
       "    }\n",
       "\n",
       "    .dataframe thead th {\n",
       "        text-align: right;\n",
       "    }\n",
       "</style>\n",
       "<table border=\"1\" class=\"dataframe\">\n",
       "  <thead>\n",
       "    <tr style=\"text-align: right;\">\n",
       "      <th></th>\n",
       "      <th>F1</th>\n",
       "    </tr>\n",
       "  </thead>\n",
       "  <tbody>\n",
       "    <tr>\n",
       "      <th>LogRegression</th>\n",
       "      <td>0.887870</td>\n",
       "    </tr>\n",
       "    <tr>\n",
       "      <th>Random Forest Classifier</th>\n",
       "      <td>0.878544</td>\n",
       "    </tr>\n",
       "    <tr>\n",
       "      <th>LgbmClassifier</th>\n",
       "      <td>0.830748</td>\n",
       "    </tr>\n",
       "  </tbody>\n",
       "</table>\n",
       "</div>"
      ],
      "text/plain": [
       "                                F1\n",
       "LogRegression             0.887870\n",
       "Random Forest Classifier  0.878544\n",
       "LgbmClassifier            0.830748"
      ]
     },
     "execution_count": 36,
     "metadata": {},
     "output_type": "execute_result"
    }
   ],
   "source": [
    "analysis = pd.DataFrame({gs_lr_best_score, rs_rf_best_score, gs_lgbm_best_score},\n",
    "                         index = ['LogRegression','Random Forest Classifier','LgbmClassifier'],\\\n",
    "                        columns = ['F1'])\n",
    "\n",
    "analysis"
   ]
  },
  {
   "cell_type": "code",
   "execution_count": 37,
   "id": "bbfced81",
   "metadata": {},
   "outputs": [
    {
     "data": {
      "text/plain": [
       "0.8307478728168384"
      ]
     },
     "execution_count": 37,
     "metadata": {},
     "output_type": "execute_result"
    }
   ],
   "source": [
    "gs_lgbm_best_score"
   ]
  },
  {
   "cell_type": "code",
   "execution_count": 38,
   "id": "f5558633",
   "metadata": {},
   "outputs": [
    {
     "name": "stdout",
     "output_type": "stream",
     "text": [
      "Лучшей моделью среди моделей LogRegression, Random Forest Classifier, LgbmClassifier стала модель LogRegression c результатом 0.8878704091607317\n"
     ]
    }
   ],
   "source": [
    "print(f'Лучшей моделью среди моделей {analysis.index[0]}, {analysis.index[1]}, \\\n",
    "{analysis.index[2]} стала модель {analysis.idxmax()[0]} c результатом {analysis[\"F1\"].max()}')"
   ]
  },
  {
   "cell_type": "markdown",
   "id": "fc900db5",
   "metadata": {},
   "source": [
    "Проведем тестирование модели RandomForestClassifier."
   ]
  },
  {
   "cell_type": "code",
   "execution_count": 39,
   "id": "fb8d10cd",
   "metadata": {},
   "outputs": [
    {
     "data": {
      "text/plain": [
       "0.9166666666666666"
      ]
     },
     "execution_count": 39,
     "metadata": {},
     "output_type": "execute_result"
    }
   ],
   "source": [
    "model_rf = RandomForestClassifier(class_weight = 'balanced', n_estimators = rs_rf_best_params.get('n_estimators'),\\\n",
    "                                  min_samples_split = rs_rf_best_params.get('min_samples_split'), \\\n",
    "                                  min_samples_leaf = rs_rf_best_params.get('min_samples_leaf'),\\\n",
    "                                  max_depth = rs_rf_best_params.get('max_depth'),\\\n",
    "                                  random_state=state)\n",
    "model_rf.fit(features_train,target_train)\n",
    "pr_rf = model_rf.predict(features_test)\n",
    "f1_rf_test = f1_score(target_test,pr_rf)\n",
    "f1_rf_test"
   ]
  },
  {
   "cell_type": "markdown",
   "id": "f80b2fb4",
   "metadata": {},
   "source": [
    "## 3 Выводы"
   ]
  },
  {
   "cell_type": "markdown",
   "id": "1d4a5d84",
   "metadata": {},
   "source": [
    "<div class=\"toc\"><ul class=\"toc-item\"><li><span><a href=\"#Содержание\" data-toc-modified-id=\"Содержание\"><span class=\"toc-item-num\"&nbsp;&nbsp;</span>Содержание</a></span></li>\n",
    "</span></li></ul></div>"
   ]
  },
  {
   "cell_type": "markdown",
   "id": "88da757a",
   "metadata": {},
   "source": [
    "<a id='Выводы'></a>"
   ]
  },
  {
   "cell_type": "markdown",
   "id": "5685d2ae",
   "metadata": {},
   "source": [
    "В ходе выполнения проекта мы обучили модель Случайного Леса определять тональность текста, f1 мера при тестировании модели равна 0.92, что выше минимального значения, которое требовалось по условиям проекта."
   ]
  }
 ],
 "metadata": {
  "kernelspec": {
   "display_name": "Python 3 (ipykernel)",
   "language": "python",
   "name": "python3"
  },
  "language_info": {
   "codemirror_mode": {
    "name": "ipython",
    "version": 3
   },
   "file_extension": ".py",
   "mimetype": "text/x-python",
   "name": "python",
   "nbconvert_exporter": "python",
   "pygments_lexer": "ipython3",
   "version": "3.9.12"
  },
  "toc": {
   "base_numbering": 1,
   "nav_menu": {},
   "number_sections": true,
   "sideBar": true,
   "skip_h1_title": true,
   "title_cell": "Table of Contents",
   "title_sidebar": "Contents",
   "toc_cell": false,
   "toc_position": {},
   "toc_section_display": true,
   "toc_window_display": false
  }
 },
 "nbformat": 4,
 "nbformat_minor": 5
}
