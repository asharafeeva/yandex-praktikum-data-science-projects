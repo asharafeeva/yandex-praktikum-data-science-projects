{
 "cells": [
  {
   "cell_type": "markdown",
   "metadata": {},
   "source": [
    "<h1>Содержание<span class=\"tocSkip\"></span></h1>\n",
    "<div class=\"toc\"><ul class=\"toc-item\"><li><span><a href=\"#Введение\" data-toc-modified-id=\"Введение-1\"><span class=\"toc-item-num\">1&nbsp;&nbsp;</span>Введение</a></span></li><li><span><a href=\"#Загрузка-и-подготовка-данных\" data-toc-modified-id=\"Загрузка-и-подготовка-данных-2\"><span class=\"toc-item-num\">2&nbsp;&nbsp;</span>Загрузка и подготовка данных</a></span></li><li><span><a href=\"#Обучение-и-проверка-модели\" data-toc-modified-id=\"Обучение-и-проверка-модели-3\"><span class=\"toc-item-num\">3&nbsp;&nbsp;</span>Обучение и проверка модели</a></span></li><li><span><a href=\"#Подготовка-к-расчёту-прибыли\" data-toc-modified-id=\"Подготовка-к-расчёту-прибыли-4\"><span class=\"toc-item-num\">4&nbsp;&nbsp;</span>Подготовка к расчёту прибыли</a></span></li><li><span><a href=\"#Расчёт-прибыли-и-рисков\" data-toc-modified-id=\"Расчёт-прибыли-и-рисков-5\"><span class=\"toc-item-num\">5&nbsp;&nbsp;</span>Расчёт прибыли и рисков</a></span></li><li><span><a href=\"#Заключение\" data-toc-modified-id=\"Заключение-6\"><span class=\"toc-item-num\">6&nbsp;&nbsp;</span>Заключение</a></span></li></div>"
   ]
  },
  {
   "cell_type": "markdown",
   "metadata": {},
   "source": [
    "## Введение"
   ]
  },
  {
   "cell_type": "markdown",
   "metadata": {},
   "source": [
    "Цель: построить модель для определения региона, где добыча принесёт наибольшую прибыль."
   ]
  },
  {
   "cell_type": "markdown",
   "metadata": {},
   "source": [
    "Исходные данные:\n",
    "- пробы нефти и производительность скважин в трех регионах\n",
    "- число скважин для исследования - 500\n",
    "- число скважин для разработки, которые отобраны с помощью машинного обучения - 200\n",
    "- бюджет на разработку скважин в регионе — 10 млрд рублей.\n",
    "- 1 баррель сырья стоит 450 рублей\n",
    "- вероятность убытков должна быть менее 2.5%"
   ]
  },
  {
   "cell_type": "markdown",
   "metadata": {},
   "source": [
    "Порядок работы:\n",
    "- загрузить три датасета, каждый из которых иллюстрируют отдельный регион, подготовить данные\n",
    "- разбить данные на обучающую и валидационную выборки в соотношении 75:25.\n",
    "- обучить и проверить модель для каждого региона, определить RMSE\n",
    "- рассчитать достаточный объём сырья для безубыточной разработки новой скважины, cравнить полученный объём сырья со средним запасом в каждом регионе.\n",
    "- написать функцию для расчёта прибыли по выбранным скважинам и предсказаниям модели\n",
    "- рассчитать прибыль для скважин, в которых объем сырья соотаветствует максимальному значению предсказаний\n",
    "- посчитать риски и прибыль для каждого региона, применяя технику Bootstrap на 1000 выборок\n",
    "- определить 95-% доверительный интервал и риск убытков\n",
    "- написать выводы"
   ]
  },
  {
   "cell_type": "markdown",
   "metadata": {},
   "source": [
    "## Загрузка и подготовка данных"
   ]
  },
  {
   "cell_type": "markdown",
   "metadata": {},
   "source": [
    "Загружаем необходимые библиотеки:"
   ]
  },
  {
   "cell_type": "code",
   "execution_count": 1,
   "metadata": {},
   "outputs": [],
   "source": [
    "import pandas as pd\n",
    "import numpy as np\n",
    "import seaborn as sns\n",
    "import matplotlib.pyplot as plt\n",
    "from sklearn.model_selection import train_test_split\n",
    "from sklearn.linear_model import LinearRegression\n",
    "from sklearn.metrics import mean_squared_error\n",
    "from math import ceil "
   ]
  },
  {
   "cell_type": "markdown",
   "metadata": {},
   "source": [
    "Обозначим независимые переменные:"
   ]
  },
  {
   "cell_type": "code",
   "execution_count": 2,
   "metadata": {},
   "outputs": [],
   "source": [
    "DEVELOP_POINTS = 500 #количество точек для исследования\n",
    "EXPLOITATION_POINTS = 200 #количество точек для разработки и подсчета прибыли\n",
    "REGION_BUDGET = 10*10**9 #бюджет региона\n",
    "WELL_INCOME = 450 #руб за 1 барр"
   ]
  },
  {
   "cell_type": "markdown",
   "metadata": {},
   "source": [
    "Выполняем чтение датасетов:"
   ]
  },
  {
   "cell_type": "code",
   "execution_count": 3,
   "metadata": {},
   "outputs": [],
   "source": [
    "data_0 = pd.read_csv('/datasets/geo_data_0.csv')\n",
    "data_1 = pd.read_csv('/datasets/geo_data_1.csv')\n",
    "data_2 = pd.read_csv('/datasets/geo_data_2.csv')"
   ]
  },
  {
   "cell_type": "markdown",
   "metadata": {},
   "source": [
    "Первое знакомство с данными: 10000 строк, 5 колонок, в строке id - строковый формат, в остальных - с плавающей точкой."
   ]
  },
  {
   "cell_type": "code",
   "execution_count": 4,
   "metadata": {},
   "outputs": [
    {
     "name": "stdout",
     "output_type": "stream",
     "text": [
      "<class 'pandas.core.frame.DataFrame'>\n",
      "RangeIndex: 100000 entries, 0 to 99999\n",
      "Data columns (total 5 columns):\n",
      " #   Column   Non-Null Count   Dtype  \n",
      "---  ------   --------------   -----  \n",
      " 0   id       100000 non-null  object \n",
      " 1   f0       100000 non-null  float64\n",
      " 2   f1       100000 non-null  float64\n",
      " 3   f2       100000 non-null  float64\n",
      " 4   product  100000 non-null  float64\n",
      "dtypes: float64(4), object(1)\n",
      "memory usage: 3.8+ MB\n"
     ]
    }
   ],
   "source": [
    "data_0.info()"
   ]
  },
  {
   "cell_type": "code",
   "execution_count": 5,
   "metadata": {},
   "outputs": [
    {
     "name": "stdout",
     "output_type": "stream",
     "text": [
      "<class 'pandas.core.frame.DataFrame'>\n",
      "RangeIndex: 100000 entries, 0 to 99999\n",
      "Data columns (total 5 columns):\n",
      " #   Column   Non-Null Count   Dtype  \n",
      "---  ------   --------------   -----  \n",
      " 0   id       100000 non-null  object \n",
      " 1   f0       100000 non-null  float64\n",
      " 2   f1       100000 non-null  float64\n",
      " 3   f2       100000 non-null  float64\n",
      " 4   product  100000 non-null  float64\n",
      "dtypes: float64(4), object(1)\n",
      "memory usage: 3.8+ MB\n"
     ]
    }
   ],
   "source": [
    "data_1.info()"
   ]
  },
  {
   "cell_type": "code",
   "execution_count": 6,
   "metadata": {},
   "outputs": [
    {
     "name": "stdout",
     "output_type": "stream",
     "text": [
      "<class 'pandas.core.frame.DataFrame'>\n",
      "RangeIndex: 100000 entries, 0 to 99999\n",
      "Data columns (total 5 columns):\n",
      " #   Column   Non-Null Count   Dtype  \n",
      "---  ------   --------------   -----  \n",
      " 0   id       100000 non-null  object \n",
      " 1   f0       100000 non-null  float64\n",
      " 2   f1       100000 non-null  float64\n",
      " 3   f2       100000 non-null  float64\n",
      " 4   product  100000 non-null  float64\n",
      "dtypes: float64(4), object(1)\n",
      "memory usage: 3.8+ MB\n"
     ]
    }
   ],
   "source": [
    "data_2.info()"
   ]
  },
  {
   "cell_type": "markdown",
   "metadata": {},
   "source": [
    "Выведем первые 5 строк в каждом датафрейме, чтобы убедиться, что данные загрузились корректно."
   ]
  },
  {
   "cell_type": "code",
   "execution_count": 7,
   "metadata": {},
   "outputs": [
    {
     "data": {
      "text/html": [
       "<div>\n",
       "<style scoped>\n",
       "    .dataframe tbody tr th:only-of-type {\n",
       "        vertical-align: middle;\n",
       "    }\n",
       "\n",
       "    .dataframe tbody tr th {\n",
       "        vertical-align: top;\n",
       "    }\n",
       "\n",
       "    .dataframe thead th {\n",
       "        text-align: right;\n",
       "    }\n",
       "</style>\n",
       "<table border=\"1\" class=\"dataframe\">\n",
       "  <thead>\n",
       "    <tr style=\"text-align: right;\">\n",
       "      <th></th>\n",
       "      <th>id</th>\n",
       "      <th>f0</th>\n",
       "      <th>f1</th>\n",
       "      <th>f2</th>\n",
       "      <th>product</th>\n",
       "    </tr>\n",
       "  </thead>\n",
       "  <tbody>\n",
       "    <tr>\n",
       "      <th>0</th>\n",
       "      <td>txEyH</td>\n",
       "      <td>0.705745</td>\n",
       "      <td>-0.497823</td>\n",
       "      <td>1.221170</td>\n",
       "      <td>105.280062</td>\n",
       "    </tr>\n",
       "    <tr>\n",
       "      <th>1</th>\n",
       "      <td>2acmU</td>\n",
       "      <td>1.334711</td>\n",
       "      <td>-0.340164</td>\n",
       "      <td>4.365080</td>\n",
       "      <td>73.037750</td>\n",
       "    </tr>\n",
       "    <tr>\n",
       "      <th>2</th>\n",
       "      <td>409Wp</td>\n",
       "      <td>1.022732</td>\n",
       "      <td>0.151990</td>\n",
       "      <td>1.419926</td>\n",
       "      <td>85.265647</td>\n",
       "    </tr>\n",
       "    <tr>\n",
       "      <th>3</th>\n",
       "      <td>iJLyR</td>\n",
       "      <td>-0.032172</td>\n",
       "      <td>0.139033</td>\n",
       "      <td>2.978566</td>\n",
       "      <td>168.620776</td>\n",
       "    </tr>\n",
       "    <tr>\n",
       "      <th>4</th>\n",
       "      <td>Xdl7t</td>\n",
       "      <td>1.988431</td>\n",
       "      <td>0.155413</td>\n",
       "      <td>4.751769</td>\n",
       "      <td>154.036647</td>\n",
       "    </tr>\n",
       "  </tbody>\n",
       "</table>\n",
       "</div>"
      ],
      "text/plain": [
       "      id        f0        f1        f2     product\n",
       "0  txEyH  0.705745 -0.497823  1.221170  105.280062\n",
       "1  2acmU  1.334711 -0.340164  4.365080   73.037750\n",
       "2  409Wp  1.022732  0.151990  1.419926   85.265647\n",
       "3  iJLyR -0.032172  0.139033  2.978566  168.620776\n",
       "4  Xdl7t  1.988431  0.155413  4.751769  154.036647"
      ]
     },
     "execution_count": 7,
     "metadata": {},
     "output_type": "execute_result"
    }
   ],
   "source": [
    "data_0.head()"
   ]
  },
  {
   "cell_type": "code",
   "execution_count": 8,
   "metadata": {},
   "outputs": [
    {
     "data": {
      "text/html": [
       "<div>\n",
       "<style scoped>\n",
       "    .dataframe tbody tr th:only-of-type {\n",
       "        vertical-align: middle;\n",
       "    }\n",
       "\n",
       "    .dataframe tbody tr th {\n",
       "        vertical-align: top;\n",
       "    }\n",
       "\n",
       "    .dataframe thead th {\n",
       "        text-align: right;\n",
       "    }\n",
       "</style>\n",
       "<table border=\"1\" class=\"dataframe\">\n",
       "  <thead>\n",
       "    <tr style=\"text-align: right;\">\n",
       "      <th></th>\n",
       "      <th>id</th>\n",
       "      <th>f0</th>\n",
       "      <th>f1</th>\n",
       "      <th>f2</th>\n",
       "      <th>product</th>\n",
       "    </tr>\n",
       "  </thead>\n",
       "  <tbody>\n",
       "    <tr>\n",
       "      <th>0</th>\n",
       "      <td>kBEdx</td>\n",
       "      <td>-15.001348</td>\n",
       "      <td>-8.276000</td>\n",
       "      <td>-0.005876</td>\n",
       "      <td>3.179103</td>\n",
       "    </tr>\n",
       "    <tr>\n",
       "      <th>1</th>\n",
       "      <td>62mP7</td>\n",
       "      <td>14.272088</td>\n",
       "      <td>-3.475083</td>\n",
       "      <td>0.999183</td>\n",
       "      <td>26.953261</td>\n",
       "    </tr>\n",
       "    <tr>\n",
       "      <th>2</th>\n",
       "      <td>vyE1P</td>\n",
       "      <td>6.263187</td>\n",
       "      <td>-5.948386</td>\n",
       "      <td>5.001160</td>\n",
       "      <td>134.766305</td>\n",
       "    </tr>\n",
       "    <tr>\n",
       "      <th>3</th>\n",
       "      <td>KcrkZ</td>\n",
       "      <td>-13.081196</td>\n",
       "      <td>-11.506057</td>\n",
       "      <td>4.999415</td>\n",
       "      <td>137.945408</td>\n",
       "    </tr>\n",
       "    <tr>\n",
       "      <th>4</th>\n",
       "      <td>AHL4O</td>\n",
       "      <td>12.702195</td>\n",
       "      <td>-8.147433</td>\n",
       "      <td>5.004363</td>\n",
       "      <td>134.766305</td>\n",
       "    </tr>\n",
       "  </tbody>\n",
       "</table>\n",
       "</div>"
      ],
      "text/plain": [
       "      id         f0         f1        f2     product\n",
       "0  kBEdx -15.001348  -8.276000 -0.005876    3.179103\n",
       "1  62mP7  14.272088  -3.475083  0.999183   26.953261\n",
       "2  vyE1P   6.263187  -5.948386  5.001160  134.766305\n",
       "3  KcrkZ -13.081196 -11.506057  4.999415  137.945408\n",
       "4  AHL4O  12.702195  -8.147433  5.004363  134.766305"
      ]
     },
     "execution_count": 8,
     "metadata": {},
     "output_type": "execute_result"
    }
   ],
   "source": [
    "data_1.head()"
   ]
  },
  {
   "cell_type": "code",
   "execution_count": 9,
   "metadata": {},
   "outputs": [
    {
     "data": {
      "text/html": [
       "<div>\n",
       "<style scoped>\n",
       "    .dataframe tbody tr th:only-of-type {\n",
       "        vertical-align: middle;\n",
       "    }\n",
       "\n",
       "    .dataframe tbody tr th {\n",
       "        vertical-align: top;\n",
       "    }\n",
       "\n",
       "    .dataframe thead th {\n",
       "        text-align: right;\n",
       "    }\n",
       "</style>\n",
       "<table border=\"1\" class=\"dataframe\">\n",
       "  <thead>\n",
       "    <tr style=\"text-align: right;\">\n",
       "      <th></th>\n",
       "      <th>id</th>\n",
       "      <th>f0</th>\n",
       "      <th>f1</th>\n",
       "      <th>f2</th>\n",
       "      <th>product</th>\n",
       "    </tr>\n",
       "  </thead>\n",
       "  <tbody>\n",
       "    <tr>\n",
       "      <th>0</th>\n",
       "      <td>fwXo0</td>\n",
       "      <td>-1.146987</td>\n",
       "      <td>0.963328</td>\n",
       "      <td>-0.828965</td>\n",
       "      <td>27.758673</td>\n",
       "    </tr>\n",
       "    <tr>\n",
       "      <th>1</th>\n",
       "      <td>WJtFt</td>\n",
       "      <td>0.262778</td>\n",
       "      <td>0.269839</td>\n",
       "      <td>-2.530187</td>\n",
       "      <td>56.069697</td>\n",
       "    </tr>\n",
       "    <tr>\n",
       "      <th>2</th>\n",
       "      <td>ovLUW</td>\n",
       "      <td>0.194587</td>\n",
       "      <td>0.289035</td>\n",
       "      <td>-5.586433</td>\n",
       "      <td>62.871910</td>\n",
       "    </tr>\n",
       "    <tr>\n",
       "      <th>3</th>\n",
       "      <td>q6cA6</td>\n",
       "      <td>2.236060</td>\n",
       "      <td>-0.553760</td>\n",
       "      <td>0.930038</td>\n",
       "      <td>114.572842</td>\n",
       "    </tr>\n",
       "    <tr>\n",
       "      <th>4</th>\n",
       "      <td>WPMUX</td>\n",
       "      <td>-0.515993</td>\n",
       "      <td>1.716266</td>\n",
       "      <td>5.899011</td>\n",
       "      <td>149.600746</td>\n",
       "    </tr>\n",
       "  </tbody>\n",
       "</table>\n",
       "</div>"
      ],
      "text/plain": [
       "      id        f0        f1        f2     product\n",
       "0  fwXo0 -1.146987  0.963328 -0.828965   27.758673\n",
       "1  WJtFt  0.262778  0.269839 -2.530187   56.069697\n",
       "2  ovLUW  0.194587  0.289035 -5.586433   62.871910\n",
       "3  q6cA6  2.236060 -0.553760  0.930038  114.572842\n",
       "4  WPMUX -0.515993  1.716266  5.899011  149.600746"
      ]
     },
     "execution_count": 9,
     "metadata": {},
     "output_type": "execute_result"
    }
   ],
   "source": [
    "data_2.head()"
   ]
  },
  {
   "cell_type": "markdown",
   "metadata": {},
   "source": [
    "Выполним проверку на дубликаты и пропуски."
   ]
  },
  {
   "cell_type": "code",
   "execution_count": 10,
   "metadata": {},
   "outputs": [
    {
     "data": {
      "text/plain": [
       "(100000, 5)"
      ]
     },
     "execution_count": 10,
     "metadata": {},
     "output_type": "execute_result"
    }
   ],
   "source": [
    "data_0 = data_0.drop_duplicates()\n",
    "data_0.shape"
   ]
  },
  {
   "cell_type": "code",
   "execution_count": 11,
   "metadata": {},
   "outputs": [
    {
     "data": {
      "text/plain": [
       "(100000, 5)"
      ]
     },
     "execution_count": 11,
     "metadata": {},
     "output_type": "execute_result"
    }
   ],
   "source": [
    "data_1 = data_1.drop_duplicates()\n",
    "data_1.shape"
   ]
  },
  {
   "cell_type": "code",
   "execution_count": 12,
   "metadata": {},
   "outputs": [
    {
     "data": {
      "text/plain": [
       "(100000, 5)"
      ]
     },
     "execution_count": 12,
     "metadata": {},
     "output_type": "execute_result"
    }
   ],
   "source": [
    "data_2 = data_2.drop_duplicates()\n",
    "data_2.shape"
   ]
  },
  {
   "cell_type": "code",
   "execution_count": 13,
   "metadata": {},
   "outputs": [
    {
     "data": {
      "text/plain": [
       "id         0\n",
       "f0         0\n",
       "f1         0\n",
       "f2         0\n",
       "product    0\n",
       "dtype: int64"
      ]
     },
     "execution_count": 13,
     "metadata": {},
     "output_type": "execute_result"
    }
   ],
   "source": [
    "data_0.isna().sum()"
   ]
  },
  {
   "cell_type": "code",
   "execution_count": 14,
   "metadata": {},
   "outputs": [
    {
     "data": {
      "text/plain": [
       "id         0\n",
       "f0         0\n",
       "f1         0\n",
       "f2         0\n",
       "product    0\n",
       "dtype: int64"
      ]
     },
     "execution_count": 14,
     "metadata": {},
     "output_type": "execute_result"
    }
   ],
   "source": [
    "data_1.isna().sum()"
   ]
  },
  {
   "cell_type": "code",
   "execution_count": 15,
   "metadata": {},
   "outputs": [
    {
     "data": {
      "text/plain": [
       "id         0\n",
       "f0         0\n",
       "f1         0\n",
       "f2         0\n",
       "product    0\n",
       "dtype: int64"
      ]
     },
     "execution_count": 15,
     "metadata": {},
     "output_type": "execute_result"
    }
   ],
   "source": [
    "data_2.isna().sum()"
   ]
  },
  {
   "cell_type": "code",
   "execution_count": 16,
   "metadata": {},
   "outputs": [
    {
     "data": {
      "image/png": "[encoded data removed]",
      "text/plain": [
       "<Figure size 432x288 with 2 Axes>"
      ]
     },
     "metadata": {
      "needs_background": "light"
     },
     "output_type": "display_data"
    },
    {
     "data": {
      "image/png": "[encoded data removed]",
      "text/plain": [
       "<Figure size 360x360 with 2 Axes>"
      ]
     },
     "metadata": {},
     "output_type": "display_data"
    },
    {
     "data": {
      "image/png": "[encoded data removed]",
      "text/plain": [
       "<Figure size 360x360 with 2 Axes>"
      ]
     },
     "metadata": {},
     "output_type": "display_data"
    }
   ],
   "source": [
    "for data in [data_0,data_1,data_2]:\n",
    "    corr = data.drop('id',axis=1).corr()\n",
    "    plt.figure()\n",
    "    fig = sns.heatmap(corr, annot=True);\n",
    "    sns.set(rc = {'figure.figsize':(5,5)})"
   ]
  },
  {
   "cell_type": "markdown",
   "metadata": {},
   "source": [
    "Вывод: в каждом датасете собраны данные с названием скважин, признаками свойств нефти (предположительно) и объемом добываемой продукции. Дубликаты и пропуски отсутствуют. Мы построили график корреляций для трех датасетов и определили, что наиболее сильная зависимость объема нефти от признака f2. Во втором датасете особенно."
   ]
  },
  {
   "cell_type": "markdown",
   "metadata": {},
   "source": [
    "## Обучение и проверка модели"
   ]
  },
  {
   "cell_type": "markdown",
   "metadata": {},
   "source": [
    "Разделим данные на целевой признак и обучающие (удалим признак \"id\", который является уникальным и не повышает качество модели)"
   ]
  },
  {
   "cell_type": "code",
   "execution_count": 17,
   "metadata": {},
   "outputs": [],
   "source": [
    "target_0 = data_0['product']\n",
    "target_1 = data_1['product']\n",
    "target_2 = data_2['product']"
   ]
  },
  {
   "cell_type": "code",
   "execution_count": 18,
   "metadata": {},
   "outputs": [],
   "source": [
    "features_0 = data_0.loc[:,~data_0.columns.isin (['id','product'])]\n",
    "features_1 = data_1.loc[:,~data_1.columns.isin (['id','product'])]\n",
    "features_2 = data_2.loc[:,~data_2.columns.isin (['id','product'])]"
   ]
  },
  {
   "cell_type": "markdown",
   "metadata": {},
   "source": [
    "Разделим выборки на обучающую и валидационную в соотношении 75:25"
   ]
  },
  {
   "cell_type": "code",
   "execution_count": 19,
   "metadata": {},
   "outputs": [],
   "source": [
    "features_0_train,features_0_valid,target_0_train,target_0_valid = train_test_split(features_0,target_0,test_size=0.25,random_state=12345)\n",
    "features_1_train,features_1_valid,target_1_train,target_1_valid = train_test_split(features_1,target_1,test_size=0.25,random_state=12345)\n",
    "features_2_train,features_2_valid,target_2_train,target_2_valid = train_test_split(features_2,target_2,test_size=0.25,random_state=12345)"
   ]
  },
  {
   "cell_type": "markdown",
   "metadata": {},
   "source": [
    "Обучим модели линейной регрессии на обучающиx и целевыx признаках, получим - предсказания, предсказания для валидационной выборки, средне-квадратичное отклонение и корень из него."
   ]
  },
  {
   "cell_type": "code",
   "execution_count": 20,
   "metadata": {},
   "outputs": [],
   "source": [
    "model = LinearRegression()\n",
    "model.fit(features_0_train, target_0_train)\n",
    "predicted_0_valid = model.predict(features_0_valid)\n",
    "predicted_0 = model.predict(features_0)\n",
    "mse_0 = mean_squared_error(target_0_valid, predicted_0_valid)\n",
    "rmse_0 = mse_0 ** 0.5"
   ]
  },
  {
   "cell_type": "code",
   "execution_count": 21,
   "metadata": {},
   "outputs": [],
   "source": [
    "model = LinearRegression()\n",
    "model.fit(features_1_train, target_1_train)\n",
    "predicted_1_valid = model.predict(features_1_valid)\n",
    "predicted_1 = model.predict(features_1)\n",
    "mse_1 = mean_squared_error(target_1_valid, predicted_1_valid)\n",
    "rmse_1 = mse_1 ** 0.5"
   ]
  },
  {
   "cell_type": "code",
   "execution_count": 22,
   "metadata": {},
   "outputs": [],
   "source": [
    "model = LinearRegression()\n",
    "model.fit(features_2_train, target_2_train)\n",
    "predicted_2_valid = model.predict(features_2_valid)\n",
    "predicted_2 = model.predict(features_2)\n",
    "mse_2 = mean_squared_error(target_2_valid, predicted_2_valid)\n",
    "rmse_2 = mse_2 ** 0.5"
   ]
  },
  {
   "cell_type": "markdown",
   "metadata": {},
   "source": [
    "Выведем на экран сравнение предсказанного объема сырья и фактического объема сырья на валидационной выборке."
   ]
  },
  {
   "cell_type": "code",
   "execution_count": 23,
   "metadata": {},
   "outputs": [],
   "source": [
    "def dataframing (pr_target,pr_predicted):\n",
    "    pr_mod = pd.DataFrame({'product_target':pr_target.to_list(),'product_predicted':pr_predicted}).head()\n",
    "    return print(pr_mod)"
   ]
  },
  {
   "cell_type": "code",
   "execution_count": 24,
   "metadata": {},
   "outputs": [
    {
     "name": "stdout",
     "output_type": "stream",
     "text": [
      "   product_target  product_predicted\n",
      "0       10.038645          95.894952\n",
      "1      114.551489          77.572583\n",
      "2      132.603635          77.892640\n",
      "3      169.072125          90.175134\n",
      "4      122.325180          70.510088\n",
      "\n",
      "\n",
      "   product_target  product_predicted\n",
      "0       80.859783          82.663314\n",
      "1       53.906522          54.431786\n",
      "2       30.132364          29.748760\n",
      "3       53.906522          53.552133\n",
      "4        0.000000           1.243856\n",
      "\n",
      "\n",
      "   product_target  product_predicted\n",
      "0       61.212375          93.599633\n",
      "1       41.850118          75.105159\n",
      "2       57.776581          90.066809\n",
      "3      100.053761         105.162375\n",
      "4      109.897122         115.303310\n"
     ]
    }
   ],
   "source": [
    "dataframing(target_0_valid,predicted_0_valid)\n",
    "print('\\n')\n",
    "dataframing(target_1_valid,predicted_1_valid)\n",
    "print('\\n')\n",
    "dataframing(target_2_valid,predicted_2_valid)"
   ]
  },
  {
   "cell_type": "markdown",
   "metadata": {},
   "source": [
    "Сравнение средних показателей предсказанного и фактического объемов сырья, а также показатель rmse для валидационных выборок в каждом из регионов. "
   ]
  },
  {
   "cell_type": "code",
   "execution_count": 25,
   "metadata": {},
   "outputs": [
    {
     "data": {
      "text/html": [
       "<div>\n",
       "<style scoped>\n",
       "    .dataframe tbody tr th:only-of-type {\n",
       "        vertical-align: middle;\n",
       "    }\n",
       "\n",
       "    .dataframe tbody tr th {\n",
       "        vertical-align: top;\n",
       "    }\n",
       "\n",
       "    .dataframe thead th {\n",
       "        text-align: right;\n",
       "    }\n",
       "</style>\n",
       "<table border=\"1\" class=\"dataframe\">\n",
       "  <thead>\n",
       "    <tr style=\"text-align: right;\">\n",
       "      <th></th>\n",
       "      <th>aver_product_fact</th>\n",
       "      <th>aver_product_predicted</th>\n",
       "      <th>rmse</th>\n",
       "    </tr>\n",
       "  </thead>\n",
       "  <tbody>\n",
       "    <tr>\n",
       "      <th>0</th>\n",
       "      <td>92.078597</td>\n",
       "      <td>92.592568</td>\n",
       "      <td>37.579422</td>\n",
       "    </tr>\n",
       "    <tr>\n",
       "      <th>1</th>\n",
       "      <td>68.723136</td>\n",
       "      <td>68.728547</td>\n",
       "      <td>0.893099</td>\n",
       "    </tr>\n",
       "    <tr>\n",
       "      <th>2</th>\n",
       "      <td>94.884233</td>\n",
       "      <td>94.965046</td>\n",
       "      <td>40.029709</td>\n",
       "    </tr>\n",
       "  </tbody>\n",
       "</table>\n",
       "</div>"
      ],
      "text/plain": [
       "   aver_product_fact  aver_product_predicted       rmse\n",
       "0          92.078597               92.592568  37.579422\n",
       "1          68.723136               68.728547   0.893099\n",
       "2          94.884233               94.965046  40.029709"
      ]
     },
     "execution_count": 25,
     "metadata": {},
     "output_type": "execute_result"
    }
   ],
   "source": [
    "table = pd.DataFrame({\n",
    "    'aver_product_fact':[target_0_valid.mean(),target_1_valid.mean(),target_2_valid.mean()],\n",
    "    'aver_product_predicted':[predicted_0_valid.mean(),predicted_1_valid.mean(),predicted_2_valid.mean()],\n",
    "    'rmse':[rmse_0,rmse_1,rmse_2]})\n",
    "table"
   ]
  },
  {
   "cell_type": "markdown",
   "metadata": {},
   "source": [
    "Выведем на экрен Сравнение средних фактических и предсказанных объемов сырья для общих выборок в каждом из трех регионов."
   ]
  },
  {
   "cell_type": "code",
   "execution_count": 26,
   "metadata": {},
   "outputs": [
    {
     "data": {
      "text/html": [
       "<div>\n",
       "<style scoped>\n",
       "    .dataframe tbody tr th:only-of-type {\n",
       "        vertical-align: middle;\n",
       "    }\n",
       "\n",
       "    .dataframe tbody tr th {\n",
       "        vertical-align: top;\n",
       "    }\n",
       "\n",
       "    .dataframe thead th {\n",
       "        text-align: right;\n",
       "    }\n",
       "</style>\n",
       "<table border=\"1\" class=\"dataframe\">\n",
       "  <thead>\n",
       "    <tr style=\"text-align: right;\">\n",
       "      <th></th>\n",
       "      <th>aver_product_fact</th>\n",
       "      <th>aver_product_predicted</th>\n",
       "    </tr>\n",
       "  </thead>\n",
       "  <tbody>\n",
       "    <tr>\n",
       "      <th>0</th>\n",
       "      <td>92.500</td>\n",
       "      <td>92.628493</td>\n",
       "    </tr>\n",
       "    <tr>\n",
       "      <th>1</th>\n",
       "      <td>68.825</td>\n",
       "      <td>68.826353</td>\n",
       "    </tr>\n",
       "    <tr>\n",
       "      <th>2</th>\n",
       "      <td>95.000</td>\n",
       "      <td>95.020203</td>\n",
       "    </tr>\n",
       "  </tbody>\n",
       "</table>\n",
       "</div>"
      ],
      "text/plain": [
       "   aver_product_fact  aver_product_predicted\n",
       "0             92.500               92.628493\n",
       "1             68.825               68.826353\n",
       "2             95.000               95.020203"
      ]
     },
     "execution_count": 26,
     "metadata": {},
     "output_type": "execute_result"
    }
   ],
   "source": [
    "table_1 = pd.DataFrame({\n",
    "    'aver_product_fact':[target_0.mean(),target_1.mean(),target_2.mean()],\n",
    "    'aver_product_predicted':[predicted_0.mean(),predicted_1.mean(),predicted_2.mean()]\n",
    "    })\n",
    "table_1"
   ]
  },
  {
   "cell_type": "markdown",
   "metadata": {},
   "source": [
    "Вывод: после обучения модели видим, что наименьшее значение ошибки для модели второго региона."
   ]
  },
  {
   "cell_type": "markdown",
   "metadata": {},
   "source": [
    "## Подготовка к расчёту прибыли"
   ]
  },
  {
   "cell_type": "code",
   "execution_count": 27,
   "metadata": {},
   "outputs": [
    {
     "name": "stdout",
     "output_type": "stream",
     "text": [
      "Объем добычи с 1 скважины, который нужен для безубыточной разработка 111.11111111111111 тыс.барр.\n"
     ]
    }
   ],
   "source": [
    "v = REGION_BUDGET/(WELL_INCOME*10**3*EXPLOITATION_POINTS) #рассчитываем безубыточный объем в тыс.барр.\n",
    "print(f'Объем добычи с 1 скважины, который нужен для безубыточной разработка {v} тыс.барр.')"
   ]
  },
  {
   "cell_type": "code",
   "execution_count": 28,
   "metadata": {},
   "outputs": [
    {
     "name": "stdout",
     "output_type": "stream",
     "text": [
      "Средний объем добычи с 1 одной скважины в 1 регионе 92.50000000000001 тыс.барр.\n"
     ]
    }
   ],
   "source": [
    "print(f'Средний объем добычи с 1 одной скважины в 1 регионе {target_0.mean()} тыс.барр.')"
   ]
  },
  {
   "cell_type": "code",
   "execution_count": 29,
   "metadata": {},
   "outputs": [
    {
     "name": "stdout",
     "output_type": "stream",
     "text": [
      "Средний объем добычи с 1 одной скважины в 2 регионе 68.82500000000002 тыс.барр.\n"
     ]
    }
   ],
   "source": [
    "print(f'Средний объем добычи с 1 одной скважины в 2 регионе {target_1.mean()} тыс.барр.')"
   ]
  },
  {
   "cell_type": "code",
   "execution_count": 30,
   "metadata": {},
   "outputs": [
    {
     "name": "stdout",
     "output_type": "stream",
     "text": [
      "Средний объем добычи с 1 одной скважины в 3 регионе 95.00000000000004 тыс.барр.\n"
     ]
    }
   ],
   "source": [
    "print(f'Средний объем добычи с 1 одной скважины в 3 регионе {target_2.mean()} тыс.барр.')"
   ]
  },
  {
   "cell_type": "code",
   "execution_count": 31,
   "metadata": {},
   "outputs": [
    {
     "data": {
      "text/plain": [
       "185.3643474222929"
      ]
     },
     "execution_count": 31,
     "metadata": {},
     "output_type": "execute_result"
    }
   ],
   "source": [
    "data_0['product'].max() #максимальный объем доыбчи нефти в первом регионе"
   ]
  },
  {
   "cell_type": "code",
   "execution_count": 32,
   "metadata": {},
   "outputs": [
    {
     "data": {
      "text/plain": [
       "137.94540774090564"
      ]
     },
     "execution_count": 32,
     "metadata": {},
     "output_type": "execute_result"
    }
   ],
   "source": [
    "data_1['product'].max() #максимальный объем доыбчи нефти во втором регионе"
   ]
  },
  {
   "cell_type": "code",
   "execution_count": 33,
   "metadata": {},
   "outputs": [
    {
     "data": {
      "text/plain": [
       "190.0298383433513"
      ]
     },
     "execution_count": 33,
     "metadata": {},
     "output_type": "execute_result"
    }
   ],
   "source": [
    "data_2['product'].max() #максимальный объем доыбчи нефти в третьем регионе"
   ]
  },
  {
   "cell_type": "markdown",
   "metadata": {},
   "source": [
    "Средний объем в каждом регионе меньше безубыточного значения, а следовательно, во всех регионах концентрация продукта слишком низкая, чтобы выбирать скважны случайно."
   ]
  },
  {
   "cell_type": "markdown",
   "metadata": {},
   "source": [
    "Напишем формулу для расчета прибыли, на вход она будет получать серии из фактических и прогнозных данных, а выдавать прибыль для 200 скважин."
   ]
  },
  {
   "cell_type": "code",
   "execution_count": 34,
   "metadata": {},
   "outputs": [],
   "source": [
    "def explore (target,predictions,count):\n",
    "    pred_sorted = predictions.sort_values(ascending=False)\n",
    "    selested_target = target[pred_sorted.index][:count]\n",
    "    return (WELL_INCOME*10**3*selested_target.sum() - REGION_BUDGET)"
   ]
  },
  {
   "cell_type": "code",
   "execution_count": 35,
   "metadata": {},
   "outputs": [
    {
     "name": "stdout",
     "output_type": "stream",
     "text": [
      "3.49 млрд.руб.\n"
     ]
    }
   ],
   "source": [
    "predicted_0  = pd.Series(predicted_0) #расчет прибыли в первом регионе\n",
    "result_0 = explore(target_0,predicted_0,200)\n",
    "print(round(result_0/10**9,2), 'млрд.руб.')"
   ]
  },
  {
   "cell_type": "code",
   "execution_count": 36,
   "metadata": {},
   "outputs": [
    {
     "name": "stdout",
     "output_type": "stream",
     "text": [
      "2.42 млрд.руб.\n"
     ]
    }
   ],
   "source": [
    "predicted_1  = pd.Series(predicted_1) #расчет прибыли во втором регионе\n",
    "result_1 = explore(target_1,predicted_1,200)\n",
    "print(round(result_1/10**9,2), 'млрд.руб.')"
   ]
  },
  {
   "cell_type": "code",
   "execution_count": 37,
   "metadata": {},
   "outputs": [
    {
     "name": "stdout",
     "output_type": "stream",
     "text": [
      "2.57 млрд.руб.\n"
     ]
    }
   ],
   "source": [
    "predicted_2  = pd.Series(predicted_2) #расчет прибыли в третьем регионе\n",
    "result_2 = explore(target_2,predicted_2,200)\n",
    "print(round(result_2/10**9,2), 'млрд.руб.')"
   ]
  },
  {
   "cell_type": "markdown",
   "metadata": {},
   "source": [
    "Вывод: По формуле получаем, что каждый регион способен выдать безубыточную добычу, однако нужно проверить, не получили ли мы этот результат случайно. Для этого в следующем разделе сгенерируем много случайных выборок и определим среднюю прибыль там, а также оценим риск убыточности и доверительный интервал."
   ]
  },
  {
   "cell_type": "markdown",
   "metadata": {},
   "source": [
    "## Расчёт прибыли и рисков "
   ]
  },
  {
   "cell_type": "markdown",
   "metadata": {},
   "source": [
    "Применим Bootstrap для 1000 выборок, чтобы оценить распределение прибыли, найти у этого распределения среднее значение и 95% доверительный интервал. Он позволит увидеть нижнее и верхнее значения, которые с большой вероятностью будут больше/меньше любого значения из выборки."
   ]
  },
  {
   "cell_type": "code",
   "execution_count": 38,
   "metadata": {},
   "outputs": [],
   "source": [
    "state = np.random.RandomState(12345)"
   ]
  },
  {
   "cell_type": "code",
   "execution_count": 39,
   "metadata": {},
   "outputs": [],
   "source": [
    "def profit_risk_int (target,predictions):\n",
    "    values=[]\n",
    "    for i in range(1000):\n",
    "        pred_subsample = predictions.sample(n=500,replace=True,random_state=state)\n",
    "        res = explore(target,pred_subsample,200)\n",
    "        values.append(res)\n",
    "    val = pd.Series(values)\n",
    "    negative_profit_quantile = len(val.loc[val<0])/len(val)    \n",
    "    return print('Средняя прибыль равна',round(val.mean()/10**9,3), 'млрд.руб.','\\n',\n",
    "                '2,5 квантиль равен', round(val.quantile(0.025)/10**9,3),'млрд.руб.','\\n',\n",
    "                '97,5 квантиль равен', round(val.quantile(0.975)/10**9,3),'млрд.руб.','\\n',\n",
    "                'Вероятность убытков', negative_profit_quantile*100,'%')"
   ]
  },
  {
   "cell_type": "code",
   "execution_count": 40,
   "metadata": {},
   "outputs": [
    {
     "name": "stdout",
     "output_type": "stream",
     "text": [
      "Средняя прибыль равна 0.424 млрд.руб. \n",
      " 2,5 квантиль равен -0.078 млрд.руб. \n",
      " 97,5 квантиль равен 0.969 млрд.руб. \n",
      " Вероятность убытков 5.2 %\n"
     ]
    }
   ],
   "source": [
    "profit_risk_int(target_0,predicted_0) #расчет прибыли и доверительного интервала в первом регионе"
   ]
  },
  {
   "cell_type": "code",
   "execution_count": 41,
   "metadata": {},
   "outputs": [
    {
     "name": "stdout",
     "output_type": "stream",
     "text": [
      "Средняя прибыль равна 0.435 млрд.руб. \n",
      " 2,5 квантиль равен 0.042 млрд.руб. \n",
      " 97,5 квантиль равен 0.804 млрд.руб. \n",
      " Вероятность убытков 1.0 %\n"
     ]
    }
   ],
   "source": [
    "profit_risk_int(target_1,predicted_1) #расчет прибыли и доверительного интервала в втором регионе"
   ]
  },
  {
   "cell_type": "code",
   "execution_count": 42,
   "metadata": {},
   "outputs": [
    {
     "name": "stdout",
     "output_type": "stream",
     "text": [
      "Средняя прибыль равна 0.387 млрд.руб. \n",
      " 2,5 квантиль равен -0.147 млрд.руб. \n",
      " 97,5 квантиль равен 0.878 млрд.руб. \n",
      " Вероятность убытков 8.200000000000001 %\n"
     ]
    }
   ],
   "source": [
    "profit_risk_int(target_2,predicted_2) #расчет прибыли и доверительного интервала в третьем регионе"
   ]
  },
  {
   "cell_type": "markdown",
   "metadata": {},
   "source": [
    "Вывод: Итак мы получили, что безубыточная разработка возможна только во втором регионе. \n",
    "95% доверительный интервал это интервал значений между 2,5 и 97,5 квантилем.\n",
    "2,5 квантиль распределения прибыли равен - 0,042 млрд.руб. То есть в 2,5% случаев прибыль будет меньше, либо равна 0,042 млрд.руб. Следовательно, значение 0 млрд лежит в зоне вероятности менее 2,5 %, другими словами вероятность убытков во втором регионе меньше 2.5%. А именно 1% - то есть что на 1 квантиле значение прибыли становится положительным. \n",
    "Для двух других регионов вероятность убытков выше - 5 и 8 % для 1 и 3 регионов соответственно."
   ]
  },
  {
   "cell_type": "markdown",
   "metadata": {},
   "source": [
    "## Заключение"
   ]
  },
  {
   "cell_type": "markdown",
   "metadata": {},
   "source": [
    "В проекте мы рассмотрели три региона месторождений нефти, нам были предоставлены пробы продукций 10000 скважин, среди которых с помощью модели машинного обучения мы должны были выбрать 200 шт. для безубыточной разработки и эксплуатации с вероятностью 97,5%.\n",
    "\n",
    "После создания модели линейной регрессии мы оценили прибыльность 200 скважин, производительность которых соответствовала максимальным предсказаниям модели.\n",
    "\n",
    "В результате мы получили, что разработка региона №2 будет гарантировать нам наибольшую среднюю прибыль 0,43 млрд.руб. При этом с вероятностью 95% это значение попадет в интервал от 0,04 до 0,8 млрд.руб. А вероятность убытков, то есть получения отрицательной прибыли будет около 1 %."
   ]
  }
 ],
 "metadata": {
  "ExecuteTimeLog": [
   {
    "duration": 1626,
    "start_time": "2022-11-03T10:16:53.285Z"
   },
   {
    "duration": 384,
    "start_time": "2022-11-03T10:17:35.813Z"
   },
   {
    "duration": 506,
    "start_time": "2022-11-03T10:18:12.426Z"
   },
   {
    "duration": 15,
    "start_time": "2022-11-03T10:18:37.779Z"
   },
   {
    "duration": 16,
    "start_time": "2022-11-03T10:18:57.067Z"
   },
   {
    "duration": 14,
    "start_time": "2022-11-03T10:19:25.465Z"
   },
   {
    "duration": 14,
    "start_time": "2022-11-03T10:19:34.518Z"
   },
   {
    "duration": 10,
    "start_time": "2022-11-03T10:19:52.666Z"
   },
   {
    "duration": 10,
    "start_time": "2022-11-03T10:20:00.367Z"
   },
   {
    "duration": 55,
    "start_time": "2022-11-03T10:20:25.082Z"
   },
   {
    "duration": 51,
    "start_time": "2022-11-03T10:21:08.762Z"
   },
   {
    "duration": 50,
    "start_time": "2022-11-03T10:21:20.861Z"
   },
   {
    "duration": 51,
    "start_time": "2022-11-03T10:21:29.366Z"
   },
   {
    "duration": 9,
    "start_time": "2022-11-03T10:21:53.852Z"
   },
   {
    "duration": 10,
    "start_time": "2022-11-03T10:22:00.466Z"
   },
   {
    "duration": 9,
    "start_time": "2022-11-03T10:22:09.130Z"
   },
   {
    "duration": 5,
    "start_time": "2022-11-03T10:23:55.324Z"
   },
   {
    "duration": 107,
    "start_time": "2022-11-03T10:42:57.293Z"
   },
   {
    "duration": 10,
    "start_time": "2022-11-03T10:43:09.309Z"
   },
   {
    "duration": 20,
    "start_time": "2022-11-03T10:43:51.487Z"
   },
   {
    "duration": 16,
    "start_time": "2022-11-03T10:44:08.000Z"
   },
   {
    "duration": 85,
    "start_time": "2022-11-03T16:19:21.948Z"
   },
   {
    "duration": 1491,
    "start_time": "2022-11-03T16:21:04.683Z"
   },
   {
    "duration": 2097,
    "start_time": "2022-11-03T16:21:06.176Z"
   },
   {
    "duration": 18,
    "start_time": "2022-11-03T16:21:08.274Z"
   },
   {
    "duration": 14,
    "start_time": "2022-11-03T16:21:08.294Z"
   },
   {
    "duration": 11,
    "start_time": "2022-11-03T16:21:08.310Z"
   },
   {
    "duration": 11,
    "start_time": "2022-11-03T16:21:08.323Z"
   },
   {
    "duration": 8,
    "start_time": "2022-11-03T16:21:08.335Z"
   },
   {
    "duration": 34,
    "start_time": "2022-11-03T16:21:08.344Z"
   },
   {
    "duration": 44,
    "start_time": "2022-11-03T16:21:08.380Z"
   },
   {
    "duration": 59,
    "start_time": "2022-11-03T16:21:08.425Z"
   },
   {
    "duration": 48,
    "start_time": "2022-11-03T16:21:08.485Z"
   },
   {
    "duration": 8,
    "start_time": "2022-11-03T16:21:08.535Z"
   },
   {
    "duration": 9,
    "start_time": "2022-11-03T16:21:08.545Z"
   },
   {
    "duration": 11,
    "start_time": "2022-11-03T16:21:08.576Z"
   },
   {
    "duration": 3,
    "start_time": "2022-11-03T16:21:08.589Z"
   },
   {
    "duration": 15,
    "start_time": "2022-11-03T16:21:08.594Z"
   },
   {
    "duration": 72,
    "start_time": "2022-11-03T16:21:13.803Z"
   },
   {
    "duration": 72,
    "start_time": "2022-11-03T16:21:33.567Z"
   },
   {
    "duration": 20,
    "start_time": "2022-11-03T16:22:57.762Z"
   },
   {
    "duration": 4,
    "start_time": "2022-11-03T16:26:00.289Z"
   },
   {
    "duration": 127,
    "start_time": "2022-11-03T16:27:02.768Z"
   },
   {
    "duration": 3,
    "start_time": "2022-11-03T16:27:29.602Z"
   },
   {
    "duration": 25,
    "start_time": "2022-11-03T16:27:30.379Z"
   },
   {
    "duration": 28,
    "start_time": "2022-11-03T16:27:39.776Z"
   },
   {
    "duration": 2,
    "start_time": "2022-11-03T16:28:47.152Z"
   },
   {
    "duration": 8,
    "start_time": "2022-11-03T16:28:59.004Z"
   },
   {
    "duration": 24,
    "start_time": "2022-11-03T16:29:22.968Z"
   },
   {
    "duration": 29,
    "start_time": "2022-11-03T16:29:31.672Z"
   },
   {
    "duration": 19,
    "start_time": "2022-11-03T16:29:35.415Z"
   },
   {
    "duration": 21,
    "start_time": "2022-11-03T16:29:40.481Z"
   },
   {
    "duration": 23,
    "start_time": "2022-11-03T16:29:48.421Z"
   },
   {
    "duration": 25,
    "start_time": "2022-11-03T16:30:07.869Z"
   },
   {
    "duration": 19,
    "start_time": "2022-11-03T16:32:54.174Z"
   },
   {
    "duration": 16,
    "start_time": "2022-11-03T16:33:34.469Z"
   },
   {
    "duration": 18,
    "start_time": "2022-11-03T16:34:27.893Z"
   },
   {
    "duration": 3,
    "start_time": "2022-11-03T16:35:01.676Z"
   },
   {
    "duration": 3,
    "start_time": "2022-11-03T16:44:15.854Z"
   },
   {
    "duration": 36,
    "start_time": "2022-11-03T16:45:12.615Z"
   },
   {
    "duration": 35,
    "start_time": "2022-11-03T16:47:52.479Z"
   },
   {
    "duration": 3,
    "start_time": "2022-11-03T16:53:15.404Z"
   },
   {
    "duration": 36,
    "start_time": "2022-11-03T16:53:19.139Z"
   },
   {
    "duration": 35,
    "start_time": "2022-11-03T16:54:45.151Z"
   },
   {
    "duration": 37,
    "start_time": "2022-11-03T16:55:42.836Z"
   },
   {
    "duration": 2,
    "start_time": "2022-11-03T16:56:05.213Z"
   },
   {
    "duration": 13,
    "start_time": "2022-11-03T16:56:39.384Z"
   },
   {
    "duration": 5,
    "start_time": "2022-11-03T16:56:53.611Z"
   },
   {
    "duration": 3,
    "start_time": "2022-11-03T16:57:30.291Z"
   },
   {
    "duration": 5,
    "start_time": "2022-11-03T16:57:38.613Z"
   },
   {
    "duration": 5,
    "start_time": "2022-11-03T16:58:11.932Z"
   },
   {
    "duration": 44,
    "start_time": "2022-11-03T17:00:02.492Z"
   },
   {
    "duration": 1262,
    "start_time": "2022-11-03T17:00:11.751Z"
   },
   {
    "duration": 367,
    "start_time": "2022-11-03T17:00:13.015Z"
   },
   {
    "duration": 19,
    "start_time": "2022-11-03T17:00:13.384Z"
   },
   {
    "duration": 14,
    "start_time": "2022-11-03T17:00:13.405Z"
   },
   {
    "duration": 13,
    "start_time": "2022-11-03T17:00:13.421Z"
   },
   {
    "duration": 13,
    "start_time": "2022-11-03T17:00:13.435Z"
   },
   {
    "duration": 41,
    "start_time": "2022-11-03T17:00:13.449Z"
   },
   {
    "duration": 17,
    "start_time": "2022-11-03T17:00:13.492Z"
   },
   {
    "duration": 48,
    "start_time": "2022-11-03T17:00:13.511Z"
   },
   {
    "duration": 74,
    "start_time": "2022-11-03T17:00:13.561Z"
   },
   {
    "duration": 58,
    "start_time": "2022-11-03T17:00:13.637Z"
   },
   {
    "duration": 10,
    "start_time": "2022-11-03T17:00:13.698Z"
   },
   {
    "duration": 10,
    "start_time": "2022-11-03T17:00:13.709Z"
   },
   {
    "duration": 8,
    "start_time": "2022-11-03T17:00:13.720Z"
   },
   {
    "duration": 4,
    "start_time": "2022-11-03T17:00:13.730Z"
   },
   {
    "duration": 109,
    "start_time": "2022-11-03T17:00:20.234Z"
   },
   {
    "duration": 13,
    "start_time": "2022-11-03T17:00:36.421Z"
   },
   {
    "duration": 1048,
    "start_time": "2022-11-03T17:01:15.960Z"
   },
   {
    "duration": 11,
    "start_time": "2022-11-03T17:01:49.565Z"
   },
   {
    "duration": 13,
    "start_time": "2022-11-03T17:01:50.698Z"
   },
   {
    "duration": 3,
    "start_time": "2022-11-03T17:01:51.517Z"
   },
   {
    "duration": 13,
    "start_time": "2022-11-03T17:01:52.213Z"
   },
   {
    "duration": 16,
    "start_time": "2022-11-03T17:02:04.587Z"
   },
   {
    "duration": 14,
    "start_time": "2022-11-03T17:02:05.160Z"
   },
   {
    "duration": 3,
    "start_time": "2022-11-03T17:03:46.624Z"
   },
   {
    "duration": 15,
    "start_time": "2022-11-03T17:04:18.607Z"
   },
   {
    "duration": 19,
    "start_time": "2022-11-03T17:04:31.296Z"
   },
   {
    "duration": 16,
    "start_time": "2022-11-03T17:05:55.574Z"
   },
   {
    "duration": 35,
    "start_time": "2022-11-03T17:09:00.455Z"
   },
   {
    "duration": 93,
    "start_time": "2022-11-03T17:09:18.889Z"
   },
   {
    "duration": 16,
    "start_time": "2022-11-03T17:11:49.000Z"
   },
   {
    "duration": 26,
    "start_time": "2022-11-03T17:13:39.457Z"
   },
   {
    "duration": 2,
    "start_time": "2022-11-03T17:15:06.952Z"
   },
   {
    "duration": 24,
    "start_time": "2022-11-03T17:15:12.276Z"
   },
   {
    "duration": 15,
    "start_time": "2022-11-03T17:15:30.609Z"
   },
   {
    "duration": 58,
    "start_time": "2022-11-03T17:18:24.029Z"
   },
   {
    "duration": 9,
    "start_time": "2022-11-03T17:19:38.260Z"
   },
   {
    "duration": 12,
    "start_time": "2022-11-03T17:19:44.596Z"
   },
   {
    "duration": 3,
    "start_time": "2022-11-03T17:20:39.190Z"
   },
   {
    "duration": 1343,
    "start_time": "2022-11-03T17:20:53.012Z"
   },
   {
    "duration": 345,
    "start_time": "2022-11-03T17:20:54.357Z"
   },
   {
    "duration": 13,
    "start_time": "2022-11-03T17:20:54.704Z"
   },
   {
    "duration": 12,
    "start_time": "2022-11-03T17:20:54.718Z"
   },
   {
    "duration": 20,
    "start_time": "2022-11-03T17:20:54.732Z"
   },
   {
    "duration": 32,
    "start_time": "2022-11-03T17:20:54.753Z"
   },
   {
    "duration": 9,
    "start_time": "2022-11-03T17:20:54.787Z"
   },
   {
    "duration": 10,
    "start_time": "2022-11-03T17:20:54.798Z"
   },
   {
    "duration": 51,
    "start_time": "2022-11-03T17:20:54.810Z"
   },
   {
    "duration": 76,
    "start_time": "2022-11-03T17:20:54.862Z"
   },
   {
    "duration": 61,
    "start_time": "2022-11-03T17:20:54.939Z"
   },
   {
    "duration": 9,
    "start_time": "2022-11-03T17:20:55.002Z"
   },
   {
    "duration": 8,
    "start_time": "2022-11-03T17:20:55.013Z"
   },
   {
    "duration": 8,
    "start_time": "2022-11-03T17:20:55.024Z"
   },
   {
    "duration": 4,
    "start_time": "2022-11-03T17:20:55.034Z"
   },
   {
    "duration": 38,
    "start_time": "2022-11-03T17:20:55.039Z"
   },
   {
    "duration": 5,
    "start_time": "2022-11-03T17:20:55.081Z"
   },
   {
    "duration": 24,
    "start_time": "2022-11-03T17:20:55.088Z"
   },
   {
    "duration": 13,
    "start_time": "2022-11-03T17:20:55.115Z"
   },
   {
    "duration": 11,
    "start_time": "2022-11-03T17:20:55.130Z"
   },
   {
    "duration": 6,
    "start_time": "2022-11-03T17:20:55.142Z"
   },
   {
    "duration": 16,
    "start_time": "2022-11-03T17:20:55.149Z"
   },
   {
    "duration": 14,
    "start_time": "2022-11-03T17:20:55.166Z"
   },
   {
    "duration": 11,
    "start_time": "2022-11-03T17:20:55.182Z"
   },
   {
    "duration": 5,
    "start_time": "2022-11-03T17:20:55.196Z"
   },
   {
    "duration": 83,
    "start_time": "2022-11-03T17:20:55.202Z"
   },
   {
    "duration": 102,
    "start_time": "2022-11-03T17:20:55.288Z"
   },
   {
    "duration": 186,
    "start_time": "2022-11-03T17:20:55.392Z"
   },
   {
    "duration": 105,
    "start_time": "2022-11-03T17:20:55.583Z"
   },
   {
    "duration": 196,
    "start_time": "2022-11-03T17:20:55.691Z"
   },
   {
    "duration": 10,
    "start_time": "2022-11-03T17:21:00.998Z"
   },
   {
    "duration": 5,
    "start_time": "2022-11-03T17:21:42.305Z"
   },
   {
    "duration": 5,
    "start_time": "2022-11-03T17:21:48.308Z"
   },
   {
    "duration": 1257,
    "start_time": "2022-11-03T17:22:48.329Z"
   },
   {
    "duration": 335,
    "start_time": "2022-11-03T17:22:49.588Z"
   },
   {
    "duration": 14,
    "start_time": "2022-11-03T17:22:49.924Z"
   },
   {
    "duration": 12,
    "start_time": "2022-11-03T17:22:49.939Z"
   },
   {
    "duration": 25,
    "start_time": "2022-11-03T17:22:49.952Z"
   },
   {
    "duration": 12,
    "start_time": "2022-11-03T17:22:49.978Z"
   },
   {
    "duration": 13,
    "start_time": "2022-11-03T17:22:49.992Z"
   },
   {
    "duration": 14,
    "start_time": "2022-11-03T17:22:50.006Z"
   },
   {
    "duration": 69,
    "start_time": "2022-11-03T17:22:50.021Z"
   },
   {
    "duration": 52,
    "start_time": "2022-11-03T17:22:50.094Z"
   },
   {
    "duration": 61,
    "start_time": "2022-11-03T17:22:50.148Z"
   },
   {
    "duration": 8,
    "start_time": "2022-11-03T17:22:50.211Z"
   },
   {
    "duration": 18,
    "start_time": "2022-11-03T17:22:50.220Z"
   },
   {
    "duration": 9,
    "start_time": "2022-11-03T17:22:50.239Z"
   },
   {
    "duration": 3,
    "start_time": "2022-11-03T17:22:50.249Z"
   },
   {
    "duration": 25,
    "start_time": "2022-11-03T17:22:50.253Z"
   },
   {
    "duration": 5,
    "start_time": "2022-11-03T17:22:53.404Z"
   },
   {
    "duration": 1698,
    "start_time": "2022-11-04T07:01:07.077Z"
   },
   {
    "duration": 847,
    "start_time": "2022-11-04T07:01:08.777Z"
   },
   {
    "duration": 17,
    "start_time": "2022-11-04T07:01:09.626Z"
   },
   {
    "duration": 23,
    "start_time": "2022-11-04T07:01:09.645Z"
   },
   {
    "duration": 16,
    "start_time": "2022-11-04T07:01:09.670Z"
   },
   {
    "duration": 14,
    "start_time": "2022-11-04T07:01:09.687Z"
   },
   {
    "duration": 38,
    "start_time": "2022-11-04T07:01:09.703Z"
   },
   {
    "duration": 18,
    "start_time": "2022-11-04T07:01:09.743Z"
   },
   {
    "duration": 69,
    "start_time": "2022-11-04T07:01:09.763Z"
   },
   {
    "duration": 68,
    "start_time": "2022-11-04T07:01:09.834Z"
   },
   {
    "duration": 84,
    "start_time": "2022-11-04T07:01:09.904Z"
   },
   {
    "duration": 9,
    "start_time": "2022-11-04T07:01:09.990Z"
   },
   {
    "duration": 25,
    "start_time": "2022-11-04T07:01:10.000Z"
   },
   {
    "duration": 10,
    "start_time": "2022-11-04T07:01:13.782Z"
   },
   {
    "duration": 6,
    "start_time": "2022-11-04T07:01:17.325Z"
   },
   {
    "duration": 6,
    "start_time": "2022-11-04T07:01:19.155Z"
   },
   {
    "duration": 9,
    "start_time": "2022-11-04T07:01:20.249Z"
   },
   {
    "duration": 12,
    "start_time": "2022-11-04T07:01:27.217Z"
   },
   {
    "duration": 3,
    "start_time": "2022-11-04T07:01:29.801Z"
   },
   {
    "duration": 13,
    "start_time": "2022-11-04T07:01:30.400Z"
   },
   {
    "duration": 15,
    "start_time": "2022-11-04T07:01:34.312Z"
   },
   {
    "duration": 15,
    "start_time": "2022-11-04T07:01:34.796Z"
   },
   {
    "duration": 5,
    "start_time": "2022-11-04T07:01:44.560Z"
   },
   {
    "duration": 122,
    "start_time": "2022-11-04T07:01:50.324Z"
   },
   {
    "duration": 20,
    "start_time": "2022-11-04T07:01:54.114Z"
   },
   {
    "duration": 27,
    "start_time": "2022-11-04T07:01:59.555Z"
   },
   {
    "duration": 27,
    "start_time": "2022-11-04T07:02:27.869Z"
   },
   {
    "duration": 3,
    "start_time": "2022-11-04T07:02:36.486Z"
   },
   {
    "duration": 6,
    "start_time": "2022-11-04T07:03:21.997Z"
   },
   {
    "duration": 144,
    "start_time": "2022-11-04T07:07:14.834Z"
   },
   {
    "duration": 13,
    "start_time": "2022-11-04T07:08:28.274Z"
   },
   {
    "duration": 25,
    "start_time": "2022-11-04T07:08:35.867Z"
   },
   {
    "duration": 17,
    "start_time": "2022-11-04T07:09:22.119Z"
   },
   {
    "duration": 14,
    "start_time": "2022-11-04T07:09:41.311Z"
   },
   {
    "duration": 9,
    "start_time": "2022-11-04T07:10:15.232Z"
   },
   {
    "duration": 15,
    "start_time": "2022-11-04T07:10:21.600Z"
   },
   {
    "duration": 16,
    "start_time": "2022-11-04T07:10:35.063Z"
   },
   {
    "duration": 13,
    "start_time": "2022-11-04T07:10:46.488Z"
   },
   {
    "duration": 12,
    "start_time": "2022-11-04T07:11:00.923Z"
   },
   {
    "duration": 1705,
    "start_time": "2022-11-04T07:11:26.701Z"
   },
   {
    "duration": 517,
    "start_time": "2022-11-04T07:11:28.409Z"
   },
   {
    "duration": 40,
    "start_time": "2022-11-04T07:11:28.928Z"
   },
   {
    "duration": 31,
    "start_time": "2022-11-04T07:11:28.971Z"
   },
   {
    "duration": 16,
    "start_time": "2022-11-04T07:11:29.005Z"
   },
   {
    "duration": 47,
    "start_time": "2022-11-04T07:11:29.023Z"
   },
   {
    "duration": 35,
    "start_time": "2022-11-04T07:11:29.072Z"
   },
   {
    "duration": 16,
    "start_time": "2022-11-04T07:11:29.109Z"
   },
   {
    "duration": 81,
    "start_time": "2022-11-04T07:11:29.128Z"
   },
   {
    "duration": 68,
    "start_time": "2022-11-04T07:11:29.211Z"
   },
   {
    "duration": 77,
    "start_time": "2022-11-04T07:11:29.281Z"
   },
   {
    "duration": 22,
    "start_time": "2022-11-04T07:11:29.360Z"
   },
   {
    "duration": 25,
    "start_time": "2022-11-04T07:11:29.385Z"
   },
   {
    "duration": 14,
    "start_time": "2022-11-04T07:11:29.413Z"
   },
   {
    "duration": 4,
    "start_time": "2022-11-04T07:11:29.429Z"
   },
   {
    "duration": 64,
    "start_time": "2022-11-04T07:11:29.435Z"
   },
   {
    "duration": 8,
    "start_time": "2022-11-04T07:11:29.501Z"
   },
   {
    "duration": 6,
    "start_time": "2022-11-04T07:11:29.511Z"
   },
   {
    "duration": 14,
    "start_time": "2022-11-04T07:11:29.519Z"
   },
   {
    "duration": 8,
    "start_time": "2022-11-04T07:11:29.536Z"
   },
   {
    "duration": 54,
    "start_time": "2022-11-04T07:11:29.546Z"
   },
   {
    "duration": 18,
    "start_time": "2022-11-04T07:11:29.601Z"
   },
   {
    "duration": 14,
    "start_time": "2022-11-04T07:11:29.620Z"
   },
   {
    "duration": 24,
    "start_time": "2022-11-04T07:11:29.636Z"
   },
   {
    "duration": 121,
    "start_time": "2022-11-04T07:11:29.673Z"
   },
   {
    "duration": 112,
    "start_time": "2022-11-04T07:11:29.839Z"
   },
   {
    "duration": 188,
    "start_time": "2022-11-04T07:11:29.953Z"
   },
   {
    "duration": 8,
    "start_time": "2022-11-04T07:11:30.149Z"
   },
   {
    "duration": 54,
    "start_time": "2022-11-04T07:11:30.162Z"
   },
   {
    "duration": 74,
    "start_time": "2022-11-04T07:11:30.218Z"
   },
   {
    "duration": 11,
    "start_time": "2022-11-04T07:11:42.893Z"
   },
   {
    "duration": 203,
    "start_time": "2022-11-04T07:11:47.795Z"
   },
   {
    "duration": 12,
    "start_time": "2022-11-04T07:11:59.212Z"
   },
   {
    "duration": 1569,
    "start_time": "2022-11-04T07:12:14.114Z"
   },
   {
    "duration": 518,
    "start_time": "2022-11-04T07:12:15.686Z"
   },
   {
    "duration": 16,
    "start_time": "2022-11-04T07:12:16.205Z"
   },
   {
    "duration": 48,
    "start_time": "2022-11-04T07:12:16.223Z"
   },
   {
    "duration": 28,
    "start_time": "2022-11-04T07:12:16.278Z"
   },
   {
    "duration": 12,
    "start_time": "2022-11-04T07:12:16.307Z"
   },
   {
    "duration": 8,
    "start_time": "2022-11-04T07:12:16.321Z"
   },
   {
    "duration": 40,
    "start_time": "2022-11-04T07:12:16.331Z"
   },
   {
    "duration": 95,
    "start_time": "2022-11-04T07:12:16.380Z"
   },
   {
    "duration": 96,
    "start_time": "2022-11-04T07:12:16.483Z"
   },
   {
    "duration": 84,
    "start_time": "2022-11-04T07:12:16.586Z"
   },
   {
    "duration": 18,
    "start_time": "2022-11-04T07:12:16.672Z"
   },
   {
    "duration": 19,
    "start_time": "2022-11-04T07:12:16.692Z"
   },
   {
    "duration": 11,
    "start_time": "2022-11-04T07:12:16.714Z"
   },
   {
    "duration": 4,
    "start_time": "2022-11-04T07:12:16.727Z"
   },
   {
    "duration": 59,
    "start_time": "2022-11-04T07:12:16.733Z"
   },
   {
    "duration": 9,
    "start_time": "2022-11-04T07:12:16.794Z"
   },
   {
    "duration": 6,
    "start_time": "2022-11-04T07:12:16.805Z"
   },
   {
    "duration": 17,
    "start_time": "2022-11-04T07:12:16.812Z"
   },
   {
    "duration": 2,
    "start_time": "2022-11-04T07:12:16.831Z"
   },
   {
    "duration": 58,
    "start_time": "2022-11-04T07:12:16.835Z"
   },
   {
    "duration": 18,
    "start_time": "2022-11-04T07:12:16.895Z"
   },
   {
    "duration": 13,
    "start_time": "2022-11-04T07:12:16.916Z"
   },
   {
    "duration": 5,
    "start_time": "2022-11-04T07:12:16.931Z"
   },
   {
    "duration": 69,
    "start_time": "2022-11-04T07:12:16.937Z"
   },
   {
    "duration": 182,
    "start_time": "2022-11-04T07:12:17.008Z"
   },
   {
    "duration": 88,
    "start_time": "2022-11-04T07:12:17.255Z"
   },
   {
    "duration": 90,
    "start_time": "2022-11-04T07:12:17.351Z"
   },
   {
    "duration": 58,
    "start_time": "2022-11-04T07:12:17.442Z"
   },
   {
    "duration": 17,
    "start_time": "2022-11-04T07:12:21.187Z"
   },
   {
    "duration": 141,
    "start_time": "2022-11-04T07:12:42.870Z"
   },
   {
    "duration": 4,
    "start_time": "2022-11-04T07:14:50.561Z"
   },
   {
    "duration": 3,
    "start_time": "2022-11-04T07:14:56.974Z"
   },
   {
    "duration": 102,
    "start_time": "2022-11-04T07:15:11.683Z"
   },
   {
    "duration": 7,
    "start_time": "2022-11-04T07:15:40.881Z"
   },
   {
    "duration": 16,
    "start_time": "2022-11-04T07:15:46.113Z"
   },
   {
    "duration": 18,
    "start_time": "2022-11-04T07:16:36.899Z"
   },
   {
    "duration": 9,
    "start_time": "2022-11-04T07:18:49.818Z"
   },
   {
    "duration": 1535,
    "start_time": "2022-11-04T07:19:06.364Z"
   },
   {
    "duration": 392,
    "start_time": "2022-11-04T07:19:07.901Z"
   },
   {
    "duration": 16,
    "start_time": "2022-11-04T07:19:08.295Z"
   },
   {
    "duration": 29,
    "start_time": "2022-11-04T07:19:08.313Z"
   },
   {
    "duration": 17,
    "start_time": "2022-11-04T07:19:08.346Z"
   },
   {
    "duration": 17,
    "start_time": "2022-11-04T07:19:08.365Z"
   },
   {
    "duration": 12,
    "start_time": "2022-11-04T07:19:08.384Z"
   },
   {
    "duration": 42,
    "start_time": "2022-11-04T07:19:08.398Z"
   },
   {
    "duration": 52,
    "start_time": "2022-11-04T07:19:08.443Z"
   },
   {
    "duration": 83,
    "start_time": "2022-11-04T07:19:08.497Z"
   },
   {
    "duration": 66,
    "start_time": "2022-11-04T07:19:08.582Z"
   },
   {
    "duration": 11,
    "start_time": "2022-11-04T07:19:08.650Z"
   },
   {
    "duration": 13,
    "start_time": "2022-11-04T07:19:08.662Z"
   },
   {
    "duration": 10,
    "start_time": "2022-11-04T07:19:08.678Z"
   },
   {
    "duration": 4,
    "start_time": "2022-11-04T07:19:08.689Z"
   },
   {
    "duration": 13,
    "start_time": "2022-11-04T07:19:08.694Z"
   },
   {
    "duration": 3,
    "start_time": "2022-11-04T07:19:08.738Z"
   },
   {
    "duration": 5,
    "start_time": "2022-11-04T07:19:08.743Z"
   },
   {
    "duration": 15,
    "start_time": "2022-11-04T07:19:08.749Z"
   },
   {
    "duration": 3,
    "start_time": "2022-11-04T07:19:08.766Z"
   },
   {
    "duration": 3,
    "start_time": "2022-11-04T07:19:08.771Z"
   },
   {
    "duration": 13,
    "start_time": "2022-11-04T07:19:08.776Z"
   },
   {
    "duration": 13,
    "start_time": "2022-11-04T07:19:08.791Z"
   },
   {
    "duration": 34,
    "start_time": "2022-11-04T07:19:08.805Z"
   },
   {
    "duration": 23,
    "start_time": "2022-11-04T07:19:08.841Z"
   },
   {
    "duration": 183,
    "start_time": "2022-11-04T07:19:08.866Z"
   },
   {
    "duration": 199,
    "start_time": "2022-11-04T07:19:09.051Z"
   },
   {
    "duration": 86,
    "start_time": "2022-11-04T07:19:09.255Z"
   },
   {
    "duration": 114,
    "start_time": "2022-11-04T07:19:09.343Z"
   },
   {
    "duration": 10,
    "start_time": "2022-11-04T07:19:31.915Z"
   },
   {
    "duration": 5,
    "start_time": "2022-11-04T07:20:48.907Z"
   },
   {
    "duration": 6,
    "start_time": "2022-11-04T07:20:56.363Z"
   },
   {
    "duration": 6,
    "start_time": "2022-11-04T07:21:00.553Z"
   },
   {
    "duration": 824,
    "start_time": "2022-11-04T07:21:12.055Z"
   },
   {
    "duration": 696,
    "start_time": "2022-11-04T07:21:39.901Z"
   },
   {
    "duration": 611,
    "start_time": "2022-11-04T07:21:54.314Z"
   },
   {
    "duration": 12,
    "start_time": "2022-11-04T07:22:12.068Z"
   },
   {
    "duration": 12,
    "start_time": "2022-11-04T07:22:22.906Z"
   },
   {
    "duration": 7,
    "start_time": "2022-11-04T07:22:30.692Z"
   },
   {
    "duration": 11,
    "start_time": "2022-11-04T07:22:48.823Z"
   },
   {
    "duration": 13,
    "start_time": "2022-11-04T07:26:11.718Z"
   },
   {
    "duration": 10,
    "start_time": "2022-11-04T07:26:22.810Z"
   },
   {
    "duration": 1587,
    "start_time": "2022-11-04T07:27:09.563Z"
   },
   {
    "duration": 450,
    "start_time": "2022-11-04T07:27:11.153Z"
   },
   {
    "duration": 16,
    "start_time": "2022-11-04T07:27:11.604Z"
   },
   {
    "duration": 13,
    "start_time": "2022-11-04T07:27:11.622Z"
   },
   {
    "duration": 19,
    "start_time": "2022-11-04T07:27:11.655Z"
   },
   {
    "duration": 14,
    "start_time": "2022-11-04T07:27:11.676Z"
   },
   {
    "duration": 9,
    "start_time": "2022-11-04T07:27:11.692Z"
   },
   {
    "duration": 13,
    "start_time": "2022-11-04T07:27:11.703Z"
   },
   {
    "duration": 76,
    "start_time": "2022-11-04T07:27:11.718Z"
   },
   {
    "duration": 83,
    "start_time": "2022-11-04T07:27:11.796Z"
   },
   {
    "duration": 90,
    "start_time": "2022-11-04T07:27:11.881Z"
   },
   {
    "duration": 11,
    "start_time": "2022-11-04T07:27:11.973Z"
   },
   {
    "duration": 11,
    "start_time": "2022-11-04T07:27:11.986Z"
   },
   {
    "duration": 29,
    "start_time": "2022-11-04T07:27:12.001Z"
   },
   {
    "duration": 4,
    "start_time": "2022-11-04T07:27:12.032Z"
   },
   {
    "duration": 43,
    "start_time": "2022-11-04T07:27:12.037Z"
   },
   {
    "duration": 5,
    "start_time": "2022-11-04T07:27:12.082Z"
   },
   {
    "duration": 15,
    "start_time": "2022-11-04T07:27:12.088Z"
   },
   {
    "duration": 20,
    "start_time": "2022-11-04T07:27:12.104Z"
   },
   {
    "duration": 5,
    "start_time": "2022-11-04T07:27:12.125Z"
   },
   {
    "duration": 4,
    "start_time": "2022-11-04T07:27:12.132Z"
   },
   {
    "duration": 44,
    "start_time": "2022-11-04T07:27:12.142Z"
   },
   {
    "duration": 12,
    "start_time": "2022-11-04T07:27:12.188Z"
   },
   {
    "duration": 4,
    "start_time": "2022-11-04T07:27:12.201Z"
   },
   {
    "duration": 56,
    "start_time": "2022-11-04T07:27:12.206Z"
   },
   {
    "duration": 206,
    "start_time": "2022-11-04T07:27:12.264Z"
   },
   {
    "duration": 100,
    "start_time": "2022-11-04T07:27:12.549Z"
   },
   {
    "duration": 109,
    "start_time": "2022-11-04T07:27:12.653Z"
   },
   {
    "duration": 16,
    "start_time": "2022-11-04T07:27:12.763Z"
   },
   {
    "duration": 13,
    "start_time": "2022-11-04T07:27:16.743Z"
   },
   {
    "duration": 14,
    "start_time": "2022-11-04T07:27:30.885Z"
   },
   {
    "duration": 17,
    "start_time": "2022-11-04T07:46:21.725Z"
   },
   {
    "duration": 26,
    "start_time": "2022-11-04T07:47:00.434Z"
   },
   {
    "duration": 4,
    "start_time": "2022-11-04T07:50:30.124Z"
   },
   {
    "duration": 35,
    "start_time": "2022-11-04T07:51:34.434Z"
   },
   {
    "duration": 6,
    "start_time": "2022-11-04T07:57:26.594Z"
   },
   {
    "duration": 19,
    "start_time": "2022-11-04T07:57:34.371Z"
   },
   {
    "duration": 8,
    "start_time": "2022-11-04T07:58:45.650Z"
   },
   {
    "duration": 11,
    "start_time": "2022-11-04T08:00:10.153Z"
   },
   {
    "duration": 3,
    "start_time": "2022-11-04T08:07:12.410Z"
   },
   {
    "duration": 3,
    "start_time": "2022-11-04T08:08:32.702Z"
   },
   {
    "duration": 4,
    "start_time": "2022-11-04T08:09:13.481Z"
   },
   {
    "duration": 4,
    "start_time": "2022-11-04T08:09:14.069Z"
   },
   {
    "duration": 3,
    "start_time": "2022-11-04T08:09:35.795Z"
   },
   {
    "duration": 3,
    "start_time": "2022-11-04T08:09:36.186Z"
   },
   {
    "duration": 3,
    "start_time": "2022-11-04T08:09:50.944Z"
   },
   {
    "duration": 3,
    "start_time": "2022-11-04T08:09:51.492Z"
   },
   {
    "duration": 4,
    "start_time": "2022-11-04T08:10:05.628Z"
   },
   {
    "duration": 4,
    "start_time": "2022-11-04T08:10:06.224Z"
   },
   {
    "duration": 4,
    "start_time": "2022-11-04T08:10:39.304Z"
   },
   {
    "duration": 46,
    "start_time": "2022-11-04T08:10:57.744Z"
   },
   {
    "duration": 3,
    "start_time": "2022-11-04T08:11:26.314Z"
   },
   {
    "duration": 5,
    "start_time": "2022-11-04T08:15:25.128Z"
   },
   {
    "duration": 57,
    "start_time": "2022-11-04T08:16:18.226Z"
   },
   {
    "duration": 5,
    "start_time": "2022-11-04T08:16:55.892Z"
   },
   {
    "duration": 5,
    "start_time": "2022-11-04T08:19:40.385Z"
   },
   {
    "duration": 6,
    "start_time": "2022-11-04T08:21:48.138Z"
   },
   {
    "duration": 7,
    "start_time": "2022-11-04T08:22:11.851Z"
   },
   {
    "duration": 5,
    "start_time": "2022-11-04T08:22:52.090Z"
   },
   {
    "duration": 4,
    "start_time": "2022-11-04T08:23:10.025Z"
   },
   {
    "duration": 3,
    "start_time": "2022-11-04T08:24:20.475Z"
   },
   {
    "duration": 4,
    "start_time": "2022-11-04T08:24:47.107Z"
   },
   {
    "duration": 5,
    "start_time": "2022-11-04T08:24:47.537Z"
   },
   {
    "duration": 4,
    "start_time": "2022-11-04T08:24:57.506Z"
   },
   {
    "duration": 5,
    "start_time": "2022-11-04T08:25:05.913Z"
   },
   {
    "duration": 4,
    "start_time": "2022-11-04T08:25:12.835Z"
   },
   {
    "duration": 3,
    "start_time": "2022-11-04T08:42:51.419Z"
   },
   {
    "duration": 113,
    "start_time": "2022-11-04T08:43:52.654Z"
   },
   {
    "duration": 4,
    "start_time": "2022-11-04T08:44:28.598Z"
   },
   {
    "duration": 29,
    "start_time": "2022-11-04T08:44:29.316Z"
   },
   {
    "duration": 4,
    "start_time": "2022-11-04T08:46:36.469Z"
   },
   {
    "duration": 32,
    "start_time": "2022-11-04T08:46:37.534Z"
   },
   {
    "duration": 6,
    "start_time": "2022-11-04T08:47:13.229Z"
   },
   {
    "duration": 5,
    "start_time": "2022-11-04T08:47:19.173Z"
   },
   {
    "duration": 6,
    "start_time": "2022-11-04T08:47:51.760Z"
   },
   {
    "duration": 11,
    "start_time": "2022-11-04T08:48:09.681Z"
   },
   {
    "duration": 16,
    "start_time": "2022-11-04T08:49:20.926Z"
   },
   {
    "duration": 9,
    "start_time": "2022-11-04T08:50:04.776Z"
   },
   {
    "duration": 9,
    "start_time": "2022-11-04T08:50:33.839Z"
   },
   {
    "duration": 6,
    "start_time": "2022-11-04T08:50:53.713Z"
   },
   {
    "duration": 560,
    "start_time": "2022-11-04T08:50:58.881Z"
   },
   {
    "duration": 1400,
    "start_time": "2022-11-04T08:51:24.144Z"
   },
   {
    "duration": 382,
    "start_time": "2022-11-04T08:51:25.546Z"
   },
   {
    "duration": 22,
    "start_time": "2022-11-04T08:51:25.929Z"
   },
   {
    "duration": 14,
    "start_time": "2022-11-04T08:51:25.952Z"
   },
   {
    "duration": 13,
    "start_time": "2022-11-04T08:51:25.969Z"
   },
   {
    "duration": 13,
    "start_time": "2022-11-04T08:51:25.984Z"
   },
   {
    "duration": 9,
    "start_time": "2022-11-04T08:51:25.998Z"
   },
   {
    "duration": 50,
    "start_time": "2022-11-04T08:51:26.008Z"
   },
   {
    "duration": 53,
    "start_time": "2022-11-04T08:51:26.060Z"
   },
   {
    "duration": 59,
    "start_time": "2022-11-04T08:51:26.115Z"
   },
   {
    "duration": 70,
    "start_time": "2022-11-04T08:51:26.176Z"
   },
   {
    "duration": 12,
    "start_time": "2022-11-04T08:51:26.247Z"
   },
   {
    "duration": 11,
    "start_time": "2022-11-04T08:51:26.260Z"
   },
   {
    "duration": 11,
    "start_time": "2022-11-04T08:51:26.274Z"
   },
   {
    "duration": 5,
    "start_time": "2022-11-04T08:51:26.286Z"
   },
   {
    "duration": 13,
    "start_time": "2022-11-04T08:51:26.293Z"
   },
   {
    "duration": 3,
    "start_time": "2022-11-04T08:51:26.338Z"
   },
   {
    "duration": 9,
    "start_time": "2022-11-04T08:51:26.343Z"
   },
   {
    "duration": 16,
    "start_time": "2022-11-04T08:51:26.353Z"
   },
   {
    "duration": 15,
    "start_time": "2022-11-04T08:51:26.371Z"
   },
   {
    "duration": 14,
    "start_time": "2022-11-04T08:51:26.387Z"
   },
   {
    "duration": 3,
    "start_time": "2022-11-04T08:51:26.403Z"
   },
   {
    "duration": 42,
    "start_time": "2022-11-04T08:51:26.408Z"
   },
   {
    "duration": 106,
    "start_time": "2022-11-04T08:51:26.543Z"
   },
   {
    "duration": 205,
    "start_time": "2022-11-04T08:51:26.651Z"
   },
   {
    "duration": 82,
    "start_time": "2022-11-04T08:51:26.858Z"
   },
   {
    "duration": 105,
    "start_time": "2022-11-04T08:51:26.943Z"
   },
   {
    "duration": 29,
    "start_time": "2022-11-04T08:51:27.050Z"
   },
   {
    "duration": 13,
    "start_time": "2022-11-04T08:51:27.081Z"
   },
   {
    "duration": 17,
    "start_time": "2022-11-04T08:51:27.096Z"
   },
   {
    "duration": 7,
    "start_time": "2022-11-04T08:51:27.114Z"
   },
   {
    "duration": 34,
    "start_time": "2022-11-04T08:51:27.122Z"
   },
   {
    "duration": 27,
    "start_time": "2022-11-04T08:51:27.162Z"
   },
   {
    "duration": 9,
    "start_time": "2022-11-04T08:51:27.191Z"
   },
   {
    "duration": 14,
    "start_time": "2022-11-04T08:51:27.202Z"
   },
   {
    "duration": 13,
    "start_time": "2022-11-04T08:52:23.716Z"
   },
   {
    "duration": 13,
    "start_time": "2022-11-04T08:52:43.096Z"
   },
   {
    "duration": 10,
    "start_time": "2022-11-04T08:53:03.267Z"
   },
   {
    "duration": 7,
    "start_time": "2022-11-04T08:53:17.125Z"
   },
   {
    "duration": 10,
    "start_time": "2022-11-04T08:53:20.895Z"
   },
   {
    "duration": 9,
    "start_time": "2022-11-04T08:53:35.323Z"
   },
   {
    "duration": 139,
    "start_time": "2022-11-04T08:54:15.563Z"
   },
   {
    "duration": 10,
    "start_time": "2022-11-04T08:54:18.677Z"
   },
   {
    "duration": 1545,
    "start_time": "2022-11-04T08:54:33.560Z"
   },
   {
    "duration": 432,
    "start_time": "2022-11-04T08:54:35.107Z"
   },
   {
    "duration": 24,
    "start_time": "2022-11-04T08:54:35.542Z"
   },
   {
    "duration": 16,
    "start_time": "2022-11-04T08:54:35.568Z"
   },
   {
    "duration": 16,
    "start_time": "2022-11-04T08:54:35.587Z"
   },
   {
    "duration": 48,
    "start_time": "2022-11-04T08:54:35.605Z"
   },
   {
    "duration": 11,
    "start_time": "2022-11-04T08:54:35.656Z"
   },
   {
    "duration": 11,
    "start_time": "2022-11-04T08:54:35.670Z"
   },
   {
    "duration": 93,
    "start_time": "2022-11-04T08:54:35.682Z"
   },
   {
    "duration": 68,
    "start_time": "2022-11-04T08:54:35.777Z"
   },
   {
    "duration": 65,
    "start_time": "2022-11-04T08:54:35.847Z"
   },
   {
    "duration": 33,
    "start_time": "2022-11-04T08:54:35.914Z"
   },
   {
    "duration": 21,
    "start_time": "2022-11-04T08:54:35.949Z"
   },
   {
    "duration": 10,
    "start_time": "2022-11-04T08:54:35.973Z"
   },
   {
    "duration": 6,
    "start_time": "2022-11-04T08:54:35.985Z"
   },
   {
    "duration": 14,
    "start_time": "2022-11-04T08:54:35.992Z"
   },
   {
    "duration": 9,
    "start_time": "2022-11-04T08:54:36.008Z"
   },
   {
    "duration": 29,
    "start_time": "2022-11-04T08:54:36.018Z"
   },
   {
    "duration": 17,
    "start_time": "2022-11-04T08:54:36.049Z"
   },
   {
    "duration": 15,
    "start_time": "2022-11-04T08:54:36.068Z"
   },
   {
    "duration": 15,
    "start_time": "2022-11-04T08:54:36.084Z"
   },
   {
    "duration": 3,
    "start_time": "2022-11-04T08:54:36.101Z"
   },
   {
    "duration": 66,
    "start_time": "2022-11-04T08:54:36.105Z"
   },
   {
    "duration": 188,
    "start_time": "2022-11-04T08:54:36.254Z"
   },
   {
    "duration": 118,
    "start_time": "2022-11-04T08:54:36.444Z"
   },
   {
    "duration": 178,
    "start_time": "2022-11-04T08:54:36.564Z"
   },
   {
    "duration": 12,
    "start_time": "2022-11-04T08:54:36.744Z"
   },
   {
    "duration": 26,
    "start_time": "2022-11-04T08:54:36.761Z"
   },
   {
    "duration": 11,
    "start_time": "2022-11-04T08:54:36.789Z"
   },
   {
    "duration": 3,
    "start_time": "2022-11-04T08:54:36.803Z"
   },
   {
    "duration": 40,
    "start_time": "2022-11-04T08:54:36.808Z"
   },
   {
    "duration": 7,
    "start_time": "2022-11-04T08:54:36.850Z"
   },
   {
    "duration": 10,
    "start_time": "2022-11-04T08:54:36.859Z"
   },
   {
    "duration": 5,
    "start_time": "2022-11-04T08:54:36.871Z"
   },
   {
    "duration": 17,
    "start_time": "2022-11-04T08:54:36.877Z"
   },
   {
    "duration": 15,
    "start_time": "2022-11-04T08:54:36.895Z"
   },
   {
    "duration": 35,
    "start_time": "2022-11-04T08:54:36.912Z"
   },
   {
    "duration": 10,
    "start_time": "2022-11-04T08:54:36.949Z"
   },
   {
    "duration": 12,
    "start_time": "2022-11-04T08:54:36.961Z"
   },
   {
    "duration": 18,
    "start_time": "2022-11-04T08:54:57.448Z"
   },
   {
    "duration": 9,
    "start_time": "2022-11-04T08:55:42.296Z"
   },
   {
    "duration": 13,
    "start_time": "2022-11-04T08:55:47.314Z"
   },
   {
    "duration": 15,
    "start_time": "2022-11-04T08:55:53.151Z"
   },
   {
    "duration": 13,
    "start_time": "2022-11-04T08:55:58.065Z"
   },
   {
    "duration": 2,
    "start_time": "2022-11-04T08:58:06.681Z"
   },
   {
    "duration": 3,
    "start_time": "2022-11-04T08:58:08.967Z"
   },
   {
    "duration": 2,
    "start_time": "2022-11-04T08:58:11.289Z"
   },
   {
    "duration": 3,
    "start_time": "2022-11-04T08:58:18.252Z"
   },
   {
    "duration": 2,
    "start_time": "2022-11-04T08:58:20.611Z"
   },
   {
    "duration": 2,
    "start_time": "2022-11-04T08:58:23.164Z"
   },
   {
    "duration": 112,
    "start_time": "2022-11-04T09:09:49.216Z"
   },
   {
    "duration": 11,
    "start_time": "2022-11-04T09:10:03.962Z"
   },
   {
    "duration": 3,
    "start_time": "2022-11-04T09:12:05.651Z"
   },
   {
    "duration": 5,
    "start_time": "2022-11-04T09:12:11.897Z"
   },
   {
    "duration": 14,
    "start_time": "2022-11-04T09:12:18.854Z"
   },
   {
    "duration": 9,
    "start_time": "2022-11-04T09:12:39.751Z"
   },
   {
    "duration": 1430,
    "start_time": "2022-11-04T09:14:07.607Z"
   },
   {
    "duration": 546,
    "start_time": "2022-11-04T09:14:09.039Z"
   },
   {
    "duration": 16,
    "start_time": "2022-11-04T09:14:09.587Z"
   },
   {
    "duration": 18,
    "start_time": "2022-11-04T09:14:09.605Z"
   },
   {
    "duration": 15,
    "start_time": "2022-11-04T09:14:09.639Z"
   },
   {
    "duration": 14,
    "start_time": "2022-11-04T09:14:09.656Z"
   },
   {
    "duration": 11,
    "start_time": "2022-11-04T09:14:09.671Z"
   },
   {
    "duration": 12,
    "start_time": "2022-11-04T09:14:09.683Z"
   },
   {
    "duration": 91,
    "start_time": "2022-11-04T09:14:09.697Z"
   },
   {
    "duration": 66,
    "start_time": "2022-11-04T09:14:09.791Z"
   },
   {
    "duration": 60,
    "start_time": "2022-11-04T09:14:09.859Z"
   },
   {
    "duration": 27,
    "start_time": "2022-11-04T09:14:09.921Z"
   },
   {
    "duration": 11,
    "start_time": "2022-11-04T09:14:09.950Z"
   },
   {
    "duration": 10,
    "start_time": "2022-11-04T09:14:09.965Z"
   },
   {
    "duration": 4,
    "start_time": "2022-11-04T09:14:09.976Z"
   },
   {
    "duration": 12,
    "start_time": "2022-11-04T09:14:09.981Z"
   },
   {
    "duration": 5,
    "start_time": "2022-11-04T09:14:09.995Z"
   },
   {
    "duration": 5,
    "start_time": "2022-11-04T09:14:10.001Z"
   },
   {
    "duration": 12,
    "start_time": "2022-11-04T09:14:10.039Z"
   },
   {
    "duration": 13,
    "start_time": "2022-11-04T09:14:10.052Z"
   },
   {
    "duration": 12,
    "start_time": "2022-11-04T09:14:10.067Z"
   },
   {
    "duration": 4,
    "start_time": "2022-11-04T09:14:51.712Z"
   },
   {
    "duration": 102,
    "start_time": "2022-11-04T09:15:43.455Z"
   },
   {
    "duration": 94,
    "start_time": "2022-11-04T09:15:53.855Z"
   },
   {
    "duration": 117,
    "start_time": "2022-11-04T09:16:13.228Z"
   },
   {
    "duration": 6,
    "start_time": "2022-11-04T09:16:57.446Z"
   },
   {
    "duration": 4,
    "start_time": "2022-11-04T09:17:01.540Z"
   },
   {
    "duration": 15,
    "start_time": "2022-11-04T09:17:05.839Z"
   },
   {
    "duration": 113,
    "start_time": "2022-11-04T09:19:34.633Z"
   },
   {
    "duration": 31,
    "start_time": "2022-11-04T09:20:07.332Z"
   },
   {
    "duration": 18,
    "start_time": "2022-11-04T09:20:17.412Z"
   },
   {
    "duration": 11,
    "start_time": "2022-11-04T09:21:02.434Z"
   },
   {
    "duration": 8,
    "start_time": "2022-11-04T09:21:44.632Z"
   },
   {
    "duration": 19,
    "start_time": "2022-11-04T09:21:51.393Z"
   },
   {
    "duration": 57,
    "start_time": "2022-11-04T09:23:04.250Z"
   },
   {
    "duration": 1443,
    "start_time": "2022-11-04T09:23:38.380Z"
   },
   {
    "duration": 413,
    "start_time": "2022-11-04T09:23:39.825Z"
   },
   {
    "duration": 20,
    "start_time": "2022-11-04T09:23:40.242Z"
   },
   {
    "duration": 14,
    "start_time": "2022-11-04T09:23:40.264Z"
   },
   {
    "duration": 22,
    "start_time": "2022-11-04T09:23:40.281Z"
   },
   {
    "duration": 12,
    "start_time": "2022-11-04T09:23:40.305Z"
   },
   {
    "duration": 13,
    "start_time": "2022-11-04T09:23:40.339Z"
   },
   {
    "duration": 25,
    "start_time": "2022-11-04T09:23:40.355Z"
   },
   {
    "duration": 60,
    "start_time": "2022-11-04T09:23:40.382Z"
   },
   {
    "duration": 59,
    "start_time": "2022-11-04T09:23:40.444Z"
   },
   {
    "duration": 73,
    "start_time": "2022-11-04T09:23:40.505Z"
   },
   {
    "duration": 10,
    "start_time": "2022-11-04T09:23:40.579Z"
   },
   {
    "duration": 44,
    "start_time": "2022-11-04T09:23:40.590Z"
   },
   {
    "duration": 40,
    "start_time": "2022-11-04T09:23:40.639Z"
   },
   {
    "duration": 12,
    "start_time": "2022-11-04T09:23:40.681Z"
   },
   {
    "duration": 32,
    "start_time": "2022-11-04T09:23:40.694Z"
   },
   {
    "duration": 28,
    "start_time": "2022-11-04T09:23:40.728Z"
   },
   {
    "duration": 22,
    "start_time": "2022-11-04T09:23:40.758Z"
   },
   {
    "duration": 26,
    "start_time": "2022-11-04T09:23:40.781Z"
   },
   {
    "duration": 19,
    "start_time": "2022-11-04T09:23:40.808Z"
   },
   {
    "duration": 42,
    "start_time": "2022-11-04T09:23:40.828Z"
   },
   {
    "duration": 8,
    "start_time": "2022-11-04T09:23:40.872Z"
   },
   {
    "duration": 165,
    "start_time": "2022-11-04T09:23:40.882Z"
   },
   {
    "duration": 3,
    "start_time": "2022-11-04T09:23:41.049Z"
   },
   {
    "duration": 38,
    "start_time": "2022-11-04T09:23:41.054Z"
   },
   {
    "duration": 19,
    "start_time": "2022-11-04T09:23:41.094Z"
   },
   {
    "duration": 155,
    "start_time": "2022-11-04T09:23:41.114Z"
   },
   {
    "duration": 0,
    "start_time": "2022-11-04T09:23:41.271Z"
   },
   {
    "duration": 0,
    "start_time": "2022-11-04T09:23:41.272Z"
   },
   {
    "duration": 0,
    "start_time": "2022-11-04T09:23:41.273Z"
   },
   {
    "duration": 0,
    "start_time": "2022-11-04T09:23:41.275Z"
   },
   {
    "duration": 0,
    "start_time": "2022-11-04T09:23:41.276Z"
   },
   {
    "duration": 0,
    "start_time": "2022-11-04T09:23:41.277Z"
   },
   {
    "duration": 0,
    "start_time": "2022-11-04T09:23:41.278Z"
   },
   {
    "duration": 0,
    "start_time": "2022-11-04T09:23:41.279Z"
   },
   {
    "duration": 0,
    "start_time": "2022-11-04T09:23:41.280Z"
   },
   {
    "duration": 0,
    "start_time": "2022-11-04T09:23:41.281Z"
   },
   {
    "duration": 0,
    "start_time": "2022-11-04T09:23:41.282Z"
   },
   {
    "duration": 0,
    "start_time": "2022-11-04T09:23:41.283Z"
   },
   {
    "duration": 0,
    "start_time": "2022-11-04T09:23:41.284Z"
   },
   {
    "duration": 0,
    "start_time": "2022-11-04T09:23:41.286Z"
   },
   {
    "duration": 0,
    "start_time": "2022-11-04T09:23:41.287Z"
   },
   {
    "duration": 0,
    "start_time": "2022-11-04T09:23:41.288Z"
   },
   {
    "duration": 0,
    "start_time": "2022-11-04T09:23:41.289Z"
   },
   {
    "duration": 0,
    "start_time": "2022-11-04T09:23:41.290Z"
   },
   {
    "duration": 0,
    "start_time": "2022-11-04T09:23:41.291Z"
   },
   {
    "duration": 0,
    "start_time": "2022-11-04T09:23:41.292Z"
   },
   {
    "duration": 11,
    "start_time": "2022-11-04T09:23:59.290Z"
   },
   {
    "duration": 17,
    "start_time": "2022-11-04T09:24:09.934Z"
   },
   {
    "duration": 7,
    "start_time": "2022-11-04T09:24:12.372Z"
   },
   {
    "duration": 9,
    "start_time": "2022-11-04T09:24:36.555Z"
   },
   {
    "duration": 1493,
    "start_time": "2022-11-04T09:25:52.698Z"
   },
   {
    "duration": 420,
    "start_time": "2022-11-04T09:25:54.192Z"
   },
   {
    "duration": 27,
    "start_time": "2022-11-04T09:25:54.613Z"
   },
   {
    "duration": 18,
    "start_time": "2022-11-04T09:25:54.642Z"
   },
   {
    "duration": 14,
    "start_time": "2022-11-04T09:25:54.664Z"
   },
   {
    "duration": 12,
    "start_time": "2022-11-04T09:25:54.680Z"
   },
   {
    "duration": 9,
    "start_time": "2022-11-04T09:25:54.693Z"
   },
   {
    "duration": 10,
    "start_time": "2022-11-04T09:25:54.740Z"
   },
   {
    "duration": 55,
    "start_time": "2022-11-04T09:25:54.753Z"
   },
   {
    "duration": 83,
    "start_time": "2022-11-04T09:25:54.809Z"
   },
   {
    "duration": 75,
    "start_time": "2022-11-04T09:25:54.894Z"
   },
   {
    "duration": 11,
    "start_time": "2022-11-04T09:25:54.971Z"
   },
   {
    "duration": 11,
    "start_time": "2022-11-04T09:25:54.983Z"
   },
   {
    "duration": 10,
    "start_time": "2022-11-04T09:25:54.998Z"
   },
   {
    "duration": 30,
    "start_time": "2022-11-04T09:25:55.009Z"
   },
   {
    "duration": 18,
    "start_time": "2022-11-04T09:25:55.041Z"
   },
   {
    "duration": 9,
    "start_time": "2022-11-04T09:25:55.061Z"
   },
   {
    "duration": 5,
    "start_time": "2022-11-04T09:25:55.072Z"
   },
   {
    "duration": 14,
    "start_time": "2022-11-04T09:25:55.079Z"
   },
   {
    "duration": 13,
    "start_time": "2022-11-04T09:25:55.095Z"
   },
   {
    "duration": 45,
    "start_time": "2022-11-04T09:25:55.110Z"
   },
   {
    "duration": 5,
    "start_time": "2022-11-04T09:25:57.395Z"
   },
   {
    "duration": 31,
    "start_time": "2022-11-04T09:26:07.955Z"
   },
   {
    "duration": 27,
    "start_time": "2022-11-04T09:26:33.043Z"
   },
   {
    "duration": 8,
    "start_time": "2022-11-04T09:27:09.804Z"
   },
   {
    "duration": 138,
    "start_time": "2022-11-04T09:27:16.614Z"
   },
   {
    "duration": 21,
    "start_time": "2022-11-04T09:28:24.143Z"
   },
   {
    "duration": 11,
    "start_time": "2022-11-04T09:28:34.115Z"
   },
   {
    "duration": 19,
    "start_time": "2022-11-04T09:28:43.547Z"
   },
   {
    "duration": 1487,
    "start_time": "2022-11-04T09:29:13.323Z"
   },
   {
    "duration": 425,
    "start_time": "2022-11-04T09:29:14.812Z"
   },
   {
    "duration": 26,
    "start_time": "2022-11-04T09:29:15.239Z"
   },
   {
    "duration": 20,
    "start_time": "2022-11-04T09:29:15.267Z"
   },
   {
    "duration": 13,
    "start_time": "2022-11-04T09:29:15.289Z"
   },
   {
    "duration": 11,
    "start_time": "2022-11-04T09:29:15.303Z"
   },
   {
    "duration": 50,
    "start_time": "2022-11-04T09:29:15.316Z"
   },
   {
    "duration": 9,
    "start_time": "2022-11-04T09:29:15.368Z"
   },
   {
    "duration": 56,
    "start_time": "2022-11-04T09:29:15.379Z"
   },
   {
    "duration": 72,
    "start_time": "2022-11-04T09:29:15.437Z"
   },
   {
    "duration": 61,
    "start_time": "2022-11-04T09:29:15.511Z"
   },
   {
    "duration": 9,
    "start_time": "2022-11-04T09:29:15.573Z"
   },
   {
    "duration": 9,
    "start_time": "2022-11-04T09:29:15.584Z"
   },
   {
    "duration": 9,
    "start_time": "2022-11-04T09:29:15.596Z"
   },
   {
    "duration": 3,
    "start_time": "2022-11-04T09:29:15.606Z"
   },
   {
    "duration": 41,
    "start_time": "2022-11-04T09:29:15.611Z"
   },
   {
    "duration": 15,
    "start_time": "2022-11-04T09:29:15.654Z"
   },
   {
    "duration": 5,
    "start_time": "2022-11-04T09:29:15.671Z"
   },
   {
    "duration": 14,
    "start_time": "2022-11-04T09:29:15.677Z"
   },
   {
    "duration": 13,
    "start_time": "2022-11-04T09:29:15.692Z"
   },
   {
    "duration": 12,
    "start_time": "2022-11-04T09:29:15.707Z"
   },
   {
    "duration": 3,
    "start_time": "2022-11-04T09:29:15.721Z"
   },
   {
    "duration": 127,
    "start_time": "2022-11-04T09:29:15.726Z"
   },
   {
    "duration": 4,
    "start_time": "2022-11-04T09:29:36.483Z"
   },
   {
    "duration": 4,
    "start_time": "2022-11-04T09:29:54.267Z"
   },
   {
    "duration": 4,
    "start_time": "2022-11-04T09:30:04.961Z"
   },
   {
    "duration": 21,
    "start_time": "2022-11-04T09:30:11.407Z"
   },
   {
    "duration": 18,
    "start_time": "2022-11-04T09:30:28.768Z"
   },
   {
    "duration": 8,
    "start_time": "2022-11-04T09:30:47.352Z"
   },
   {
    "duration": 109,
    "start_time": "2022-11-04T09:31:16.615Z"
   },
   {
    "duration": 12,
    "start_time": "2022-11-04T09:31:21.880Z"
   },
   {
    "duration": 16,
    "start_time": "2022-11-04T09:32:37.549Z"
   },
   {
    "duration": 10,
    "start_time": "2022-11-04T09:32:38.620Z"
   },
   {
    "duration": 15,
    "start_time": "2022-11-04T09:33:49.508Z"
   },
   {
    "duration": 5,
    "start_time": "2022-11-04T09:54:07.003Z"
   },
   {
    "duration": 5,
    "start_time": "2022-11-04T09:54:26.733Z"
   },
   {
    "duration": 5,
    "start_time": "2022-11-04T09:54:34.215Z"
   },
   {
    "duration": 7,
    "start_time": "2022-11-04T11:38:46.953Z"
   },
   {
    "duration": 16,
    "start_time": "2022-11-04T11:38:59.067Z"
   },
   {
    "duration": 21,
    "start_time": "2022-11-04T11:39:09.631Z"
   },
   {
    "duration": 9,
    "start_time": "2022-11-04T11:40:02.775Z"
   },
   {
    "duration": 12,
    "start_time": "2022-11-04T11:40:24.855Z"
   },
   {
    "duration": 7,
    "start_time": "2022-11-04T11:42:38.476Z"
   },
   {
    "duration": 22,
    "start_time": "2022-11-04T11:43:14.363Z"
   },
   {
    "duration": 24,
    "start_time": "2022-11-04T11:43:31.347Z"
   },
   {
    "duration": 17,
    "start_time": "2022-11-04T11:43:43.789Z"
   },
   {
    "duration": 19,
    "start_time": "2022-11-04T11:44:03.398Z"
   },
   {
    "duration": 4,
    "start_time": "2022-11-04T11:47:27.792Z"
   },
   {
    "duration": 12,
    "start_time": "2022-11-04T11:47:38.534Z"
   },
   {
    "duration": 4,
    "start_time": "2022-11-04T11:47:48.456Z"
   },
   {
    "duration": 5,
    "start_time": "2022-11-04T11:49:46.826Z"
   },
   {
    "duration": 4,
    "start_time": "2022-11-04T11:50:01.491Z"
   },
   {
    "duration": 13,
    "start_time": "2022-11-04T12:13:03.394Z"
   },
   {
    "duration": 1393,
    "start_time": "2022-11-04T12:19:45.670Z"
   },
   {
    "duration": 1488,
    "start_time": "2022-11-04T12:19:51.822Z"
   },
   {
    "duration": 11,
    "start_time": "2022-11-04T17:06:44.769Z"
   },
   {
    "duration": 4,
    "start_time": "2022-11-04T17:14:23.655Z"
   },
   {
    "duration": 4,
    "start_time": "2022-11-04T17:21:02.851Z"
   },
   {
    "duration": 44,
    "start_time": "2022-11-04T17:33:01.847Z"
   },
   {
    "duration": 3,
    "start_time": "2022-11-04T17:33:05.936Z"
   },
   {
    "duration": 4,
    "start_time": "2022-11-04T17:33:06.401Z"
   },
   {
    "duration": 3,
    "start_time": "2022-11-04T17:33:26.911Z"
   },
   {
    "duration": 6,
    "start_time": "2022-11-04T17:33:31.687Z"
   },
   {
    "duration": 3,
    "start_time": "2022-11-04T17:42:16.475Z"
   },
   {
    "duration": 2,
    "start_time": "2022-11-04T17:42:19.321Z"
   },
   {
    "duration": 2,
    "start_time": "2022-11-04T17:42:21.751Z"
   },
   {
    "duration": 2,
    "start_time": "2022-11-04T17:42:28.848Z"
   },
   {
    "duration": 3,
    "start_time": "2022-11-04T17:42:35.297Z"
   },
   {
    "duration": 2,
    "start_time": "2022-11-04T17:42:37.849Z"
   },
   {
    "duration": 2,
    "start_time": "2022-11-04T17:42:40.308Z"
   },
   {
    "duration": 2,
    "start_time": "2022-11-04T17:42:45.982Z"
   },
   {
    "duration": 2,
    "start_time": "2022-11-04T17:42:51.169Z"
   },
   {
    "duration": 11,
    "start_time": "2022-11-04T17:42:51.727Z"
   },
   {
    "duration": 1491,
    "start_time": "2022-11-04T17:44:21.073Z"
   },
   {
    "duration": 902,
    "start_time": "2022-11-04T17:44:22.566Z"
   },
   {
    "duration": 16,
    "start_time": "2022-11-04T17:44:23.469Z"
   },
   {
    "duration": 22,
    "start_time": "2022-11-04T17:44:23.487Z"
   },
   {
    "duration": 16,
    "start_time": "2022-11-04T17:44:23.512Z"
   },
   {
    "duration": 23,
    "start_time": "2022-11-04T17:44:23.530Z"
   },
   {
    "duration": 10,
    "start_time": "2022-11-04T17:44:23.555Z"
   },
   {
    "duration": 12,
    "start_time": "2022-11-04T17:44:23.567Z"
   },
   {
    "duration": 73,
    "start_time": "2022-11-04T17:44:23.581Z"
   },
   {
    "duration": 51,
    "start_time": "2022-11-04T17:44:23.656Z"
   },
   {
    "duration": 71,
    "start_time": "2022-11-04T17:44:23.708Z"
   },
   {
    "duration": 9,
    "start_time": "2022-11-04T17:44:23.781Z"
   },
   {
    "duration": 10,
    "start_time": "2022-11-04T17:44:23.792Z"
   },
   {
    "duration": 10,
    "start_time": "2022-11-04T17:44:23.805Z"
   },
   {
    "duration": 4,
    "start_time": "2022-11-04T17:44:23.839Z"
   },
   {
    "duration": 12,
    "start_time": "2022-11-04T17:44:23.844Z"
   },
   {
    "duration": 5,
    "start_time": "2022-11-04T17:44:23.858Z"
   },
   {
    "duration": 8,
    "start_time": "2022-11-04T17:44:23.864Z"
   },
   {
    "duration": 12,
    "start_time": "2022-11-04T17:44:23.874Z"
   },
   {
    "duration": 11,
    "start_time": "2022-11-04T17:44:23.888Z"
   },
   {
    "duration": 12,
    "start_time": "2022-11-04T17:44:23.901Z"
   },
   {
    "duration": 3,
    "start_time": "2022-11-04T17:44:23.938Z"
   },
   {
    "duration": 203,
    "start_time": "2022-11-04T17:44:23.943Z"
   },
   {
    "duration": 3,
    "start_time": "2022-11-04T17:44:24.149Z"
   },
   {
    "duration": 8,
    "start_time": "2022-11-04T17:44:24.239Z"
   },
   {
    "duration": 4,
    "start_time": "2022-11-04T17:44:24.249Z"
   },
   {
    "duration": 5,
    "start_time": "2022-11-04T17:44:24.255Z"
   },
   {
    "duration": 9,
    "start_time": "2022-11-04T17:44:24.261Z"
   },
   {
    "duration": 7,
    "start_time": "2022-11-04T17:44:24.271Z"
   },
   {
    "duration": 8,
    "start_time": "2022-11-04T17:44:24.279Z"
   },
   {
    "duration": 5,
    "start_time": "2022-11-04T17:44:24.288Z"
   },
   {
    "duration": 6,
    "start_time": "2022-11-04T17:44:24.294Z"
   },
   {
    "duration": 7,
    "start_time": "2022-11-04T17:44:24.302Z"
   },
   {
    "duration": 5,
    "start_time": "2022-11-04T17:44:24.310Z"
   },
   {
    "duration": 22,
    "start_time": "2022-11-04T17:44:24.317Z"
   },
   {
    "duration": 3,
    "start_time": "2022-11-04T17:44:24.341Z"
   },
   {
    "duration": 5,
    "start_time": "2022-11-04T17:44:24.345Z"
   },
   {
    "duration": 7,
    "start_time": "2022-11-04T17:44:24.351Z"
   },
   {
    "duration": 10,
    "start_time": "2022-11-04T17:44:24.359Z"
   },
   {
    "duration": 123,
    "start_time": "2022-11-04T17:44:24.370Z"
   },
   {
    "duration": 0,
    "start_time": "2022-11-04T17:44:24.495Z"
   },
   {
    "duration": 0,
    "start_time": "2022-11-04T17:44:24.496Z"
   },
   {
    "duration": 0,
    "start_time": "2022-11-04T17:44:24.497Z"
   },
   {
    "duration": 0,
    "start_time": "2022-11-04T17:44:24.498Z"
   },
   {
    "duration": 0,
    "start_time": "2022-11-04T17:44:24.499Z"
   },
   {
    "duration": 0,
    "start_time": "2022-11-04T17:44:24.500Z"
   },
   {
    "duration": 0,
    "start_time": "2022-11-04T17:44:24.501Z"
   },
   {
    "duration": 0,
    "start_time": "2022-11-04T17:44:24.502Z"
   },
   {
    "duration": 0,
    "start_time": "2022-11-04T17:44:24.503Z"
   },
   {
    "duration": 0,
    "start_time": "2022-11-04T17:44:24.503Z"
   },
   {
    "duration": 0,
    "start_time": "2022-11-04T17:44:24.504Z"
   },
   {
    "duration": 0,
    "start_time": "2022-11-04T17:44:24.506Z"
   },
   {
    "duration": 0,
    "start_time": "2022-11-04T17:44:24.507Z"
   },
   {
    "duration": 0,
    "start_time": "2022-11-04T17:44:24.508Z"
   },
   {
    "duration": 0,
    "start_time": "2022-11-04T17:44:24.539Z"
   },
   {
    "duration": 0,
    "start_time": "2022-11-04T17:44:24.540Z"
   },
   {
    "duration": 0,
    "start_time": "2022-11-04T17:44:24.541Z"
   },
   {
    "duration": 0,
    "start_time": "2022-11-04T17:44:24.543Z"
   },
   {
    "duration": 0,
    "start_time": "2022-11-04T17:44:24.544Z"
   },
   {
    "duration": 0,
    "start_time": "2022-11-04T17:44:24.545Z"
   },
   {
    "duration": 2,
    "start_time": "2022-11-04T17:44:36.315Z"
   },
   {
    "duration": 6,
    "start_time": "2022-11-04T17:44:42.077Z"
   },
   {
    "duration": 10,
    "start_time": "2022-11-04T17:44:43.883Z"
   },
   {
    "duration": 3,
    "start_time": "2022-11-04T17:44:49.276Z"
   },
   {
    "duration": 3,
    "start_time": "2022-11-04T17:44:51.380Z"
   },
   {
    "duration": 4,
    "start_time": "2022-11-04T17:44:57.831Z"
   },
   {
    "duration": 3,
    "start_time": "2022-11-04T17:45:19.902Z"
   },
   {
    "duration": 11,
    "start_time": "2022-11-04T17:45:21.022Z"
   },
   {
    "duration": 26,
    "start_time": "2022-11-04T17:46:12.796Z"
   },
   {
    "duration": 3,
    "start_time": "2022-11-04T17:47:06.919Z"
   },
   {
    "duration": 20,
    "start_time": "2022-11-04T17:47:07.578Z"
   },
   {
    "duration": 1232,
    "start_time": "2022-11-04T17:47:19.700Z"
   },
   {
    "duration": 1211,
    "start_time": "2022-11-04T17:49:11.454Z"
   },
   {
    "duration": 1239,
    "start_time": "2022-11-04T17:49:50.159Z"
   },
   {
    "duration": 1223,
    "start_time": "2022-11-04T17:50:02.973Z"
   },
   {
    "duration": 47,
    "start_time": "2022-11-04T17:50:16.745Z"
   },
   {
    "duration": 1232,
    "start_time": "2022-11-04T17:50:22.651Z"
   },
   {
    "duration": 1426,
    "start_time": "2022-11-04T18:34:17.796Z"
   },
   {
    "duration": 387,
    "start_time": "2022-11-04T18:34:19.223Z"
   },
   {
    "duration": 15,
    "start_time": "2022-11-04T18:34:19.612Z"
   },
   {
    "duration": 21,
    "start_time": "2022-11-04T18:34:19.629Z"
   },
   {
    "duration": 13,
    "start_time": "2022-11-04T18:34:19.652Z"
   },
   {
    "duration": 11,
    "start_time": "2022-11-04T18:34:19.667Z"
   },
   {
    "duration": 9,
    "start_time": "2022-11-04T18:34:19.680Z"
   },
   {
    "duration": 11,
    "start_time": "2022-11-04T18:34:19.690Z"
   },
   {
    "duration": 82,
    "start_time": "2022-11-04T18:34:19.703Z"
   },
   {
    "duration": 67,
    "start_time": "2022-11-04T18:34:19.788Z"
   },
   {
    "duration": 55,
    "start_time": "2022-11-04T18:34:19.857Z"
   },
   {
    "duration": 29,
    "start_time": "2022-11-04T18:34:19.914Z"
   },
   {
    "duration": 10,
    "start_time": "2022-11-04T18:34:19.945Z"
   },
   {
    "duration": 9,
    "start_time": "2022-11-04T18:34:19.957Z"
   },
   {
    "duration": 8,
    "start_time": "2022-11-04T18:34:19.967Z"
   },
   {
    "duration": 29,
    "start_time": "2022-11-04T18:34:19.976Z"
   },
   {
    "duration": 6,
    "start_time": "2022-11-04T18:34:20.007Z"
   },
   {
    "duration": 9,
    "start_time": "2022-11-04T18:34:20.014Z"
   },
   {
    "duration": 23,
    "start_time": "2022-11-04T18:34:20.024Z"
   },
   {
    "duration": 14,
    "start_time": "2022-11-04T18:34:20.048Z"
   },
   {
    "duration": 13,
    "start_time": "2022-11-04T18:34:20.064Z"
   },
   {
    "duration": 5,
    "start_time": "2022-11-04T18:34:20.079Z"
   },
   {
    "duration": 62,
    "start_time": "2022-11-04T18:34:20.086Z"
   },
   {
    "duration": 3,
    "start_time": "2022-11-04T18:34:20.239Z"
   },
   {
    "duration": 95,
    "start_time": "2022-11-04T18:34:20.244Z"
   },
   {
    "duration": 5,
    "start_time": "2022-11-04T18:34:20.341Z"
   },
   {
    "duration": 5,
    "start_time": "2022-11-04T18:34:20.348Z"
   },
   {
    "duration": 3,
    "start_time": "2022-11-04T18:34:20.357Z"
   },
   {
    "duration": 7,
    "start_time": "2022-11-04T18:34:20.362Z"
   },
   {
    "duration": 15,
    "start_time": "2022-11-04T18:34:20.370Z"
   },
   {
    "duration": 6,
    "start_time": "2022-11-04T18:34:20.387Z"
   },
   {
    "duration": 5,
    "start_time": "2022-11-04T18:34:20.394Z"
   },
   {
    "duration": 6,
    "start_time": "2022-11-04T18:34:20.401Z"
   },
   {
    "duration": 5,
    "start_time": "2022-11-04T18:34:20.409Z"
   },
   {
    "duration": 27,
    "start_time": "2022-11-04T18:34:20.415Z"
   },
   {
    "duration": 125,
    "start_time": "2022-11-04T18:34:20.444Z"
   },
   {
    "duration": 0,
    "start_time": "2022-11-04T18:34:20.572Z"
   },
   {
    "duration": 0,
    "start_time": "2022-11-04T18:34:20.574Z"
   },
   {
    "duration": 0,
    "start_time": "2022-11-04T18:34:20.575Z"
   },
   {
    "duration": 0,
    "start_time": "2022-11-04T18:34:20.577Z"
   },
   {
    "duration": 55,
    "start_time": "2022-11-04T18:34:49.886Z"
   },
   {
    "duration": 89,
    "start_time": "2022-11-04T18:35:05.149Z"
   },
   {
    "duration": 25,
    "start_time": "2022-11-04T18:35:08.026Z"
   },
   {
    "duration": 11,
    "start_time": "2022-11-04T18:35:10.686Z"
   },
   {
    "duration": 11,
    "start_time": "2022-11-04T18:36:38.025Z"
   },
   {
    "duration": 10,
    "start_time": "2022-11-04T18:37:44.479Z"
   },
   {
    "duration": 4,
    "start_time": "2022-11-04T18:37:57.475Z"
   },
   {
    "duration": 4,
    "start_time": "2022-11-04T18:38:38.685Z"
   },
   {
    "duration": 4,
    "start_time": "2022-11-04T18:38:42.185Z"
   },
   {
    "duration": 4,
    "start_time": "2022-11-04T18:38:43.201Z"
   },
   {
    "duration": 4,
    "start_time": "2022-11-04T18:38:43.905Z"
   },
   {
    "duration": 3,
    "start_time": "2022-11-04T18:39:09.911Z"
   },
   {
    "duration": 35,
    "start_time": "2022-11-04T18:39:10.598Z"
   },
   {
    "duration": 21,
    "start_time": "2022-11-04T18:39:55.471Z"
   },
   {
    "duration": 30,
    "start_time": "2022-11-04T18:39:56.325Z"
   },
   {
    "duration": 22,
    "start_time": "2022-11-04T18:40:28.325Z"
   },
   {
    "duration": 22,
    "start_time": "2022-11-04T18:40:52.011Z"
   },
   {
    "duration": 1405,
    "start_time": "2022-11-04T18:40:56.477Z"
   },
   {
    "duration": 1360,
    "start_time": "2022-11-04T18:41:56.769Z"
   },
   {
    "duration": 1274,
    "start_time": "2022-11-04T18:42:41.753Z"
   },
   {
    "duration": 47,
    "start_time": "2022-11-06T11:58:02.219Z"
   },
   {
    "duration": 1599,
    "start_time": "2022-11-06T13:25:21.353Z"
   },
   {
    "duration": 634,
    "start_time": "2022-11-06T13:25:22.954Z"
   },
   {
    "duration": 16,
    "start_time": "2022-11-06T13:25:23.590Z"
   },
   {
    "duration": 14,
    "start_time": "2022-11-06T13:25:23.608Z"
   },
   {
    "duration": 15,
    "start_time": "2022-11-06T13:25:23.623Z"
   },
   {
    "duration": 13,
    "start_time": "2022-11-06T13:25:23.640Z"
   },
   {
    "duration": 8,
    "start_time": "2022-11-06T13:25:23.654Z"
   },
   {
    "duration": 11,
    "start_time": "2022-11-06T13:25:23.664Z"
   },
   {
    "duration": 76,
    "start_time": "2022-11-06T13:25:23.677Z"
   },
   {
    "duration": 62,
    "start_time": "2022-11-06T13:25:23.756Z"
   },
   {
    "duration": 54,
    "start_time": "2022-11-06T13:25:23.820Z"
   },
   {
    "duration": 10,
    "start_time": "2022-11-06T13:25:23.875Z"
   },
   {
    "duration": 32,
    "start_time": "2022-11-06T13:25:23.887Z"
   },
   {
    "duration": 8,
    "start_time": "2022-11-06T13:25:23.921Z"
   },
   {
    "duration": 3,
    "start_time": "2022-11-06T13:25:23.931Z"
   },
   {
    "duration": 11,
    "start_time": "2022-11-06T13:25:23.935Z"
   },
   {
    "duration": 5,
    "start_time": "2022-11-06T13:25:23.947Z"
   },
   {
    "duration": 11,
    "start_time": "2022-11-06T13:25:23.954Z"
   },
   {
    "duration": 42,
    "start_time": "2022-11-06T13:25:23.967Z"
   },
   {
    "duration": 12,
    "start_time": "2022-11-06T13:25:24.010Z"
   },
   {
    "duration": 3,
    "start_time": "2022-11-06T13:25:24.024Z"
   },
   {
    "duration": 180,
    "start_time": "2022-11-06T13:25:24.029Z"
   },
   {
    "duration": 24,
    "start_time": "2022-11-06T13:25:24.211Z"
   },
   {
    "duration": 21,
    "start_time": "2022-11-06T13:25:24.310Z"
   },
   {
    "duration": 182,
    "start_time": "2022-11-06T13:25:24.332Z"
   },
   {
    "duration": 10,
    "start_time": "2022-11-06T13:25:24.516Z"
   },
   {
    "duration": 12,
    "start_time": "2022-11-06T13:25:24.528Z"
   },
   {
    "duration": 3,
    "start_time": "2022-11-06T13:25:24.544Z"
   },
   {
    "duration": 11,
    "start_time": "2022-11-06T13:25:24.548Z"
   },
   {
    "duration": 10,
    "start_time": "2022-11-06T13:25:24.560Z"
   },
   {
    "duration": 10,
    "start_time": "2022-11-06T13:25:24.572Z"
   },
   {
    "duration": 4,
    "start_time": "2022-11-06T13:25:24.609Z"
   },
   {
    "duration": 8,
    "start_time": "2022-11-06T13:25:24.614Z"
   },
   {
    "duration": 5,
    "start_time": "2022-11-06T13:25:24.624Z"
   },
   {
    "duration": 7,
    "start_time": "2022-11-06T13:25:24.631Z"
   },
   {
    "duration": 5,
    "start_time": "2022-11-06T13:25:24.639Z"
   },
   {
    "duration": 39,
    "start_time": "2022-11-06T13:25:24.645Z"
   },
   {
    "duration": 0,
    "start_time": "2022-11-06T13:25:24.685Z"
   },
   {
    "duration": 0,
    "start_time": "2022-11-06T13:25:24.686Z"
   },
   {
    "duration": 0,
    "start_time": "2022-11-06T13:25:24.687Z"
   },
   {
    "duration": 0,
    "start_time": "2022-11-06T13:25:24.689Z"
   },
   {
    "duration": 0,
    "start_time": "2022-11-06T13:25:24.690Z"
   },
   {
    "duration": 25,
    "start_time": "2022-11-06T13:25:47.892Z"
   },
   {
    "duration": 23,
    "start_time": "2022-11-06T13:25:56.150Z"
   },
   {
    "duration": 30,
    "start_time": "2022-11-06T13:26:07.253Z"
   },
   {
    "duration": 1092,
    "start_time": "2022-11-06T13:26:11.025Z"
   },
   {
    "duration": 1077,
    "start_time": "2022-11-06T13:27:49.858Z"
   },
   {
    "duration": 1100,
    "start_time": "2022-11-06T13:28:24.022Z"
   },
   {
    "duration": 6,
    "start_time": "2022-11-06T13:30:06.925Z"
   },
   {
    "duration": 1139,
    "start_time": "2022-11-06T13:30:27.967Z"
   },
   {
    "duration": 1111,
    "start_time": "2022-11-06T13:30:54.834Z"
   },
   {
    "duration": 58,
    "start_time": "2022-11-06T13:32:09.996Z"
   },
   {
    "duration": 1181,
    "start_time": "2022-11-06T13:32:23.861Z"
   },
   {
    "duration": 1167,
    "start_time": "2022-11-06T13:33:04.166Z"
   },
   {
    "duration": 1408,
    "start_time": "2022-11-06T13:33:36.226Z"
   },
   {
    "duration": 380,
    "start_time": "2022-11-06T13:33:37.636Z"
   },
   {
    "duration": 18,
    "start_time": "2022-11-06T13:33:38.018Z"
   },
   {
    "duration": 23,
    "start_time": "2022-11-06T13:33:38.038Z"
   },
   {
    "duration": 14,
    "start_time": "2022-11-06T13:33:38.064Z"
   },
   {
    "duration": 35,
    "start_time": "2022-11-06T13:33:38.080Z"
   },
   {
    "duration": 25,
    "start_time": "2022-11-06T13:33:38.117Z"
   },
   {
    "duration": 17,
    "start_time": "2022-11-06T13:33:38.144Z"
   },
   {
    "duration": 59,
    "start_time": "2022-11-06T13:33:38.162Z"
   },
   {
    "duration": 55,
    "start_time": "2022-11-06T13:33:38.222Z"
   },
   {
    "duration": 70,
    "start_time": "2022-11-06T13:33:38.279Z"
   },
   {
    "duration": 9,
    "start_time": "2022-11-06T13:33:38.351Z"
   },
   {
    "duration": 10,
    "start_time": "2022-11-06T13:33:38.361Z"
   },
   {
    "duration": 9,
    "start_time": "2022-11-06T13:33:38.375Z"
   },
   {
    "duration": 3,
    "start_time": "2022-11-06T13:33:38.385Z"
   },
   {
    "duration": 20,
    "start_time": "2022-11-06T13:33:38.390Z"
   },
   {
    "duration": 32,
    "start_time": "2022-11-06T13:33:38.411Z"
   },
   {
    "duration": 12,
    "start_time": "2022-11-06T13:33:38.445Z"
   },
   {
    "duration": 22,
    "start_time": "2022-11-06T13:33:38.458Z"
   },
   {
    "duration": 12,
    "start_time": "2022-11-06T13:33:38.481Z"
   },
   {
    "duration": 5,
    "start_time": "2022-11-06T13:33:38.495Z"
   },
   {
    "duration": 131,
    "start_time": "2022-11-06T13:33:38.501Z"
   },
   {
    "duration": 101,
    "start_time": "2022-11-06T13:33:38.709Z"
   },
   {
    "duration": 121,
    "start_time": "2022-11-06T13:33:38.812Z"
   },
   {
    "duration": 215,
    "start_time": "2022-11-06T13:33:38.935Z"
   },
   {
    "duration": 17,
    "start_time": "2022-11-06T13:33:39.152Z"
   },
   {
    "duration": 10,
    "start_time": "2022-11-06T13:33:39.171Z"
   },
   {
    "duration": 3,
    "start_time": "2022-11-06T13:33:39.183Z"
   },
   {
    "duration": 8,
    "start_time": "2022-11-06T13:33:39.188Z"
   },
   {
    "duration": 12,
    "start_time": "2022-11-06T13:33:39.197Z"
   },
   {
    "duration": 20,
    "start_time": "2022-11-06T13:33:39.210Z"
   },
   {
    "duration": 6,
    "start_time": "2022-11-06T13:33:39.232Z"
   },
   {
    "duration": 9,
    "start_time": "2022-11-06T13:33:39.240Z"
   },
   {
    "duration": 5,
    "start_time": "2022-11-06T13:33:39.252Z"
   },
   {
    "duration": 6,
    "start_time": "2022-11-06T13:33:39.259Z"
   },
   {
    "duration": 3,
    "start_time": "2022-11-06T13:33:39.267Z"
   },
   {
    "duration": 53,
    "start_time": "2022-11-06T13:33:39.272Z"
   },
   {
    "duration": 25,
    "start_time": "2022-11-06T13:33:39.327Z"
   },
   {
    "duration": 30,
    "start_time": "2022-11-06T13:33:39.355Z"
   },
   {
    "duration": 1258,
    "start_time": "2022-11-06T13:33:39.387Z"
   },
   {
    "duration": 1177,
    "start_time": "2022-11-06T13:33:40.648Z"
   },
   {
    "duration": 1285,
    "start_time": "2022-11-06T13:33:41.827Z"
   },
   {
    "duration": 1409,
    "start_time": "2022-11-06T13:38:39.895Z"
   },
   {
    "duration": 402,
    "start_time": "2022-11-06T13:38:41.306Z"
   },
   {
    "duration": 16,
    "start_time": "2022-11-06T13:38:41.711Z"
   },
   {
    "duration": 45,
    "start_time": "2022-11-06T13:38:41.730Z"
   },
   {
    "duration": 53,
    "start_time": "2022-11-06T13:38:41.777Z"
   },
   {
    "duration": 25,
    "start_time": "2022-11-06T13:38:41.832Z"
   },
   {
    "duration": 48,
    "start_time": "2022-11-06T13:38:41.859Z"
   },
   {
    "duration": 30,
    "start_time": "2022-11-06T13:38:41.908Z"
   },
   {
    "duration": 82,
    "start_time": "2022-11-06T13:38:41.940Z"
   },
   {
    "duration": 49,
    "start_time": "2022-11-06T13:38:42.024Z"
   },
   {
    "duration": 67,
    "start_time": "2022-11-06T13:38:42.074Z"
   },
   {
    "duration": 9,
    "start_time": "2022-11-06T13:38:42.142Z"
   },
   {
    "duration": 35,
    "start_time": "2022-11-06T13:38:42.153Z"
   },
   {
    "duration": 15,
    "start_time": "2022-11-06T13:38:42.190Z"
   },
   {
    "duration": 4,
    "start_time": "2022-11-06T13:38:42.207Z"
   },
   {
    "duration": 14,
    "start_time": "2022-11-06T13:38:42.213Z"
   },
   {
    "duration": 7,
    "start_time": "2022-11-06T13:38:42.228Z"
   },
   {
    "duration": 14,
    "start_time": "2022-11-06T13:38:42.237Z"
   },
   {
    "duration": 14,
    "start_time": "2022-11-06T13:38:42.252Z"
   },
   {
    "duration": 11,
    "start_time": "2022-11-06T13:38:42.268Z"
   },
   {
    "duration": 3,
    "start_time": "2022-11-06T13:38:42.281Z"
   },
   {
    "duration": 40,
    "start_time": "2022-11-06T13:38:42.285Z"
   },
   {
    "duration": 185,
    "start_time": "2022-11-06T13:38:42.327Z"
   },
   {
    "duration": 127,
    "start_time": "2022-11-06T13:38:42.514Z"
   },
   {
    "duration": 172,
    "start_time": "2022-11-06T13:38:42.642Z"
   },
   {
    "duration": 35,
    "start_time": "2022-11-06T13:38:42.816Z"
   },
   {
    "duration": 18,
    "start_time": "2022-11-06T13:38:42.853Z"
   },
   {
    "duration": 3,
    "start_time": "2022-11-06T13:38:42.875Z"
   },
   {
    "duration": 7,
    "start_time": "2022-11-06T13:38:42.880Z"
   },
   {
    "duration": 9,
    "start_time": "2022-11-06T13:38:42.891Z"
   },
   {
    "duration": 8,
    "start_time": "2022-11-06T13:38:42.902Z"
   },
   {
    "duration": 9,
    "start_time": "2022-11-06T13:38:42.912Z"
   },
   {
    "duration": 10,
    "start_time": "2022-11-06T13:38:42.923Z"
   },
   {
    "duration": 8,
    "start_time": "2022-11-06T13:38:42.935Z"
   },
   {
    "duration": 9,
    "start_time": "2022-11-06T13:38:42.945Z"
   },
   {
    "duration": 3,
    "start_time": "2022-11-06T13:38:42.956Z"
   },
   {
    "duration": 27,
    "start_time": "2022-11-06T13:38:42.961Z"
   },
   {
    "duration": 23,
    "start_time": "2022-11-06T13:38:43.008Z"
   },
   {
    "duration": 24,
    "start_time": "2022-11-06T13:38:43.033Z"
   },
   {
    "duration": 1159,
    "start_time": "2022-11-06T13:38:43.059Z"
   },
   {
    "duration": 1151,
    "start_time": "2022-11-06T13:38:44.220Z"
   },
   {
    "duration": 1070,
    "start_time": "2022-11-06T13:38:45.372Z"
   },
   {
    "duration": 1856,
    "start_time": "2022-11-08T06:31:31.817Z"
   },
   {
    "duration": 1055,
    "start_time": "2022-11-08T06:31:33.676Z"
   },
   {
    "duration": 22,
    "start_time": "2022-11-08T06:31:34.733Z"
   },
   {
    "duration": 42,
    "start_time": "2022-11-08T06:31:34.758Z"
   },
   {
    "duration": 35,
    "start_time": "2022-11-08T06:31:34.802Z"
   },
   {
    "duration": 18,
    "start_time": "2022-11-08T06:31:34.839Z"
   },
   {
    "duration": 53,
    "start_time": "2022-11-08T06:31:34.859Z"
   },
   {
    "duration": 35,
    "start_time": "2022-11-08T06:31:34.914Z"
   },
   {
    "duration": 138,
    "start_time": "2022-11-08T06:31:34.951Z"
   },
   {
    "duration": 63,
    "start_time": "2022-11-08T06:31:35.099Z"
   },
   {
    "duration": 103,
    "start_time": "2022-11-08T06:31:35.171Z"
   },
   {
    "duration": 13,
    "start_time": "2022-11-08T06:31:35.277Z"
   },
   {
    "duration": 32,
    "start_time": "2022-11-08T06:31:35.293Z"
   },
   {
    "duration": 22,
    "start_time": "2022-11-08T06:31:35.327Z"
   },
   {
    "duration": 29,
    "start_time": "2022-11-08T06:31:35.351Z"
   },
   {
    "duration": 46,
    "start_time": "2022-11-08T06:31:35.382Z"
   },
   {
    "duration": 22,
    "start_time": "2022-11-08T06:31:35.430Z"
   },
   {
    "duration": 39,
    "start_time": "2022-11-08T06:31:35.455Z"
   },
   {
    "duration": 25,
    "start_time": "2022-11-08T06:31:35.497Z"
   },
   {
    "duration": 23,
    "start_time": "2022-11-08T06:31:35.524Z"
   },
   {
    "duration": 15,
    "start_time": "2022-11-08T06:31:35.549Z"
   },
   {
    "duration": 223,
    "start_time": "2022-11-08T06:31:35.566Z"
   },
   {
    "duration": 184,
    "start_time": "2022-11-08T06:31:35.792Z"
   },
   {
    "duration": 207,
    "start_time": "2022-11-08T06:31:35.979Z"
   },
   {
    "duration": 132,
    "start_time": "2022-11-08T06:31:36.278Z"
   },
   {
    "duration": 36,
    "start_time": "2022-11-08T06:31:36.412Z"
   },
   {
    "duration": 16,
    "start_time": "2022-11-08T06:31:36.452Z"
   },
   {
    "duration": 33,
    "start_time": "2022-11-08T06:31:36.474Z"
   },
   {
    "duration": 59,
    "start_time": "2022-11-08T06:31:36.509Z"
   },
   {
    "duration": 41,
    "start_time": "2022-11-08T06:31:36.571Z"
   },
   {
    "duration": 36,
    "start_time": "2022-11-08T06:31:36.614Z"
   },
   {
    "duration": 113,
    "start_time": "2022-11-08T06:31:36.654Z"
   },
   {
    "duration": 56,
    "start_time": "2022-11-08T06:31:36.769Z"
   },
   {
    "duration": 22,
    "start_time": "2022-11-08T06:31:36.827Z"
   },
   {
    "duration": 10,
    "start_time": "2022-11-08T06:31:36.851Z"
   },
   {
    "duration": 31,
    "start_time": "2022-11-08T06:31:36.864Z"
   },
   {
    "duration": 49,
    "start_time": "2022-11-08T06:31:36.898Z"
   },
   {
    "duration": 30,
    "start_time": "2022-11-08T06:31:36.949Z"
   },
   {
    "duration": 37,
    "start_time": "2022-11-08T06:31:36.981Z"
   },
   {
    "duration": 6,
    "start_time": "2022-11-08T06:35:11.882Z"
   },
   {
    "duration": 8,
    "start_time": "2022-11-08T06:43:14.865Z"
   },
   {
    "duration": 136,
    "start_time": "2022-11-08T07:11:46.068Z"
   },
   {
    "duration": 5,
    "start_time": "2022-11-08T07:11:51.963Z"
   },
   {
    "duration": 7,
    "start_time": "2022-11-08T07:12:27.610Z"
   },
   {
    "duration": 6,
    "start_time": "2022-11-08T07:13:01.596Z"
   },
   {
    "duration": 6,
    "start_time": "2022-11-08T07:13:23.702Z"
   },
   {
    "duration": 6,
    "start_time": "2022-11-08T07:13:41.692Z"
   },
   {
    "duration": 1426,
    "start_time": "2022-11-08T07:30:00.520Z"
   },
   {
    "duration": 1430,
    "start_time": "2022-11-08T07:30:03.762Z"
   },
   {
    "duration": 1422,
    "start_time": "2022-11-08T07:30:07.846Z"
   },
   {
    "duration": 1299,
    "start_time": "2022-11-08T07:32:02.752Z"
   },
   {
    "duration": 1206,
    "start_time": "2022-11-08T07:32:26.307Z"
   },
   {
    "duration": 1555,
    "start_time": "2022-11-08T07:33:06.343Z"
   },
   {
    "duration": 1649,
    "start_time": "2022-11-08T07:34:03.585Z"
   },
   {
    "duration": 1541,
    "start_time": "2022-11-08T07:34:42.538Z"
   },
   {
    "duration": 1640,
    "start_time": "2022-11-08T07:35:41.990Z"
   },
   {
    "duration": 1565,
    "start_time": "2022-11-08T07:35:59.240Z"
   },
   {
    "duration": 1440,
    "start_time": "2022-11-08T07:36:12.200Z"
   },
   {
    "duration": 8,
    "start_time": "2022-11-08T07:39:49.495Z"
   },
   {
    "duration": 10,
    "start_time": "2022-11-08T07:40:03.750Z"
   },
   {
    "duration": 8,
    "start_time": "2022-11-08T07:40:22.156Z"
   },
   {
    "duration": 7,
    "start_time": "2022-11-08T07:40:23.117Z"
   },
   {
    "duration": 6,
    "start_time": "2022-11-08T07:41:14.436Z"
   },
   {
    "duration": 5,
    "start_time": "2022-11-08T07:41:21.801Z"
   },
   {
    "duration": 7,
    "start_time": "2022-11-08T07:41:26.370Z"
   },
   {
    "duration": 12,
    "start_time": "2022-11-08T07:42:14.497Z"
   },
   {
    "duration": 7,
    "start_time": "2022-11-08T07:42:21.971Z"
   },
   {
    "duration": 9,
    "start_time": "2022-11-08T07:42:55.866Z"
   },
   {
    "duration": 5,
    "start_time": "2022-11-08T07:44:16.694Z"
   },
   {
    "duration": 9,
    "start_time": "2022-11-08T07:44:22.308Z"
   },
   {
    "duration": 1837,
    "start_time": "2022-11-08T07:45:53.738Z"
   },
   {
    "duration": 864,
    "start_time": "2022-11-08T07:45:55.578Z"
   },
   {
    "duration": 28,
    "start_time": "2022-11-08T07:45:56.444Z"
   },
   {
    "duration": 18,
    "start_time": "2022-11-08T07:45:56.476Z"
   },
   {
    "duration": 22,
    "start_time": "2022-11-08T07:45:56.496Z"
   },
   {
    "duration": 19,
    "start_time": "2022-11-08T07:45:56.520Z"
   },
   {
    "duration": 41,
    "start_time": "2022-11-08T07:45:56.540Z"
   },
   {
    "duration": 13,
    "start_time": "2022-11-08T07:45:56.585Z"
   },
   {
    "duration": 83,
    "start_time": "2022-11-08T07:45:56.600Z"
   },
   {
    "duration": 60,
    "start_time": "2022-11-08T07:45:56.687Z"
   },
   {
    "duration": 106,
    "start_time": "2022-11-08T07:45:56.749Z"
   },
   {
    "duration": 20,
    "start_time": "2022-11-08T07:45:56.857Z"
   },
   {
    "duration": 12,
    "start_time": "2022-11-08T07:45:56.878Z"
   },
   {
    "duration": 15,
    "start_time": "2022-11-08T07:45:56.892Z"
   },
   {
    "duration": 7,
    "start_time": "2022-11-08T07:45:56.909Z"
   },
   {
    "duration": 19,
    "start_time": "2022-11-08T07:45:56.918Z"
   },
   {
    "duration": 33,
    "start_time": "2022-11-08T07:45:56.939Z"
   },
   {
    "duration": 17,
    "start_time": "2022-11-08T07:45:56.974Z"
   },
   {
    "duration": 18,
    "start_time": "2022-11-08T07:45:56.994Z"
   },
   {
    "duration": 21,
    "start_time": "2022-11-08T07:45:57.014Z"
   },
   {
    "duration": 5,
    "start_time": "2022-11-08T07:45:57.038Z"
   },
   {
    "duration": 53,
    "start_time": "2022-11-08T07:45:57.045Z"
   },
   {
    "duration": 179,
    "start_time": "2022-11-08T07:45:57.101Z"
   },
   {
    "duration": 121,
    "start_time": "2022-11-08T07:45:57.283Z"
   },
   {
    "duration": 164,
    "start_time": "2022-11-08T07:45:57.411Z"
   },
   {
    "duration": 23,
    "start_time": "2022-11-08T07:45:57.577Z"
   },
   {
    "duration": 18,
    "start_time": "2022-11-08T07:45:57.602Z"
   },
   {
    "duration": 4,
    "start_time": "2022-11-08T07:45:57.626Z"
   },
   {
    "duration": 16,
    "start_time": "2022-11-08T07:45:57.633Z"
   },
   {
    "duration": 21,
    "start_time": "2022-11-08T07:45:57.651Z"
   },
   {
    "duration": 19,
    "start_time": "2022-11-08T07:45:57.674Z"
   },
   {
    "duration": 8,
    "start_time": "2022-11-08T07:45:57.695Z"
   },
   {
    "duration": 26,
    "start_time": "2022-11-08T07:45:57.705Z"
   },
   {
    "duration": 8,
    "start_time": "2022-11-08T07:45:57.734Z"
   },
   {
    "duration": 17,
    "start_time": "2022-11-08T07:45:57.744Z"
   },
   {
    "duration": 7,
    "start_time": "2022-11-08T07:45:57.763Z"
   },
   {
    "duration": 41,
    "start_time": "2022-11-08T07:45:57.773Z"
   },
   {
    "duration": 29,
    "start_time": "2022-11-08T07:45:57.817Z"
   },
   {
    "duration": 39,
    "start_time": "2022-11-08T07:45:57.848Z"
   },
   {
    "duration": 7,
    "start_time": "2022-11-08T07:45:57.889Z"
   },
   {
    "duration": 13,
    "start_time": "2022-11-08T07:45:57.898Z"
   },
   {
    "duration": 15,
    "start_time": "2022-11-08T07:45:57.914Z"
   },
   {
    "duration": 11,
    "start_time": "2022-11-08T07:45:57.932Z"
   },
   {
    "duration": 7,
    "start_time": "2022-11-08T07:47:21.524Z"
   },
   {
    "duration": 7,
    "start_time": "2022-11-08T07:48:15.369Z"
   },
   {
    "duration": 220,
    "start_time": "2022-11-08T07:48:21.552Z"
   },
   {
    "duration": 6,
    "start_time": "2022-11-08T07:52:40.448Z"
   },
   {
    "duration": 7,
    "start_time": "2022-11-08T07:52:41.010Z"
   },
   {
    "duration": 4,
    "start_time": "2022-11-08T07:52:41.604Z"
   },
   {
    "duration": 8,
    "start_time": "2022-11-08T07:52:43.349Z"
   },
   {
    "duration": 6,
    "start_time": "2022-11-08T07:53:01.509Z"
   },
   {
    "duration": 6,
    "start_time": "2022-11-08T07:53:23.562Z"
   },
   {
    "duration": 858,
    "start_time": "2022-11-08T07:54:11.390Z"
   },
   {
    "duration": 894,
    "start_time": "2022-11-08T07:55:02.610Z"
   },
   {
    "duration": 936,
    "start_time": "2022-11-08T08:00:28.529Z"
   },
   {
    "duration": 5,
    "start_time": "2022-11-08T08:00:36.151Z"
   },
   {
    "duration": 8,
    "start_time": "2022-11-08T08:01:58.799Z"
   },
   {
    "duration": 8,
    "start_time": "2022-11-08T08:03:17.685Z"
   },
   {
    "duration": 8,
    "start_time": "2022-11-08T08:03:31.984Z"
   },
   {
    "duration": 10,
    "start_time": "2022-11-08T08:12:51.632Z"
   },
   {
    "duration": 61,
    "start_time": "2022-11-08T08:14:48.381Z"
   },
   {
    "duration": 6,
    "start_time": "2022-11-08T08:15:15.689Z"
   },
   {
    "duration": 7,
    "start_time": "2022-11-08T08:16:35.901Z"
   },
   {
    "duration": 9,
    "start_time": "2022-11-08T08:18:09.241Z"
   },
   {
    "duration": 12,
    "start_time": "2022-11-08T08:18:14.717Z"
   },
   {
    "duration": 11,
    "start_time": "2022-11-08T08:18:53.455Z"
   },
   {
    "duration": 15,
    "start_time": "2022-11-08T08:19:22.923Z"
   },
   {
    "duration": 11,
    "start_time": "2022-11-08T08:20:02.238Z"
   },
   {
    "duration": 1821,
    "start_time": "2022-11-08T08:29:13.939Z"
   },
   {
    "duration": 2071,
    "start_time": "2022-11-08T08:30:28.844Z"
   },
   {
    "duration": 2121,
    "start_time": "2022-11-08T08:31:04.335Z"
   },
   {
    "duration": 1344,
    "start_time": "2022-11-08T08:31:26.691Z"
   },
   {
    "duration": 3,
    "start_time": "2022-11-08T08:40:56.970Z"
   },
   {
    "duration": 92,
    "start_time": "2022-11-08T08:45:51.407Z"
   },
   {
    "duration": 19,
    "start_time": "2022-11-08T08:46:21.973Z"
   },
   {
    "duration": 1675,
    "start_time": "2022-11-08T08:47:00.394Z"
   },
   {
    "duration": 85,
    "start_time": "2022-11-08T08:48:45.549Z"
   },
   {
    "duration": 87,
    "start_time": "2022-11-08T08:48:52.807Z"
   },
   {
    "duration": 7,
    "start_time": "2022-11-08T08:48:59.642Z"
   },
   {
    "duration": 1408,
    "start_time": "2022-11-08T08:49:02.295Z"
   },
   {
    "duration": 87,
    "start_time": "2022-11-08T08:49:16.604Z"
   },
   {
    "duration": 85,
    "start_time": "2022-11-08T08:49:26.259Z"
   },
   {
    "duration": 88,
    "start_time": "2022-11-08T08:49:54.259Z"
   },
   {
    "duration": 7,
    "start_time": "2022-11-08T08:50:05.431Z"
   },
   {
    "duration": 1415,
    "start_time": "2022-11-08T08:50:07.460Z"
   },
   {
    "duration": 1464,
    "start_time": "2022-11-08T08:54:18.303Z"
   },
   {
    "duration": 6,
    "start_time": "2022-11-08T08:54:53.612Z"
   },
   {
    "duration": 1399,
    "start_time": "2022-11-08T08:54:54.687Z"
   },
   {
    "duration": 1310,
    "start_time": "2022-11-08T08:55:03.055Z"
   },
   {
    "duration": 16,
    "start_time": "2022-11-08T08:57:16.467Z"
   },
   {
    "duration": 1368,
    "start_time": "2022-11-08T08:57:20.289Z"
   },
   {
    "duration": 1285,
    "start_time": "2022-11-08T08:57:27.788Z"
   },
   {
    "duration": 1335,
    "start_time": "2022-11-08T08:58:11.265Z"
   },
   {
    "duration": 1294,
    "start_time": "2022-11-08T08:58:25.045Z"
   },
   {
    "duration": 1463,
    "start_time": "2022-11-08T08:58:39.235Z"
   },
   {
    "duration": 1307,
    "start_time": "2022-11-08T08:59:03.229Z"
   },
   {
    "duration": 1308,
    "start_time": "2022-11-08T08:59:07.625Z"
   },
   {
    "duration": 1341,
    "start_time": "2022-11-08T08:59:13.359Z"
   },
   {
    "duration": 1333,
    "start_time": "2022-11-08T08:59:20.825Z"
   },
   {
    "duration": 1403,
    "start_time": "2022-11-08T08:59:26.123Z"
   },
   {
    "duration": 13,
    "start_time": "2022-11-08T09:09:42.055Z"
   },
   {
    "duration": 1455,
    "start_time": "2022-11-08T09:09:57.001Z"
   },
   {
    "duration": 1326,
    "start_time": "2022-11-08T09:10:10.442Z"
   },
   {
    "duration": 1368,
    "start_time": "2022-11-08T09:10:19.794Z"
   },
   {
    "duration": 1281,
    "start_time": "2022-11-08T09:10:52.279Z"
   },
   {
    "duration": 1332,
    "start_time": "2022-11-08T09:10:59.897Z"
   },
   {
    "duration": 1399,
    "start_time": "2022-11-08T09:11:08.951Z"
   },
   {
    "duration": 1370,
    "start_time": "2022-11-08T09:11:15.507Z"
   },
   {
    "duration": 1312,
    "start_time": "2022-11-08T09:11:22.041Z"
   },
   {
    "duration": 1371,
    "start_time": "2022-11-08T09:19:29.416Z"
   },
   {
    "duration": 1327,
    "start_time": "2022-11-08T09:20:23.893Z"
   },
   {
    "duration": 7,
    "start_time": "2022-11-08T09:20:55.373Z"
   },
   {
    "duration": 5,
    "start_time": "2022-11-08T09:23:00.877Z"
   },
   {
    "duration": 5,
    "start_time": "2022-11-08T09:23:10.281Z"
   },
   {
    "duration": 1344,
    "start_time": "2022-11-08T09:24:14.484Z"
   },
   {
    "duration": 1311,
    "start_time": "2022-11-08T09:24:59.983Z"
   },
   {
    "duration": 76,
    "start_time": "2022-11-08T09:28:59.251Z"
   },
   {
    "duration": 1366,
    "start_time": "2022-11-08T09:29:24.879Z"
   },
   {
    "duration": 1383,
    "start_time": "2022-11-08T09:30:07.998Z"
   },
   {
    "duration": 1275,
    "start_time": "2022-11-08T09:30:56.637Z"
   },
   {
    "duration": 7,
    "start_time": "2022-11-08T09:30:59.778Z"
   },
   {
    "duration": 7,
    "start_time": "2022-11-08T09:31:10.030Z"
   },
   {
    "duration": 6,
    "start_time": "2022-11-08T09:31:22.684Z"
   },
   {
    "duration": 6,
    "start_time": "2022-11-08T09:31:27.926Z"
   },
   {
    "duration": 1318,
    "start_time": "2022-11-08T09:31:49.143Z"
   },
   {
    "duration": 6,
    "start_time": "2022-11-08T09:31:52.079Z"
   },
   {
    "duration": 1355,
    "start_time": "2022-11-08T09:31:59.141Z"
   },
   {
    "duration": 7,
    "start_time": "2022-11-08T09:32:01.275Z"
   },
   {
    "duration": 1314,
    "start_time": "2022-11-08T09:32:14.421Z"
   },
   {
    "duration": 7,
    "start_time": "2022-11-08T09:32:17.393Z"
   },
   {
    "duration": 1355,
    "start_time": "2022-11-08T09:32:23.537Z"
   },
   {
    "duration": 12,
    "start_time": "2022-11-08T09:33:19.257Z"
   },
   {
    "duration": 13,
    "start_time": "2022-11-08T09:36:57.071Z"
   },
   {
    "duration": 12,
    "start_time": "2022-11-08T10:18:01.340Z"
   },
   {
    "duration": 5,
    "start_time": "2022-11-08T10:29:16.152Z"
   },
   {
    "duration": 4,
    "start_time": "2022-11-08T10:30:04.097Z"
   },
   {
    "duration": 5,
    "start_time": "2022-11-08T10:30:11.489Z"
   },
   {
    "duration": 14,
    "start_time": "2022-11-08T10:31:37.250Z"
   },
   {
    "duration": 3,
    "start_time": "2022-11-08T10:32:16.324Z"
   },
   {
    "duration": 4,
    "start_time": "2022-11-08T10:32:37.106Z"
   },
   {
    "duration": 3,
    "start_time": "2022-11-08T10:32:43.744Z"
   },
   {
    "duration": 4,
    "start_time": "2022-11-08T10:32:55.669Z"
   },
   {
    "duration": 4,
    "start_time": "2022-11-08T10:33:02.252Z"
   },
   {
    "duration": 3,
    "start_time": "2022-11-08T10:33:07.968Z"
   },
   {
    "duration": 1780,
    "start_time": "2022-11-08T10:33:22.529Z"
   },
   {
    "duration": 687,
    "start_time": "2022-11-08T10:33:24.311Z"
   },
   {
    "duration": 19,
    "start_time": "2022-11-08T10:33:25.000Z"
   },
   {
    "duration": 18,
    "start_time": "2022-11-08T10:33:25.022Z"
   },
   {
    "duration": 42,
    "start_time": "2022-11-08T10:33:25.043Z"
   },
   {
    "duration": 19,
    "start_time": "2022-11-08T10:33:25.087Z"
   },
   {
    "duration": 14,
    "start_time": "2022-11-08T10:33:25.108Z"
   },
   {
    "duration": 20,
    "start_time": "2022-11-08T10:33:25.123Z"
   },
   {
    "duration": 86,
    "start_time": "2022-11-08T10:33:25.146Z"
   },
   {
    "duration": 76,
    "start_time": "2022-11-08T10:33:25.235Z"
   },
   {
    "duration": 78,
    "start_time": "2022-11-08T10:33:25.314Z"
   },
   {
    "duration": 12,
    "start_time": "2022-11-08T10:33:25.395Z"
   },
   {
    "duration": 12,
    "start_time": "2022-11-08T10:33:25.409Z"
   },
   {
    "duration": 12,
    "start_time": "2022-11-08T10:33:25.423Z"
   },
   {
    "duration": 35,
    "start_time": "2022-11-08T10:33:25.438Z"
   },
   {
    "duration": 27,
    "start_time": "2022-11-08T10:33:25.476Z"
   },
   {
    "duration": 12,
    "start_time": "2022-11-08T10:33:25.505Z"
   },
   {
    "duration": 18,
    "start_time": "2022-11-08T10:33:25.519Z"
   },
   {
    "duration": 16,
    "start_time": "2022-11-08T10:33:25.539Z"
   },
   {
    "duration": 22,
    "start_time": "2022-11-08T10:33:25.557Z"
   },
   {
    "duration": 4,
    "start_time": "2022-11-08T10:33:25.582Z"
   },
   {
    "duration": 94,
    "start_time": "2022-11-08T10:33:25.587Z"
   },
   {
    "duration": 192,
    "start_time": "2022-11-08T10:33:25.683Z"
   },
   {
    "duration": 194,
    "start_time": "2022-11-08T10:33:25.878Z"
   },
   {
    "duration": 114,
    "start_time": "2022-11-08T10:33:26.075Z"
   },
   {
    "duration": 12,
    "start_time": "2022-11-08T10:33:26.192Z"
   },
   {
    "duration": 14,
    "start_time": "2022-11-08T10:33:26.206Z"
   },
   {
    "duration": 4,
    "start_time": "2022-11-08T10:33:26.223Z"
   },
   {
    "duration": 18,
    "start_time": "2022-11-08T10:33:26.228Z"
   },
   {
    "duration": 9,
    "start_time": "2022-11-08T10:33:26.273Z"
   },
   {
    "duration": 7,
    "start_time": "2022-11-08T10:33:26.284Z"
   },
   {
    "duration": 18,
    "start_time": "2022-11-08T10:33:26.293Z"
   },
   {
    "duration": 9,
    "start_time": "2022-11-08T10:33:26.313Z"
   },
   {
    "duration": 15,
    "start_time": "2022-11-08T10:33:26.324Z"
   },
   {
    "duration": 6,
    "start_time": "2022-11-08T10:33:26.342Z"
   },
   {
    "duration": 5,
    "start_time": "2022-11-08T10:33:26.372Z"
   },
   {
    "duration": 38,
    "start_time": "2022-11-08T10:33:26.379Z"
   },
   {
    "duration": 26,
    "start_time": "2022-11-08T10:33:26.419Z"
   },
   {
    "duration": 42,
    "start_time": "2022-11-08T10:33:26.447Z"
   },
   {
    "duration": 12,
    "start_time": "2022-11-08T10:33:26.491Z"
   },
   {
    "duration": 13,
    "start_time": "2022-11-08T10:33:26.506Z"
   },
   {
    "duration": 1344,
    "start_time": "2022-11-08T10:33:26.521Z"
   },
   {
    "duration": 1365,
    "start_time": "2022-11-08T10:33:27.872Z"
   },
   {
    "duration": 1382,
    "start_time": "2022-11-08T10:33:29.239Z"
   },
   {
    "duration": 1261,
    "start_time": "2022-11-08T10:33:30.623Z"
   },
   {
    "duration": 5,
    "start_time": "2022-11-08T10:33:31.887Z"
   },
   {
    "duration": 19,
    "start_time": "2022-11-08T10:33:31.894Z"
   },
   {
    "duration": 24,
    "start_time": "2022-11-08T10:33:31.915Z"
   },
   {
    "duration": 91,
    "start_time": "2022-11-08T10:35:41.895Z"
   },
   {
    "duration": 5,
    "start_time": "2022-11-08T10:35:49.581Z"
   },
   {
    "duration": 9,
    "start_time": "2022-11-08T10:35:58.907Z"
   },
   {
    "duration": 4,
    "start_time": "2022-11-08T10:37:59.909Z"
   },
   {
    "duration": 5,
    "start_time": "2022-11-08T10:38:07.013Z"
   },
   {
    "duration": 4,
    "start_time": "2022-11-08T10:38:12.868Z"
   },
   {
    "duration": 1755,
    "start_time": "2022-11-08T10:40:28.767Z"
   },
   {
    "duration": 487,
    "start_time": "2022-11-08T10:40:30.525Z"
   },
   {
    "duration": 28,
    "start_time": "2022-11-08T10:40:31.014Z"
   },
   {
    "duration": 41,
    "start_time": "2022-11-08T10:40:31.044Z"
   },
   {
    "duration": 39,
    "start_time": "2022-11-08T10:40:31.088Z"
   },
   {
    "duration": 33,
    "start_time": "2022-11-08T10:40:31.129Z"
   },
   {
    "duration": 40,
    "start_time": "2022-11-08T10:40:31.164Z"
   },
   {
    "duration": 30,
    "start_time": "2022-11-08T10:40:31.206Z"
   },
   {
    "duration": 107,
    "start_time": "2022-11-08T10:40:31.238Z"
   },
   {
    "duration": 94,
    "start_time": "2022-11-08T10:40:31.348Z"
   },
   {
    "duration": 109,
    "start_time": "2022-11-08T10:40:31.445Z"
   },
   {
    "duration": 30,
    "start_time": "2022-11-08T10:40:31.556Z"
   },
   {
    "duration": 22,
    "start_time": "2022-11-08T10:40:31.589Z"
   },
   {
    "duration": 16,
    "start_time": "2022-11-08T10:40:31.614Z"
   },
   {
    "duration": 10,
    "start_time": "2022-11-08T10:40:31.633Z"
   },
   {
    "duration": 39,
    "start_time": "2022-11-08T10:40:31.645Z"
   },
   {
    "duration": 22,
    "start_time": "2022-11-08T10:40:31.687Z"
   },
   {
    "duration": 24,
    "start_time": "2022-11-08T10:40:31.711Z"
   },
   {
    "duration": 30,
    "start_time": "2022-11-08T10:40:31.737Z"
   },
   {
    "duration": 24,
    "start_time": "2022-11-08T10:40:31.770Z"
   },
   {
    "duration": 5,
    "start_time": "2022-11-08T10:40:31.797Z"
   },
   {
    "duration": 172,
    "start_time": "2022-11-08T10:40:31.804Z"
   },
   {
    "duration": 199,
    "start_time": "2022-11-08T10:40:31.979Z"
   },
   {
    "duration": 112,
    "start_time": "2022-11-08T10:40:32.185Z"
   },
   {
    "duration": 130,
    "start_time": "2022-11-08T10:40:32.372Z"
   },
   {
    "duration": 14,
    "start_time": "2022-11-08T10:40:32.505Z"
   },
   {
    "duration": 16,
    "start_time": "2022-11-08T10:40:32.522Z"
   },
   {
    "duration": 30,
    "start_time": "2022-11-08T10:40:32.544Z"
   },
   {
    "duration": 11,
    "start_time": "2022-11-08T10:40:32.577Z"
   },
   {
    "duration": 20,
    "start_time": "2022-11-08T10:40:32.591Z"
   },
   {
    "duration": 15,
    "start_time": "2022-11-08T10:40:32.613Z"
   },
   {
    "duration": 12,
    "start_time": "2022-11-08T10:40:32.630Z"
   },
   {
    "duration": 6,
    "start_time": "2022-11-08T10:40:32.644Z"
   },
   {
    "duration": 16,
    "start_time": "2022-11-08T10:40:32.652Z"
   },
   {
    "duration": 7,
    "start_time": "2022-11-08T10:40:32.670Z"
   },
   {
    "duration": 12,
    "start_time": "2022-11-08T10:40:32.679Z"
   },
   {
    "duration": 48,
    "start_time": "2022-11-08T10:40:32.693Z"
   },
   {
    "duration": 30,
    "start_time": "2022-11-08T10:40:32.743Z"
   },
   {
    "duration": 28,
    "start_time": "2022-11-08T10:40:32.775Z"
   },
   {
    "duration": 5,
    "start_time": "2022-11-08T10:40:32.807Z"
   },
   {
    "duration": 15,
    "start_time": "2022-11-08T10:40:32.815Z"
   },
   {
    "duration": 1450,
    "start_time": "2022-11-08T10:40:32.832Z"
   },
   {
    "duration": 1454,
    "start_time": "2022-11-08T10:40:34.284Z"
   },
   {
    "duration": 1564,
    "start_time": "2022-11-08T10:40:35.742Z"
   },
   {
    "duration": 1582,
    "start_time": "2022-11-08T10:40:37.307Z"
   },
   {
    "duration": 6,
    "start_time": "2022-11-08T10:40:46.187Z"
   },
   {
    "duration": 16,
    "start_time": "2022-11-08T10:40:50.049Z"
   },
   {
    "duration": 16,
    "start_time": "2022-11-08T10:41:10.617Z"
   },
   {
    "duration": 3,
    "start_time": "2022-11-08T10:42:48.306Z"
   },
   {
    "duration": 133,
    "start_time": "2022-11-08T10:42:50.598Z"
   },
   {
    "duration": 4,
    "start_time": "2022-11-08T10:44:04.918Z"
   },
   {
    "duration": 16,
    "start_time": "2022-11-08T10:44:07.755Z"
   },
   {
    "duration": 4,
    "start_time": "2022-11-08T10:44:56.680Z"
   },
   {
    "duration": 3,
    "start_time": "2022-11-08T10:44:57.112Z"
   },
   {
    "duration": 19,
    "start_time": "2022-11-08T10:44:57.397Z"
   },
   {
    "duration": 1463,
    "start_time": "2022-11-08T10:45:15.642Z"
   },
   {
    "duration": 4,
    "start_time": "2022-11-08T10:45:17.107Z"
   },
   {
    "duration": 13,
    "start_time": "2022-11-08T10:45:18.247Z"
   },
   {
    "duration": 1740,
    "start_time": "2022-11-08T11:04:30.166Z"
   },
   {
    "duration": 447,
    "start_time": "2022-11-08T11:04:31.907Z"
   },
   {
    "duration": 26,
    "start_time": "2022-11-08T11:04:32.357Z"
   },
   {
    "duration": 16,
    "start_time": "2022-11-08T11:04:32.386Z"
   },
   {
    "duration": 16,
    "start_time": "2022-11-08T11:04:32.404Z"
   },
   {
    "duration": 18,
    "start_time": "2022-11-08T11:04:32.423Z"
   },
   {
    "duration": 42,
    "start_time": "2022-11-08T11:04:32.443Z"
   },
   {
    "duration": 24,
    "start_time": "2022-11-08T11:04:32.487Z"
   },
   {
    "duration": 94,
    "start_time": "2022-11-08T11:04:32.513Z"
   },
   {
    "duration": 75,
    "start_time": "2022-11-08T11:04:32.610Z"
   },
   {
    "duration": 84,
    "start_time": "2022-11-08T11:04:32.688Z"
   },
   {
    "duration": 12,
    "start_time": "2022-11-08T11:04:32.774Z"
   },
   {
    "duration": 14,
    "start_time": "2022-11-08T11:04:32.788Z"
   },
   {
    "duration": 19,
    "start_time": "2022-11-08T11:04:32.805Z"
   },
   {
    "duration": 5,
    "start_time": "2022-11-08T11:04:32.826Z"
   },
   {
    "duration": 44,
    "start_time": "2022-11-08T11:04:32.834Z"
   },
   {
    "duration": 10,
    "start_time": "2022-11-08T11:04:32.880Z"
   },
   {
    "duration": 35,
    "start_time": "2022-11-08T11:04:32.892Z"
   },
   {
    "duration": 19,
    "start_time": "2022-11-08T11:04:32.929Z"
   },
   {
    "duration": 27,
    "start_time": "2022-11-08T11:04:32.950Z"
   },
   {
    "duration": 5,
    "start_time": "2022-11-08T11:04:32.979Z"
   },
   {
    "duration": 96,
    "start_time": "2022-11-08T11:04:32.986Z"
   },
   {
    "duration": 193,
    "start_time": "2022-11-08T11:04:33.084Z"
   },
   {
    "duration": 194,
    "start_time": "2022-11-08T11:04:33.278Z"
   },
   {
    "duration": 116,
    "start_time": "2022-11-08T11:04:33.475Z"
   },
   {
    "duration": 32,
    "start_time": "2022-11-08T11:04:33.593Z"
   },
   {
    "duration": 25,
    "start_time": "2022-11-08T11:04:33.627Z"
   },
   {
    "duration": 14,
    "start_time": "2022-11-08T11:04:33.655Z"
   },
   {
    "duration": 21,
    "start_time": "2022-11-08T11:04:33.671Z"
   },
   {
    "duration": 33,
    "start_time": "2022-11-08T11:04:33.695Z"
   },
   {
    "duration": 18,
    "start_time": "2022-11-08T11:04:33.731Z"
   },
   {
    "duration": 26,
    "start_time": "2022-11-08T11:04:33.751Z"
   },
   {
    "duration": 17,
    "start_time": "2022-11-08T11:04:33.779Z"
   },
   {
    "duration": 27,
    "start_time": "2022-11-08T11:04:33.798Z"
   },
   {
    "duration": 22,
    "start_time": "2022-11-08T11:04:33.827Z"
   },
   {
    "duration": 4,
    "start_time": "2022-11-08T11:04:47.131Z"
   },
   {
    "duration": 27,
    "start_time": "2022-11-08T11:04:48.330Z"
   },
   {
    "duration": 27,
    "start_time": "2022-11-08T11:04:50.023Z"
   },
   {
    "duration": 28,
    "start_time": "2022-11-08T11:04:50.561Z"
   },
   {
    "duration": 3,
    "start_time": "2022-11-08T11:04:55.464Z"
   },
   {
    "duration": 6,
    "start_time": "2022-11-08T11:04:58.928Z"
   },
   {
    "duration": 1460,
    "start_time": "2022-11-08T11:05:00.008Z"
   },
   {
    "duration": 1312,
    "start_time": "2022-11-08T11:05:03.815Z"
   },
   {
    "duration": 1308,
    "start_time": "2022-11-08T11:05:07.750Z"
   },
   {
    "duration": 1340,
    "start_time": "2022-11-08T11:05:13.573Z"
   },
   {
    "duration": 4,
    "start_time": "2022-11-08T11:05:16.922Z"
   },
   {
    "duration": 16,
    "start_time": "2022-11-08T11:05:17.720Z"
   },
   {
    "duration": 1660,
    "start_time": "2022-11-08T11:14:46.284Z"
   },
   {
    "duration": 426,
    "start_time": "2022-11-08T11:14:47.946Z"
   },
   {
    "duration": 18,
    "start_time": "2022-11-08T11:14:48.374Z"
   },
   {
    "duration": 15,
    "start_time": "2022-11-08T11:14:48.394Z"
   },
   {
    "duration": 19,
    "start_time": "2022-11-08T11:14:48.412Z"
   },
   {
    "duration": 40,
    "start_time": "2022-11-08T11:14:48.433Z"
   },
   {
    "duration": 10,
    "start_time": "2022-11-08T11:14:48.475Z"
   },
   {
    "duration": 12,
    "start_time": "2022-11-08T11:14:48.487Z"
   },
   {
    "duration": 92,
    "start_time": "2022-11-08T11:14:48.501Z"
   },
   {
    "duration": 90,
    "start_time": "2022-11-08T11:14:48.596Z"
   },
   {
    "duration": 62,
    "start_time": "2022-11-08T11:14:48.687Z"
   },
   {
    "duration": 30,
    "start_time": "2022-11-08T11:14:48.751Z"
   },
   {
    "duration": 15,
    "start_time": "2022-11-08T11:14:48.783Z"
   },
   {
    "duration": 16,
    "start_time": "2022-11-08T11:14:48.800Z"
   },
   {
    "duration": 148,
    "start_time": "2022-11-08T11:17:06.134Z"
   },
   {
    "duration": 495,
    "start_time": "2022-11-08T11:17:44.135Z"
   },
   {
    "duration": 412,
    "start_time": "2022-11-08T11:18:33.625Z"
   },
   {
    "duration": 976,
    "start_time": "2022-11-08T11:19:51.020Z"
   },
   {
    "duration": 985,
    "start_time": "2022-11-08T11:20:37.698Z"
   },
   {
    "duration": 984,
    "start_time": "2022-11-08T11:20:59.213Z"
   },
   {
    "duration": 464,
    "start_time": "2022-11-08T11:21:17.089Z"
   },
   {
    "duration": 1079,
    "start_time": "2022-11-08T11:26:19.906Z"
   },
   {
    "duration": 1206,
    "start_time": "2022-11-08T11:30:51.966Z"
   },
   {
    "duration": 1361,
    "start_time": "2022-11-08T11:31:12.723Z"
   },
   {
    "duration": 1333,
    "start_time": "2022-11-08T11:31:32.328Z"
   },
   {
    "duration": 1277,
    "start_time": "2022-11-08T11:32:08.956Z"
   },
   {
    "duration": 4,
    "start_time": "2022-11-08T11:37:51.279Z"
   },
   {
    "duration": 27,
    "start_time": "2022-11-08T11:37:51.285Z"
   },
   {
    "duration": 15,
    "start_time": "2022-11-08T11:38:49.597Z"
   },
   {
    "duration": 44,
    "start_time": "2022-11-08T11:40:12.515Z"
   },
   {
    "duration": 92,
    "start_time": "2022-11-08T11:45:53.485Z"
   },
   {
    "duration": 114,
    "start_time": "2022-11-08T11:46:16.471Z"
   },
   {
    "duration": 19,
    "start_time": "2022-11-08T11:46:31.286Z"
   },
   {
    "duration": 18,
    "start_time": "2022-11-08T11:47:20.474Z"
   },
   {
    "duration": 18,
    "start_time": "2022-11-08T11:48:15.916Z"
   },
   {
    "duration": 30,
    "start_time": "2022-11-08T11:49:39.314Z"
   },
   {
    "duration": 4,
    "start_time": "2022-11-08T11:51:31.131Z"
   },
   {
    "duration": 13,
    "start_time": "2022-11-08T11:52:22.485Z"
   },
   {
    "duration": 24,
    "start_time": "2022-11-08T11:54:06.036Z"
   },
   {
    "duration": 3,
    "start_time": "2022-11-08T11:54:20.067Z"
   },
   {
    "duration": 24,
    "start_time": "2022-11-08T11:54:36.246Z"
   },
   {
    "duration": 6,
    "start_time": "2022-11-08T11:54:50.817Z"
   },
   {
    "duration": 24,
    "start_time": "2022-11-08T11:54:55.805Z"
   },
   {
    "duration": 74,
    "start_time": "2022-11-08T11:55:16.377Z"
   },
   {
    "duration": 78,
    "start_time": "2022-11-08T11:55:53.001Z"
   },
   {
    "duration": 38,
    "start_time": "2022-11-08T11:56:22.599Z"
   },
   {
    "duration": 17,
    "start_time": "2022-11-08T11:56:33.838Z"
   },
   {
    "duration": 14,
    "start_time": "2022-11-08T11:56:37.543Z"
   },
   {
    "duration": 4,
    "start_time": "2022-11-08T11:56:48.969Z"
   },
   {
    "duration": 6,
    "start_time": "2022-11-08T11:56:53.516Z"
   },
   {
    "duration": 6,
    "start_time": "2022-11-08T11:56:55.080Z"
   },
   {
    "duration": 6,
    "start_time": "2022-11-08T11:57:49.901Z"
   },
   {
    "duration": 6,
    "start_time": "2022-11-08T11:57:50.415Z"
   },
   {
    "duration": 7,
    "start_time": "2022-11-08T11:57:50.906Z"
   },
   {
    "duration": 7,
    "start_time": "2022-11-08T11:57:51.389Z"
   },
   {
    "duration": 5,
    "start_time": "2022-11-08T11:57:51.798Z"
   },
   {
    "duration": 7,
    "start_time": "2022-11-08T11:57:58.710Z"
   },
   {
    "duration": 27,
    "start_time": "2022-11-08T11:58:01.702Z"
   },
   {
    "duration": 27,
    "start_time": "2022-11-08T11:58:02.520Z"
   },
   {
    "duration": 27,
    "start_time": "2022-11-08T11:58:03.133Z"
   },
   {
    "duration": 6,
    "start_time": "2022-11-08T11:58:19.613Z"
   },
   {
    "duration": 10,
    "start_time": "2022-11-08T11:58:20.623Z"
   },
   {
    "duration": 1599,
    "start_time": "2022-11-08T11:58:22.753Z"
   },
   {
    "duration": 1400,
    "start_time": "2022-11-08T11:58:26.485Z"
   },
   {
    "duration": 1510,
    "start_time": "2022-11-08T11:58:29.556Z"
   },
   {
    "duration": 1478,
    "start_time": "2022-11-08T12:01:35.296Z"
   },
   {
    "duration": 4,
    "start_time": "2022-11-08T12:01:41.168Z"
   },
   {
    "duration": 20,
    "start_time": "2022-11-08T12:01:50.132Z"
   },
   {
    "duration": 4,
    "start_time": "2022-11-08T12:04:33.534Z"
   },
   {
    "duration": 1599,
    "start_time": "2022-11-08T12:09:41.655Z"
   },
   {
    "duration": 3,
    "start_time": "2022-11-08T12:09:43.256Z"
   },
   {
    "duration": 655,
    "start_time": "2022-11-08T12:09:43.262Z"
   },
   {
    "duration": 23,
    "start_time": "2022-11-08T12:09:43.919Z"
   },
   {
    "duration": 21,
    "start_time": "2022-11-08T12:09:43.945Z"
   },
   {
    "duration": 15,
    "start_time": "2022-11-08T12:09:43.973Z"
   },
   {
    "duration": 19,
    "start_time": "2022-11-08T12:09:43.991Z"
   },
   {
    "duration": 11,
    "start_time": "2022-11-08T12:09:44.012Z"
   },
   {
    "duration": 47,
    "start_time": "2022-11-08T12:09:44.025Z"
   },
   {
    "duration": 62,
    "start_time": "2022-11-08T12:09:44.075Z"
   },
   {
    "duration": 74,
    "start_time": "2022-11-08T12:09:44.140Z"
   },
   {
    "duration": 73,
    "start_time": "2022-11-08T12:09:44.216Z"
   },
   {
    "duration": 13,
    "start_time": "2022-11-08T12:09:44.291Z"
   },
   {
    "duration": 31,
    "start_time": "2022-11-08T12:09:44.308Z"
   },
   {
    "duration": 35,
    "start_time": "2022-11-08T12:09:44.342Z"
   },
   {
    "duration": 1216,
    "start_time": "2022-11-08T12:09:44.378Z"
   },
   {
    "duration": 3,
    "start_time": "2022-11-08T12:09:45.596Z"
   },
   {
    "duration": 39,
    "start_time": "2022-11-08T12:09:45.601Z"
   },
   {
    "duration": 40,
    "start_time": "2022-11-08T12:09:45.642Z"
   },
   {
    "duration": 186,
    "start_time": "2022-11-08T12:09:45.686Z"
   },
   {
    "duration": 200,
    "start_time": "2022-11-08T12:09:45.874Z"
   },
   {
    "duration": 96,
    "start_time": "2022-11-08T12:09:46.076Z"
   },
   {
    "duration": 103,
    "start_time": "2022-11-08T12:09:46.174Z"
   },
   {
    "duration": 29,
    "start_time": "2022-11-08T12:09:46.279Z"
   },
   {
    "duration": 13,
    "start_time": "2022-11-08T12:10:21.405Z"
   },
   {
    "duration": 13,
    "start_time": "2022-11-08T12:10:21.420Z"
   },
   {
    "duration": 1567,
    "start_time": "2022-11-08T18:20:51.625Z"
   },
   {
    "duration": 4,
    "start_time": "2022-11-08T18:20:53.194Z"
   },
   {
    "duration": 1760,
    "start_time": "2022-11-08T18:20:53.199Z"
   },
   {
    "duration": 16,
    "start_time": "2022-11-08T18:20:54.961Z"
   },
   {
    "duration": 14,
    "start_time": "2022-11-08T18:20:54.979Z"
   },
   {
    "duration": 14,
    "start_time": "2022-11-08T18:20:54.995Z"
   },
   {
    "duration": 28,
    "start_time": "2022-11-08T18:20:55.011Z"
   },
   {
    "duration": 11,
    "start_time": "2022-11-08T18:20:55.041Z"
   },
   {
    "duration": 14,
    "start_time": "2022-11-08T18:20:55.054Z"
   },
   {
    "duration": 77,
    "start_time": "2022-11-08T18:20:55.071Z"
   },
   {
    "duration": 56,
    "start_time": "2022-11-08T18:20:55.150Z"
   },
   {
    "duration": 77,
    "start_time": "2022-11-08T18:20:55.207Z"
   },
   {
    "duration": 9,
    "start_time": "2022-11-08T18:20:55.286Z"
   },
   {
    "duration": 12,
    "start_time": "2022-11-08T18:20:55.296Z"
   },
   {
    "duration": 10,
    "start_time": "2022-11-08T18:20:55.327Z"
   },
   {
    "duration": 981,
    "start_time": "2022-11-08T18:20:55.339Z"
   },
   {
    "duration": 5,
    "start_time": "2022-11-08T18:20:56.322Z"
   },
   {
    "duration": 13,
    "start_time": "2022-11-08T18:20:56.328Z"
   },
   {
    "duration": 34,
    "start_time": "2022-11-08T18:20:56.343Z"
   },
   {
    "duration": 56,
    "start_time": "2022-11-08T18:20:56.379Z"
   },
   {
    "duration": 192,
    "start_time": "2022-11-08T18:20:56.437Z"
   },
   {
    "duration": 107,
    "start_time": "2022-11-08T18:20:56.631Z"
   },
   {
    "duration": 85,
    "start_time": "2022-11-08T18:20:56.743Z"
   },
   {
    "duration": 114,
    "start_time": "2022-11-08T18:20:56.830Z"
   },
   {
    "duration": 11,
    "start_time": "2022-11-08T18:20:56.946Z"
   },
   {
    "duration": 8,
    "start_time": "2022-11-08T18:20:56.959Z"
   },
   {
    "duration": 6,
    "start_time": "2022-11-08T18:20:56.969Z"
   },
   {
    "duration": 5,
    "start_time": "2022-11-08T18:20:56.978Z"
   },
   {
    "duration": 5,
    "start_time": "2022-11-08T18:20:56.984Z"
   },
   {
    "duration": 37,
    "start_time": "2022-11-08T18:20:56.991Z"
   },
   {
    "duration": 8,
    "start_time": "2022-11-08T18:20:57.030Z"
   },
   {
    "duration": 5,
    "start_time": "2022-11-08T18:20:57.039Z"
   },
   {
    "duration": 6,
    "start_time": "2022-11-08T18:20:57.046Z"
   },
   {
    "duration": 3,
    "start_time": "2022-11-08T18:20:57.054Z"
   },
   {
    "duration": 26,
    "start_time": "2022-11-08T18:20:57.058Z"
   },
   {
    "duration": 53,
    "start_time": "2022-11-08T18:20:57.086Z"
   },
   {
    "duration": 23,
    "start_time": "2022-11-08T18:20:57.141Z"
   },
   {
    "duration": 4,
    "start_time": "2022-11-08T18:20:57.165Z"
   },
   {
    "duration": 9,
    "start_time": "2022-11-08T18:20:57.170Z"
   },
   {
    "duration": 1227,
    "start_time": "2022-11-08T18:20:57.181Z"
   },
   {
    "duration": 1191,
    "start_time": "2022-11-08T18:20:58.410Z"
   },
   {
    "duration": 1193,
    "start_time": "2022-11-08T18:20:59.603Z"
   },
   {
    "duration": 1203,
    "start_time": "2022-11-08T18:21:00.798Z"
   },
   {
    "duration": 4,
    "start_time": "2022-11-08T18:21:02.002Z"
   },
   {
    "duration": 35,
    "start_time": "2022-11-08T18:21:02.007Z"
   },
   {
    "duration": 44,
    "start_time": "2022-11-09T03:32:20.197Z"
   },
   {
    "duration": 1428,
    "start_time": "2022-11-09T03:32:30.720Z"
   },
   {
    "duration": 3,
    "start_time": "2022-11-09T03:32:32.150Z"
   },
   {
    "duration": 804,
    "start_time": "2022-11-09T03:32:32.154Z"
   },
   {
    "duration": 14,
    "start_time": "2022-11-09T03:32:32.959Z"
   },
   {
    "duration": 13,
    "start_time": "2022-11-09T03:32:32.975Z"
   },
   {
    "duration": 11,
    "start_time": "2022-11-09T03:32:32.989Z"
   },
   {
    "duration": 11,
    "start_time": "2022-11-09T03:32:33.001Z"
   },
   {
    "duration": 8,
    "start_time": "2022-11-09T03:32:33.013Z"
   },
   {
    "duration": 9,
    "start_time": "2022-11-09T03:32:33.022Z"
   },
   {
    "duration": 66,
    "start_time": "2022-11-09T03:32:33.032Z"
   },
   {
    "duration": 43,
    "start_time": "2022-11-09T03:32:33.099Z"
   },
   {
    "duration": 58,
    "start_time": "2022-11-09T03:32:33.143Z"
   },
   {
    "duration": 8,
    "start_time": "2022-11-09T03:32:33.203Z"
   },
   {
    "duration": 9,
    "start_time": "2022-11-09T03:32:33.214Z"
   },
   {
    "duration": 8,
    "start_time": "2022-11-09T03:32:33.224Z"
   },
   {
    "duration": 955,
    "start_time": "2022-11-09T03:32:33.233Z"
   },
   {
    "duration": 2,
    "start_time": "2022-11-09T03:32:34.190Z"
   },
   {
    "duration": 12,
    "start_time": "2022-11-09T03:32:34.194Z"
   },
   {
    "duration": 32,
    "start_time": "2022-11-09T03:32:34.207Z"
   },
   {
    "duration": 49,
    "start_time": "2022-11-09T03:32:34.241Z"
   },
   {
    "duration": 100,
    "start_time": "2022-11-09T03:32:34.293Z"
   },
   {
    "duration": 100,
    "start_time": "2022-11-09T03:32:34.395Z"
   },
   {
    "duration": 88,
    "start_time": "2022-11-09T03:32:34.497Z"
   },
   {
    "duration": 108,
    "start_time": "2022-11-09T03:32:34.588Z"
   },
   {
    "duration": 8,
    "start_time": "2022-11-09T03:32:34.698Z"
   },
   {
    "duration": 8,
    "start_time": "2022-11-09T03:32:34.707Z"
   },
   {
    "duration": 5,
    "start_time": "2022-11-09T03:32:34.717Z"
   },
   {
    "duration": 7,
    "start_time": "2022-11-09T03:32:34.723Z"
   },
   {
    "duration": 6,
    "start_time": "2022-11-09T03:32:34.731Z"
   },
   {
    "duration": 6,
    "start_time": "2022-11-09T03:32:34.738Z"
   },
   {
    "duration": 9,
    "start_time": "2022-11-09T03:32:34.745Z"
   },
   {
    "duration": 31,
    "start_time": "2022-11-09T03:32:34.755Z"
   },
   {
    "duration": 7,
    "start_time": "2022-11-09T03:32:34.787Z"
   },
   {
    "duration": 3,
    "start_time": "2022-11-09T03:32:34.795Z"
   },
   {
    "duration": 22,
    "start_time": "2022-11-09T03:32:34.799Z"
   },
   {
    "duration": 20,
    "start_time": "2022-11-09T03:32:34.823Z"
   },
   {
    "duration": 43,
    "start_time": "2022-11-09T03:32:34.845Z"
   },
   {
    "duration": 2,
    "start_time": "2022-11-09T03:32:34.890Z"
   },
   {
    "duration": 5,
    "start_time": "2022-11-09T03:32:34.894Z"
   },
   {
    "duration": 992,
    "start_time": "2022-11-09T03:32:34.901Z"
   },
   {
    "duration": 972,
    "start_time": "2022-11-09T03:32:35.896Z"
   },
   {
    "duration": 1041,
    "start_time": "2022-11-09T03:32:36.870Z"
   },
   {
    "duration": 1005,
    "start_time": "2022-11-09T03:32:37.913Z"
   },
   {
    "duration": 5,
    "start_time": "2022-11-09T03:48:22.936Z"
   },
   {
    "duration": 7,
    "start_time": "2022-11-09T03:53:47.877Z"
   },
   {
    "duration": 4,
    "start_time": "2022-11-09T03:54:06.350Z"
   },
   {
    "duration": 1043,
    "start_time": "2022-11-09T04:06:35.394Z"
   },
   {
    "duration": 1030,
    "start_time": "2022-11-09T04:07:44.737Z"
   },
   {
    "duration": 1060,
    "start_time": "2022-11-09T04:08:15.066Z"
   },
   {
    "duration": 103,
    "start_time": "2022-11-09T04:09:29.969Z"
   },
   {
    "duration": 65,
    "start_time": "2022-11-09T04:10:43.214Z"
   },
   {
    "duration": 1117,
    "start_time": "2022-11-09T04:12:00.664Z"
   },
   {
    "duration": 6,
    "start_time": "2022-11-09T04:12:03.893Z"
   },
   {
    "duration": 1069,
    "start_time": "2022-11-09T04:12:05.554Z"
   },
   {
    "duration": 1126,
    "start_time": "2022-11-09T04:12:11.295Z"
   },
   {
    "duration": 1017,
    "start_time": "2022-11-09T04:12:14.667Z"
   },
   {
    "duration": 4,
    "start_time": "2022-11-09T04:29:48.626Z"
   },
   {
    "duration": 716,
    "start_time": "2022-11-09T04:30:01.438Z"
   },
   {
    "duration": 698,
    "start_time": "2022-11-09T04:30:11.972Z"
   },
   {
    "duration": 678,
    "start_time": "2022-11-09T04:30:31.505Z"
   },
   {
    "duration": 659,
    "start_time": "2022-11-09T04:30:41.975Z"
   },
   {
    "duration": 1387,
    "start_time": "2022-11-09T04:34:13.904Z"
   },
   {
    "duration": 5,
    "start_time": "2022-11-09T04:34:15.293Z"
   },
   {
    "duration": 379,
    "start_time": "2022-11-09T04:34:15.299Z"
   },
   {
    "duration": 20,
    "start_time": "2022-11-09T04:34:15.680Z"
   },
   {
    "duration": 17,
    "start_time": "2022-11-09T04:34:15.703Z"
   },
   {
    "duration": 12,
    "start_time": "2022-11-09T04:34:15.722Z"
   },
   {
    "duration": 11,
    "start_time": "2022-11-09T04:34:15.736Z"
   },
   {
    "duration": 48,
    "start_time": "2022-11-09T04:34:15.749Z"
   },
   {
    "duration": 22,
    "start_time": "2022-11-09T04:34:15.799Z"
   },
   {
    "duration": 53,
    "start_time": "2022-11-09T04:34:15.822Z"
   },
   {
    "duration": 67,
    "start_time": "2022-11-09T04:34:15.876Z"
   },
   {
    "duration": 70,
    "start_time": "2022-11-09T04:34:15.945Z"
   },
   {
    "duration": 10,
    "start_time": "2022-11-09T04:34:16.017Z"
   },
   {
    "duration": 9,
    "start_time": "2022-11-09T04:34:16.030Z"
   },
   {
    "duration": 10,
    "start_time": "2022-11-09T04:34:16.040Z"
   },
   {
    "duration": 1095,
    "start_time": "2022-11-09T04:34:16.051Z"
   },
   {
    "duration": 4,
    "start_time": "2022-11-09T04:34:17.148Z"
   },
   {
    "duration": 22,
    "start_time": "2022-11-09T04:34:17.153Z"
   },
   {
    "duration": 60,
    "start_time": "2022-11-09T04:34:17.177Z"
   },
   {
    "duration": 167,
    "start_time": "2022-11-09T04:34:17.239Z"
   },
   {
    "duration": 111,
    "start_time": "2022-11-09T04:34:17.410Z"
   },
   {
    "duration": 145,
    "start_time": "2022-11-09T04:34:17.586Z"
   },
   {
    "duration": 174,
    "start_time": "2022-11-09T04:34:17.733Z"
   },
   {
    "duration": 24,
    "start_time": "2022-11-09T04:34:17.909Z"
   },
   {
    "duration": 10,
    "start_time": "2022-11-09T04:34:17.935Z"
   },
   {
    "duration": 13,
    "start_time": "2022-11-09T04:34:17.947Z"
   },
   {
    "duration": 4,
    "start_time": "2022-11-09T04:34:17.962Z"
   },
   {
    "duration": 8,
    "start_time": "2022-11-09T04:34:17.967Z"
   },
   {
    "duration": 7,
    "start_time": "2022-11-09T04:34:17.990Z"
   },
   {
    "duration": 17,
    "start_time": "2022-11-09T04:34:17.998Z"
   },
   {
    "duration": 7,
    "start_time": "2022-11-09T04:34:18.017Z"
   },
   {
    "duration": 7,
    "start_time": "2022-11-09T04:34:18.026Z"
   },
   {
    "duration": 13,
    "start_time": "2022-11-09T04:34:18.035Z"
   },
   {
    "duration": 11,
    "start_time": "2022-11-09T04:34:18.049Z"
   },
   {
    "duration": 33,
    "start_time": "2022-11-09T04:34:18.062Z"
   },
   {
    "duration": 24,
    "start_time": "2022-11-09T04:34:18.097Z"
   },
   {
    "duration": 22,
    "start_time": "2022-11-09T04:34:18.122Z"
   },
   {
    "duration": 3,
    "start_time": "2022-11-09T04:34:18.145Z"
   },
   {
    "duration": 10,
    "start_time": "2022-11-09T04:34:18.150Z"
   },
   {
    "duration": 799,
    "start_time": "2022-11-09T04:34:18.162Z"
   },
   {
    "duration": 733,
    "start_time": "2022-11-09T04:34:18.965Z"
   },
   {
    "duration": 785,
    "start_time": "2022-11-09T04:34:19.700Z"
   }
  ],
  "kernelspec": {
   "display_name": "Python 3 (ipykernel)",
   "language": "python",
   "name": "python3"
  },
  "language_info": {
   "codemirror_mode": {
    "name": "ipython",
    "version": 3
   },
   "file_extension": ".py",
   "mimetype": "text/x-python",
   "name": "python",
   "nbconvert_exporter": "python",
   "pygments_lexer": "ipython3",
   "version": "3.9.12"
  },
  "toc": {
   "base_numbering": 1,
   "nav_menu": {},
   "number_sections": true,
   "sideBar": true,
   "skip_h1_title": true,
   "title_cell": "Table of Contents",
   "title_sidebar": "Contents",
   "toc_cell": false,
   "toc_position": {
    "height": "calc(100% - 180px)",
    "left": "10px",
    "top": "150px",
    "width": "200.825px"
   },
   "toc_section_display": true,
   "toc_window_display": true
  }
 },
 "nbformat": 4,
 "nbformat_minor": 2
}
